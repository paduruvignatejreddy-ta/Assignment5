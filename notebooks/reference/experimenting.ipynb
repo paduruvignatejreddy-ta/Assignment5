{
 "cells": [
  {
   "cell_type": "code",
   "execution_count": 77,
   "metadata": {},
   "outputs": [],
   "source": [
    "import os\n",
    "import os.path as op\n",
    "import shutil\n",
    "\n",
    "# standard third party imports\n",
    "import numpy as np\n",
    "import pandas as pd\n",
    "from matplotlib import pyplot as plt\n",
    "from sklearn.pipeline import Pipeline\n",
    "from sklearn.feature_selection import SelectFromModel\n",
    "from sklearn.model_selection import GridSearchCV\n",
    "from sklearn.preprocessing import FunctionTransformer\n",
    "from sklearn.compose import ColumnTransformer\n",
    "\n",
    "# impute missing values\n",
    "from sklearn.experimental import enable_iterative_imputer  # noqa\n",
    "from sklearn.impute import KNNImputer, IterativeImputer, SimpleImputer\n",
    "from sklearn.tree import DecisionTreeRegressor\n",
    "from category_encoders import TargetEncoder\n"
   ]
  },
  {
   "cell_type": "code",
   "execution_count": 78,
   "metadata": {},
   "outputs": [
    {
     "name": "stdout",
     "output_type": "stream",
     "text": [
      "The autoreload extension is already loaded. To reload it, use:\n",
      "  %reload_ext autoreload\n"
     ]
    }
   ],
   "source": [
    "%load_ext autoreload\n",
    "%autoreload 2"
   ]
  },
  {
   "cell_type": "code",
   "execution_count": 79,
   "metadata": {},
   "outputs": [],
   "source": [
    "import warnings\n",
    "from numba import NumbaDeprecationWarning\n",
    "\n",
    "warnings.filterwarnings(\n",
    "    \"ignore\",\n",
    "    message=\"pandas.Int64Index is deprecated and will be removed from pandas in a future version. Use pandas.Index with the appropriate dtype instead.\",\n",
    "    category=FutureWarning,\n",
    ")\n",
    "warnings.filterwarnings(\n",
    "    \"ignore\",\n",
    "    message=\"pandas.Float64Index is deprecated and will be removed from pandas in a future version. Use pandas.Index with the appropriate dtype instead.\",\n",
    "    category=FutureWarning,\n",
    ")\n",
    "warnings.filterwarnings(\"ignore\", category=NumbaDeprecationWarning)"
   ]
  },
  {
   "cell_type": "code",
   "execution_count": 80,
   "metadata": {},
   "outputs": [],
   "source": [
    "# standard code-template imports\n",
    "from ta_lib.core.api import (\n",
    "    create_context, get_dataframe, get_feature_names_from_column_transformer, string_cleaning,\n",
    "    get_package_path, display_as_tabs, save_pipeline, load_pipeline, initialize_environment,\n",
    "    load_dataset, save_dataset, DEFAULT_ARTIFACTS_PATH\n",
    ")\n",
    "\n",
    "import ta_lib.eda.api as eda\n",
    "from xgboost import XGBRegressor\n",
    "from ta_lib.regression.api import SKLStatsmodelOLS\n",
    "from ta_lib.regression.api import RegressionComparison, RegressionReport\n",
    "import ta_lib.reports.api as reports\n",
    "from ta_lib.data_processing.api import Outlier\n",
    "\n",
    "initialize_environment(debug=False, hide_warnings=True)"
   ]
  },
  {
   "cell_type": "code",
   "execution_count": 81,
   "metadata": {},
   "outputs": [],
   "source": [
    "artifacts_folder = DEFAULT_ARTIFACTS_PATH"
   ]
  },
  {
   "cell_type": "code",
   "execution_count": 82,
   "metadata": {},
   "outputs": [],
   "source": [
    "config_path = op.join('newconf', 'config.yml')\n",
    "context = create_context(config_path)"
   ]
  },
  {
   "cell_type": "code",
   "execution_count": 83,
   "metadata": {},
   "outputs": [
    {
     "name": "stdout",
     "output_type": "stream",
     "text": [
      "(16512, 9) (16512, 1)\n",
      "(4128, 9) (4128, 1)\n"
     ]
    }
   ],
   "source": [
    "train_X = load_dataset(context, 'train/housing/features')\n",
    "train_y = load_dataset(context, 'train/housing/target')\n",
    "print(train_X.shape, train_y.shape)\n",
    "\n",
    "test_X = load_dataset(context, 'test/housing/features')\n",
    "test_y = load_dataset(context, 'test/housing/target')\n",
    "print(test_X.shape, test_y.shape)"
   ]
  },
  {
   "cell_type": "code",
   "execution_count": 84,
   "metadata": {},
   "outputs": [],
   "source": [
    "# collecting different types of columns for transformations\n",
    "cat_columns = train_X.select_dtypes('object').columns\n",
    "num_columns = train_X.select_dtypes('number').columns"
   ]
  },
  {
   "cell_type": "code",
   "execution_count": 85,
   "metadata": {},
   "outputs": [
    {
     "name": "stdout",
     "output_type": "stream",
     "text": [
      "(16512, 9)\n",
      "(16512, 9)\n"
     ]
    }
   ],
   "source": [
    "outlier_transformer = Outlier(method='mean')\n",
    "print(train_X.shape)\n",
    "train_X = outlier_transformer.fit_transform(train_X)\n",
    "print(train_X.shape)"
   ]
  },
  {
   "cell_type": "code",
   "execution_count": 86,
   "metadata": {},
   "outputs": [],
   "source": [
    "\n",
    "\n",
    "# NOTE: the list of transformations here are not sequential but weighted \n",
    "# (if multiple transforms are specified for a particular column)\n",
    "# for sequential transforms use a pipeline as shown above.\n",
    "features_transformer = ColumnTransformer([\n",
    "    \n",
    "    ## categorical columns\n",
    "    ('tgt_enc', TargetEncoder(return_df=False),\n",
    "     list(set(cat_columns))),\n",
    "    ## numeric columns\n",
    "    ('med_enc', SimpleImputer(strategy='median'), num_columns),\n",
    "])\n"
   ]
  },
  {
   "cell_type": "code",
   "execution_count": 87,
   "metadata": {},
   "outputs": [],
   "source": [
    "sample_X = train_X.sample(frac=0.1, random_state=context.random_seed)\n",
    "sample_y = train_y.loc[sample_X.index]\n",
    "\n",
    "sample_train_X = get_dataframe(\n",
    "    features_transformer.fit_transform(sample_X, sample_y), \n",
    "    get_feature_names_from_column_transformer(features_transformer)\n",
    ")\n",
    "\n",
    "# nothing to do for target\n",
    "sample_train_y = sample_y"
   ]
  },
  {
   "cell_type": "code",
   "execution_count": 88,
   "metadata": {},
   "outputs": [],
   "source": [
    "train_X = get_dataframe(\n",
    "    features_transformer.fit_transform(train_X, train_y), \n",
    "    get_feature_names_from_column_transformer(features_transformer)\n",
    ")"
   ]
  },
  {
   "cell_type": "code",
   "execution_count": 89,
   "metadata": {},
   "outputs": [
    {
     "data": {
      "text/html": [
       "<div>\n",
       "<style scoped>\n",
       "    .dataframe tbody tr th:only-of-type {\n",
       "        vertical-align: middle;\n",
       "    }\n",
       "\n",
       "    .dataframe tbody tr th {\n",
       "        vertical-align: top;\n",
       "    }\n",
       "\n",
       "    .dataframe thead th {\n",
       "        text-align: right;\n",
       "    }\n",
       "</style>\n",
       "<table border=\"1\" class=\"dataframe\">\n",
       "  <thead>\n",
       "    <tr style=\"text-align: right;\">\n",
       "      <th></th>\n",
       "      <th>ocean_proximity</th>\n",
       "      <th>longitude</th>\n",
       "      <th>latitude</th>\n",
       "      <th>housing_median_age</th>\n",
       "      <th>total_rooms</th>\n",
       "      <th>total_bedrooms</th>\n",
       "      <th>population</th>\n",
       "      <th>households</th>\n",
       "      <th>median_income</th>\n",
       "    </tr>\n",
       "  </thead>\n",
       "  <tbody>\n",
       "    <tr>\n",
       "      <th>0</th>\n",
       "      <td>240065.448564</td>\n",
       "      <td>-118.04</td>\n",
       "      <td>33.99</td>\n",
       "      <td>47.0</td>\n",
       "      <td>2530.0</td>\n",
       "      <td>565.0</td>\n",
       "      <td>1262.0</td>\n",
       "      <td>509.0</td>\n",
       "      <td>3.6475</td>\n",
       "    </tr>\n",
       "    <tr>\n",
       "      <th>1</th>\n",
       "      <td>258873.332604</td>\n",
       "      <td>-122.20</td>\n",
       "      <td>37.82</td>\n",
       "      <td>37.0</td>\n",
       "      <td>1229.0</td>\n",
       "      <td>181.0</td>\n",
       "      <td>420.0</td>\n",
       "      <td>176.0</td>\n",
       "      <td>7.0175</td>\n",
       "    </tr>\n",
       "    <tr>\n",
       "      <th>2</th>\n",
       "      <td>240065.448564</td>\n",
       "      <td>-118.25</td>\n",
       "      <td>34.09</td>\n",
       "      <td>52.0</td>\n",
       "      <td>3142.0</td>\n",
       "      <td>765.0</td>\n",
       "      <td>1728.0</td>\n",
       "      <td>682.0</td>\n",
       "      <td>3.1864</td>\n",
       "    </tr>\n",
       "    <tr>\n",
       "      <th>3</th>\n",
       "      <td>240065.448564</td>\n",
       "      <td>-117.99</td>\n",
       "      <td>33.70</td>\n",
       "      <td>25.0</td>\n",
       "      <td>2017.0</td>\n",
       "      <td>357.0</td>\n",
       "      <td>1063.0</td>\n",
       "      <td>369.0</td>\n",
       "      <td>4.0345</td>\n",
       "    </tr>\n",
       "    <tr>\n",
       "      <th>4</th>\n",
       "      <td>124912.128694</td>\n",
       "      <td>-120.88</td>\n",
       "      <td>37.52</td>\n",
       "      <td>2.0</td>\n",
       "      <td>1871.0</td>\n",
       "      <td>409.0</td>\n",
       "      <td>707.0</td>\n",
       "      <td>256.0</td>\n",
       "      <td>2.6103</td>\n",
       "    </tr>\n",
       "    <tr>\n",
       "      <th>...</th>\n",
       "      <td>...</td>\n",
       "      <td>...</td>\n",
       "      <td>...</td>\n",
       "      <td>...</td>\n",
       "      <td>...</td>\n",
       "      <td>...</td>\n",
       "      <td>...</td>\n",
       "      <td>...</td>\n",
       "      <td>...</td>\n",
       "    </tr>\n",
       "    <tr>\n",
       "      <th>16507</th>\n",
       "      <td>240065.448564</td>\n",
       "      <td>-118.16</td>\n",
       "      <td>34.09</td>\n",
       "      <td>33.0</td>\n",
       "      <td>1515.0</td>\n",
       "      <td>415.0</td>\n",
       "      <td>1345.0</td>\n",
       "      <td>346.0</td>\n",
       "      <td>2.3750</td>\n",
       "    </tr>\n",
       "    <tr>\n",
       "      <th>16508</th>\n",
       "      <td>124912.128694</td>\n",
       "      <td>-116.46</td>\n",
       "      <td>33.78</td>\n",
       "      <td>33.0</td>\n",
       "      <td>2565.0</td>\n",
       "      <td>745.0</td>\n",
       "      <td>2301.0</td>\n",
       "      <td>638.0</td>\n",
       "      <td>2.5477</td>\n",
       "    </tr>\n",
       "    <tr>\n",
       "      <th>16509</th>\n",
       "      <td>258873.332604</td>\n",
       "      <td>-122.07</td>\n",
       "      <td>37.58</td>\n",
       "      <td>16.0</td>\n",
       "      <td>1606.0</td>\n",
       "      <td>240.0</td>\n",
       "      <td>1117.0</td>\n",
       "      <td>268.0</td>\n",
       "      <td>6.0661</td>\n",
       "    </tr>\n",
       "    <tr>\n",
       "      <th>16510</th>\n",
       "      <td>258873.332604</td>\n",
       "      <td>-122.43</td>\n",
       "      <td>37.78</td>\n",
       "      <td>52.0</td>\n",
       "      <td>1952.0</td>\n",
       "      <td>628.0</td>\n",
       "      <td>1284.0</td>\n",
       "      <td>576.0</td>\n",
       "      <td>2.1050</td>\n",
       "    </tr>\n",
       "    <tr>\n",
       "      <th>16511</th>\n",
       "      <td>240065.448564</td>\n",
       "      <td>-121.71</td>\n",
       "      <td>36.90</td>\n",
       "      <td>16.0</td>\n",
       "      <td>1680.0</td>\n",
       "      <td>285.0</td>\n",
       "      <td>1103.0</td>\n",
       "      <td>275.0</td>\n",
       "      <td>4.6125</td>\n",
       "    </tr>\n",
       "  </tbody>\n",
       "</table>\n",
       "<p>16512 rows × 9 columns</p>\n",
       "</div>"
      ],
      "text/plain": [
       "       ocean_proximity  longitude  latitude  housing_median_age  total_rooms  \\\n",
       "0        240065.448564    -118.04     33.99                47.0       2530.0   \n",
       "1        258873.332604    -122.20     37.82                37.0       1229.0   \n",
       "2        240065.448564    -118.25     34.09                52.0       3142.0   \n",
       "3        240065.448564    -117.99     33.70                25.0       2017.0   \n",
       "4        124912.128694    -120.88     37.52                 2.0       1871.0   \n",
       "...                ...        ...       ...                 ...          ...   \n",
       "16507    240065.448564    -118.16     34.09                33.0       1515.0   \n",
       "16508    124912.128694    -116.46     33.78                33.0       2565.0   \n",
       "16509    258873.332604    -122.07     37.58                16.0       1606.0   \n",
       "16510    258873.332604    -122.43     37.78                52.0       1952.0   \n",
       "16511    240065.448564    -121.71     36.90                16.0       1680.0   \n",
       "\n",
       "       total_bedrooms  population  households  median_income  \n",
       "0               565.0      1262.0       509.0         3.6475  \n",
       "1               181.0       420.0       176.0         7.0175  \n",
       "2               765.0      1728.0       682.0         3.1864  \n",
       "3               357.0      1063.0       369.0         4.0345  \n",
       "4               409.0       707.0       256.0         2.6103  \n",
       "...               ...         ...         ...            ...  \n",
       "16507           415.0      1345.0       346.0         2.3750  \n",
       "16508           745.0      2301.0       638.0         2.5477  \n",
       "16509           240.0      1117.0       268.0         6.0661  \n",
       "16510           628.0      1284.0       576.0         2.1050  \n",
       "16511           285.0      1103.0       275.0         4.6125  \n",
       "\n",
       "[16512 rows x 9 columns]"
      ]
     },
     "execution_count": 89,
     "metadata": {},
     "output_type": "execute_result"
    }
   ],
   "source": [
    "train_X"
   ]
  },
  {
   "cell_type": "code",
   "execution_count": 90,
   "metadata": {},
   "outputs": [
    {
     "data": {},
     "metadata": {},
     "output_type": "display_data"
    },
    {
     "data": {
      "application/vnd.holoviews_exec.v0+json": "",
      "text/html": [
       "<div id='52685'>\n",
       "  <div class=\"bk-root\" id=\"5957389a-1420-48fc-803e-b20fd82944e2\" data-root-id=\"52685\"></div>\n",
       "</div>\n",
       "<script type=\"application/javascript\">(function(root) {\n",
       "  function embed_document(root) {\n",
       "    var docs_json = {\"47aa5da6-aceb-4f75-a835-5e6ffafb6f0c\":{\"defs\":[{\"extends\":null,\"module\":null,\"name\":\"ReactiveHTML1\",\"overrides\":[],\"properties\":[]},{\"extends\":null,\"module\":null,\"name\":\"FlexBox1\",\"overrides\":[],\"properties\":[{\"default\":\"flex-start\",\"kind\":null,\"name\":\"align_content\"},{\"default\":\"flex-start\",\"kind\":null,\"name\":\"align_items\"},{\"default\":\"row\",\"kind\":null,\"name\":\"flex_direction\"},{\"default\":\"wrap\",\"kind\":null,\"name\":\"flex_wrap\"},{\"default\":\"flex-start\",\"kind\":null,\"name\":\"justify_content\"}]},{\"extends\":null,\"module\":null,\"name\":\"GridStack1\",\"overrides\":[],\"properties\":[{\"default\":\"warn\",\"kind\":null,\"name\":\"mode\"},{\"default\":null,\"kind\":null,\"name\":\"ncols\"},{\"default\":null,\"kind\":null,\"name\":\"nrows\"},{\"default\":true,\"kind\":null,\"name\":\"allow_resize\"},{\"default\":true,\"kind\":null,\"name\":\"allow_drag\"},{\"default\":[],\"kind\":null,\"name\":\"state\"}]},{\"extends\":null,\"module\":null,\"name\":\"click1\",\"overrides\":[],\"properties\":[{\"default\":\"\",\"kind\":null,\"name\":\"terminal_output\"},{\"default\":\"\",\"kind\":null,\"name\":\"debug_name\"},{\"default\":0,\"kind\":null,\"name\":\"clears\"}]},{\"extends\":null,\"module\":null,\"name\":\"NotificationAreaBase1\",\"overrides\":[],\"properties\":[{\"default\":\"bottom-right\",\"kind\":null,\"name\":\"position\"},{\"default\":0,\"kind\":null,\"name\":\"_clear\"}]},{\"extends\":null,\"module\":null,\"name\":\"NotificationArea1\",\"overrides\":[],\"properties\":[{\"default\":[],\"kind\":null,\"name\":\"notifications\"},{\"default\":\"bottom-right\",\"kind\":null,\"name\":\"position\"},{\"default\":0,\"kind\":null,\"name\":\"_clear\"},{\"default\":[{\"background\":\"#ffc107\",\"icon\":{\"className\":\"fas fa-exclamation-triangle\",\"color\":\"white\",\"tagName\":\"i\"},\"type\":\"warning\"},{\"background\":\"#007bff\",\"icon\":{\"className\":\"fas fa-info-circle\",\"color\":\"white\",\"tagName\":\"i\"},\"type\":\"info\"}],\"kind\":null,\"name\":\"types\"}]},{\"extends\":null,\"module\":null,\"name\":\"Notification\",\"overrides\":[],\"properties\":[{\"default\":null,\"kind\":null,\"name\":\"background\"},{\"default\":3000,\"kind\":null,\"name\":\"duration\"},{\"default\":null,\"kind\":null,\"name\":\"icon\"},{\"default\":\"\",\"kind\":null,\"name\":\"message\"},{\"default\":null,\"kind\":null,\"name\":\"notification_type\"},{\"default\":false,\"kind\":null,\"name\":\"_destroyed\"}]},{\"extends\":null,\"module\":null,\"name\":\"TemplateActions1\",\"overrides\":[],\"properties\":[{\"default\":0,\"kind\":null,\"name\":\"open_modal\"},{\"default\":0,\"kind\":null,\"name\":\"close_modal\"}]},{\"extends\":null,\"module\":null,\"name\":\"MaterialTemplateActions1\",\"overrides\":[],\"properties\":[{\"default\":0,\"kind\":null,\"name\":\"open_modal\"},{\"default\":0,\"kind\":null,\"name\":\"close_modal\"}]}],\"roots\":{\"references\":[{\"attributes\":{},\"id\":\"52711\",\"type\":\"PanTool\"},{\"attributes\":{},\"id\":\"52855\",\"type\":\"Selection\"},{\"attributes\":{\"toolbars\":[{\"id\":\"52716\"}],\"tools\":[{\"id\":\"52692\"},{\"id\":\"52710\"},{\"id\":\"52711\"},{\"id\":\"52712\"},{\"id\":\"52713\"},{\"id\":\"52714\"}]},\"id\":\"52918\",\"type\":\"ProxyToolbar\"},{\"attributes\":{\"fill_alpha\":0.2,\"fill_color\":\"#30a2da\",\"hatch_alpha\":0.2,\"hatch_color\":\"#30a2da\",\"line_alpha\":0.2,\"x\":{\"field\":\"x\"},\"y\":{\"field\":\"y\"}},\"id\":\"52743\",\"type\":\"Patch\"},{\"attributes\":{\"below\":[{\"id\":\"52702\"}],\"center\":[{\"id\":\"52705\"},{\"id\":\"52709\"}],\"extra_y_ranges\":{\"twiny\":{\"id\":\"52747\"}},\"height\":300,\"left\":[{\"id\":\"52706\"}],\"margin\":null,\"min_border_bottom\":10,\"min_border_left\":10,\"min_border_right\":10,\"min_border_top\":10,\"renderers\":[{\"id\":\"52735\"},{\"id\":\"52744\"}],\"right\":[{\"id\":\"52748\"}],\"sizing_mode\":\"fixed\",\"title\":{\"id\":\"52694\"},\"toolbar\":{\"id\":\"52716\"},\"toolbar_location\":null,\"x_range\":{\"id\":\"52690\"},\"x_scale\":{\"id\":\"52698\"},\"y_range\":{\"id\":\"52691\"},\"y_scale\":{\"id\":\"52700\"}},\"id\":\"52693\",\"subtype\":\"Figure\",\"type\":\"Plot\"},{\"attributes\":{},\"id\":\"52755\",\"type\":\"AllLabels\"},{\"attributes\":{\"format\":\"0,0.0[00000]\"},\"id\":\"53048\",\"type\":\"NumberFormatter\"},{\"attributes\":{\"format\":\"0,0.0[00000]\"},\"id\":\"53073\",\"type\":\"NumberFormatter\"},{\"attributes\":{\"format\":\"0,0.0[00000]\"},\"id\":\"53063\",\"type\":\"NumberFormatter\"},{\"attributes\":{\"source\":{\"id\":\"52729\"}},\"id\":\"52736\",\"type\":\"CDSView\"},{\"attributes\":{\"margin\":[5,5,5,5],\"name\":\"HSpacer146002\",\"sizing_mode\":\"stretch_width\"},\"id\":\"52686\",\"type\":\"Spacer\"},{\"attributes\":{\"columns\":[{\"id\":\"53050\"},{\"id\":\"53055\"},{\"id\":\"53060\"},{\"id\":\"53065\"},{\"id\":\"53070\"},{\"id\":\"53075\"},{\"id\":\"53080\"},{\"id\":\"53085\"}],\"height\":60,\"reorderable\":false,\"source\":{\"id\":\"52854\"},\"view\":{\"id\":\"52898\"}},\"id\":\"52896\",\"type\":\"DataTable\"},{\"attributes\":{\"coordinates\":null,\"data_source\":{\"id\":\"52738\"},\"glyph\":{\"id\":\"52741\"},\"group\":null,\"hover_glyph\":null,\"muted_glyph\":{\"id\":\"52743\"},\"nonselection_glyph\":{\"id\":\"52742\"},\"selection_glyph\":{\"id\":\"52746\"},\"view\":{\"id\":\"52745\"},\"y_range_name\":\"twiny\"},\"id\":\"52744\",\"type\":\"GlyphRenderer\"},{\"attributes\":{\"format\":\"0,0.0[00000]\"},\"id\":\"53083\",\"type\":\"NumberFormatter\"},{\"attributes\":{},\"id\":\"52761\",\"type\":\"UnionRenderers\"},{\"attributes\":{\"bottom_units\":\"screen\",\"coordinates\":null,\"fill_alpha\":0.5,\"fill_color\":\"lightgrey\",\"group\":null,\"left_units\":\"screen\",\"level\":\"overlay\",\"line_alpha\":1.0,\"line_color\":\"black\",\"line_dash\":[4,4],\"line_width\":2,\"right_units\":\"screen\",\"syncable\":false,\"top_units\":\"screen\"},\"id\":\"52715\",\"type\":\"BoxAnnotation\"},{\"attributes\":{\"children\":[{\"id\":\"52688\"},{\"id\":\"53106\"}],\"margin\":[0,0,0,0],\"name\":\"Column146006\"},\"id\":\"52687\",\"type\":\"Column\"},{\"attributes\":{\"coordinates\":null,\"group\":null,\"text\":\"Density Plot for ocean_proximity\",\"text_color\":\"black\",\"text_font_size\":\"12pt\"},\"id\":\"52694\",\"type\":\"Title\"},{\"attributes\":{\"children\":[[{\"id\":\"52693\"},0,0],[{\"id\":\"52896\"},1,0]]},\"id\":\"52917\",\"type\":\"GridBox\"},{\"attributes\":{\"end\":393821.1808680673,\"reset_end\":393821.1808680673,\"reset_start\":86736.83774730065,\"start\":86736.83774730065,\"tags\":[[[\"x\",\"x\",null]]]},\"id\":\"52690\",\"type\":\"Range1d\"},{\"attributes\":{},\"id\":\"52703\",\"type\":\"BasicTicker\"},{\"attributes\":{\"client_comm_id\":\"b58ed39aed014a1e953ab607fd46a702\",\"comm_id\":\"403d591df5004ea58ce30b438159f9de\",\"plot_id\":\"52685\"},\"id\":\"53163\",\"type\":\"panel.models.comm_manager.CommManager\"},{\"attributes\":{\"end\":2.581302880081959e-05},\"id\":\"52747\",\"type\":\"Range1d\"},{\"attributes\":{\"margin\":[5,5,5,5],\"name\":\"HSpacer146003\",\"sizing_mode\":\"stretch_width\"},\"id\":\"52689\",\"type\":\"Spacer\"},{\"attributes\":{},\"id\":\"52730\",\"type\":\"Selection\"},{\"attributes\":{\"axis_label\":\"Frequency\",\"coordinates\":null,\"formatter\":{\"id\":\"52727\"},\"group\":null,\"major_label_policy\":{\"id\":\"52728\"},\"ticker\":{\"id\":\"52707\"}},\"id\":\"52706\",\"type\":\"LinearAxis\"},{\"attributes\":{\"bottom\":{\"value\":0},\"fill_alpha\":{\"value\":0.2},\"fill_color\":{\"value\":\"#00fff0\"},\"hatch_alpha\":{\"value\":0.2},\"hatch_color\":{\"value\":\"#00fff0\"},\"left\":{\"field\":\"left\"},\"line_alpha\":{\"value\":0.2},\"right\":{\"field\":\"right\"},\"top\":{\"field\":\"top\"}},\"id\":\"52734\",\"type\":\"Quad\"},{\"attributes\":{\"format\":\"0,0.0[00000]\"},\"id\":\"53078\",\"type\":\"NumberFormatter\"},{\"attributes\":{\"margin\":[20,20,20,20],\"min_width\":250,\"options\":[\"ocean_proximity\",\"housing_median_age\"],\"title\":\"col\",\"value\":\"ocean_proximity\",\"width\":250},\"id\":\"53109\",\"type\":\"panel.models.widgets.CustomSelect\"},{\"attributes\":{\"fill_alpha\":0.5,\"fill_color\":\"#30a2da\",\"hatch_color\":\"#30a2da\",\"x\":{\"field\":\"x\"},\"y\":{\"field\":\"y\"}},\"id\":\"52741\",\"type\":\"Patch\"},{\"attributes\":{},\"id\":\"52728\",\"type\":\"AllLabels\"},{\"attributes\":{},\"id\":\"53084\",\"type\":\"NumberEditor\"},{\"attributes\":{\"axis\":{\"id\":\"52702\"},\"coordinates\":null,\"grid_line_color\":null,\"group\":null,\"ticker\":null},\"id\":\"52705\",\"type\":\"Grid\"},{\"attributes\":{\"bottom\":{\"value\":0},\"fill_alpha\":{\"value\":1.0},\"fill_color\":{\"value\":\"#00fff0\"},\"hatch_alpha\":{\"value\":1.0},\"hatch_color\":{\"value\":\"#00fff0\"},\"hatch_scale\":{\"value\":12.0},\"hatch_weight\":{\"value\":1.0},\"left\":{\"field\":\"left\"},\"line_alpha\":{\"value\":1.0},\"line_cap\":{\"value\":\"butt\"},\"line_color\":{\"value\":\"black\"},\"line_dash\":{\"value\":[]},\"line_dash_offset\":{\"value\":0},\"line_join\":{\"value\":\"bevel\"},\"line_width\":{\"value\":1},\"right\":{\"field\":\"right\"},\"top\":{\"field\":\"top\"}},\"id\":\"52737\",\"type\":\"Quad\"},{\"attributes\":{\"data\":{\"left\":{\"__ndarray__\":\"Cm8hDwJ//kAwCbeIBqgAQdta3QmMEAJBhqwDixF5A0Ex/ikMl+EEQdxPUI0cSgZBhqF2DqKyB0Ey85yPJxsJQdxEwxCtgwpBiJbpkTLsC0Ey6A8TuFQNQd45NpQ9vQ5BxEWuiuESEEGabkFLJMcQQW+X1AtnexFBRMBnzKkvEkEa6fqM7OMSQfARjk0vmBNBxTohDnJMFEGaY7TOtAAVQQ==\",\"dtype\":\"float64\",\"order\":\"little\",\"shape\":[20]},\"right\":{\"__ndarray__\":\"MAm3iAaoAEHbWt0JjBACQYasA4sReQNBMf4pDJfhBEHcT1CNHEoGQYahdg6isgdBMvOcjycbCUHcRMMQrYMKQYiW6ZEy7AtBMugPE7hUDUHeOTaUPb0OQcRFrorhEhBBmm5BSyTHEEFvl9QLZ3sRQUTAZ8ypLxJBGun6jOzjEkHwEY5NL5gTQcU6IQ5yTBRBmmO0zrQAFUFwjEeP97QVQQ==\",\"dtype\":\"float64\",\"order\":\"little\",\"shape\":[20]},\"top\":[5245,0,0,0,0,0,0,0,0,7310,2125,1828,0,0,0,0,0,0,0,4]},\"selected\":{\"id\":\"52730\"},\"selection_policy\":{\"id\":\"52759\"}},\"id\":\"52729\",\"type\":\"ColumnDataSource\"},{\"attributes\":{},\"id\":\"52700\",\"type\":\"LinearScale\"},{\"attributes\":{\"axis\":{\"id\":\"52706\"},\"coordinates\":null,\"dimension\":1,\"grid_line_color\":null,\"group\":null,\"ticker\":null},\"id\":\"52709\",\"type\":\"Grid\"},{\"attributes\":{},\"id\":\"52714\",\"type\":\"ResetTool\"},{\"attributes\":{},\"id\":\"53064\",\"type\":\"NumberEditor\"},{\"attributes\":{\"margin\":[5,5,5,5],\"name\":\"HSpacer145999\",\"sizing_mode\":\"stretch_width\"},\"id\":\"53107\",\"type\":\"Spacer\"},{\"attributes\":{},\"id\":\"52739\",\"type\":\"Selection\"},{\"attributes\":{\"format\":\"0,0.0[00000]\"},\"id\":\"53058\",\"type\":\"NumberFormatter\"},{\"attributes\":{\"fill_alpha\":0.5,\"fill_color\":\"#30a2da\",\"hatch_alpha\":0.1,\"hatch_color\":\"#30a2da\",\"line_alpha\":1,\"x\":{\"field\":\"x\"},\"y\":{\"field\":\"y\"}},\"id\":\"52742\",\"type\":\"Patch\"},{\"attributes\":{\"editor\":{\"id\":\"53079\"},\"field\":\"A_75_percent\",\"formatter\":{\"id\":\"53078\"},\"title\":\"75%\"},\"id\":\"53080\",\"type\":\"TableColumn\"},{\"attributes\":{\"children\":[{\"id\":\"52919\"},{\"id\":\"52917\"}]},\"id\":\"52920\",\"type\":\"Column\"},{\"attributes\":{\"children\":[{\"id\":\"52686\"},{\"id\":\"52687\"},{\"id\":\"53111\"}],\"margin\":[0,0,0,0],\"name\":\"Row145993\"},\"id\":\"52685\",\"type\":\"Row\"},{\"attributes\":{},\"id\":\"53054\",\"type\":\"NumberEditor\"},{\"attributes\":{\"callback\":null,\"renderers\":[{\"id\":\"52744\"}],\"tags\":[\"hv_created\"],\"tooltips\":[[\"ocean_proximity\",\"@{ocean_proximity}\"],[\"Density\",\"@{ocean_proximity_density}\"]]},\"id\":\"52692\",\"type\":\"HoverTool\"},{\"attributes\":{\"editor\":{\"id\":\"53054\"},\"field\":\"mean\",\"formatter\":{\"id\":\"53053\"},\"title\":\"mean\"},\"id\":\"53055\",\"type\":\"TableColumn\"},{\"attributes\":{\"end\":7383.1,\"reset_end\":8041.0,\"reset_start\":0.0,\"tags\":[[[\"Frequency\",\"Frequency\",null]]]},\"id\":\"52691\",\"type\":\"Range1d\"},{\"attributes\":{\"editor\":{\"id\":\"53064\"},\"field\":\"min\",\"formatter\":{\"id\":\"53063\"},\"title\":\"min\"},\"id\":\"53065\",\"type\":\"TableColumn\"},{\"attributes\":{\"bottom\":{\"value\":0},\"fill_alpha\":{\"value\":0.1},\"fill_color\":{\"value\":\"#00fff0\"},\"hatch_alpha\":{\"value\":0.1},\"hatch_color\":{\"value\":\"#00fff0\"},\"left\":{\"field\":\"left\"},\"line_alpha\":{\"value\":0.1},\"right\":{\"field\":\"right\"},\"top\":{\"field\":\"top\"}},\"id\":\"52733\",\"type\":\"Quad\"},{\"attributes\":{\"editor\":{\"id\":\"53059\"},\"field\":\"std\",\"formatter\":{\"id\":\"53058\"},\"title\":\"std\"},\"id\":\"53060\",\"type\":\"TableColumn\"},{\"attributes\":{},\"id\":\"52707\",\"type\":\"BasicTicker\"},{\"attributes\":{},\"id\":\"52754\",\"type\":\"BasicTickFormatter\"},{\"attributes\":{},\"id\":\"53069\",\"type\":\"NumberEditor\"},{\"attributes\":{\"editor\":{\"id\":\"53084\"},\"field\":\"max\",\"formatter\":{\"id\":\"53083\"},\"title\":\"max\"},\"id\":\"53085\",\"type\":\"TableColumn\"},{\"attributes\":{\"format\":\"0,0.0[00000]\"},\"id\":\"53053\",\"type\":\"NumberFormatter\"},{\"attributes\":{},\"id\":\"52698\",\"type\":\"LinearScale\"},{\"attributes\":{\"axis_label\":\"y, ocean_proximity_density\",\"coordinates\":null,\"formatter\":{\"id\":\"52754\"},\"group\":null,\"major_label_policy\":{\"id\":\"52755\"},\"ticker\":{\"id\":\"52753\"},\"y_range_name\":\"twiny\"},\"id\":\"52748\",\"type\":\"LinearAxis\"},{\"attributes\":{\"data\":{\"A_25_percent\":{\"__ndarray__\":\"SOF6FAJ//kA=\",\"dtype\":\"float64\",\"order\":\"little\",\"shape\":[1]},\"A_50_percent\":{\"__ndarray__\":\"mpmZmQtODUE=\",\"dtype\":\"float64\",\"order\":\"little\",\"shape\":[1]},\"A_75_percent\":{\"__ndarray__\":\"mpmZmQtODUE=\",\"dtype\":\"float64\",\"order\":\"little\",\"shape\":[1]},\"count\":{\"__ndarray__\":\"AAAAAAAg0EA=\",\"dtype\":\"float64\",\"order\":\"little\",\"shape\":[1]},\"max\":{\"__ndarray__\":\"9ihcj/e0FUE=\",\"dtype\":\"float64\",\"order\":\"little\",\"shape\":[1]},\"mean\":{\"__ndarray__\":\"9ihcj4RCCUE=\",\"dtype\":\"float64\",\"order\":\"little\",\"shape\":[1]},\"min\":{\"__ndarray__\":\"SOF6FAJ//kA=\",\"dtype\":\"float64\",\"order\":\"little\",\"shape\":[1]},\"std\":{\"__ndarray__\":\"UrgehUt+60A=\",\"dtype\":\"float64\",\"order\":\"little\",\"shape\":[1]}},\"selected\":{\"id\":\"52855\"},\"selection_policy\":{\"id\":\"52915\"}},\"id\":\"52854\",\"type\":\"ColumnDataSource\"},{\"attributes\":{},\"id\":\"53079\",\"type\":\"NumberEditor\"},{\"attributes\":{\"overlay\":{\"id\":\"52715\"}},\"id\":\"52713\",\"type\":\"BoxZoomTool\"},{\"attributes\":{},\"id\":\"52915\",\"type\":\"UnionRenderers\"},{\"attributes\":{\"editor\":{\"id\":\"53074\"},\"field\":\"A_50_percent\",\"formatter\":{\"id\":\"53073\"},\"title\":\"50%\"},\"id\":\"53075\",\"type\":\"TableColumn\"},{\"attributes\":{\"children\":[{\"id\":\"53109\"}],\"css_classes\":[\"panel-widget-box\"],\"margin\":[5,5,5,5],\"name\":\"WidgetBox145994\"},\"id\":\"53108\",\"type\":\"Column\"},{\"attributes\":{\"editor\":{\"id\":\"53069\"},\"field\":\"A_25_percent\",\"formatter\":{\"id\":\"53068\"},\"title\":\"25%\"},\"id\":\"53070\",\"type\":\"TableColumn\"},{\"attributes\":{\"children\":[{\"id\":\"52689\"},{\"id\":\"52922\"},{\"id\":\"53105\"}],\"margin\":[0,0,0,0],\"name\":\"Row146005\"},\"id\":\"52688\",\"type\":\"Row\"},{\"attributes\":{\"margin\":[5,5,5,5],\"name\":\"HSpacer146004\",\"sizing_mode\":\"stretch_width\"},\"id\":\"53105\",\"type\":\"Spacer\"},{\"attributes\":{\"editor\":{\"id\":\"53049\"},\"field\":\"count\",\"formatter\":{\"id\":\"53048\"},\"title\":\"count\"},\"id\":\"53050\",\"type\":\"TableColumn\"},{\"attributes\":{\"margin\":[5,5,5,5],\"name\":\"HSpacer146000\",\"sizing_mode\":\"stretch_width\"},\"id\":\"53110\",\"type\":\"Spacer\"},{\"attributes\":{},\"id\":\"53049\",\"type\":\"NumberEditor\"},{\"attributes\":{\"children\":[{\"id\":\"53107\"},{\"id\":\"53108\"},{\"id\":\"53110\"}],\"margin\":[0,0,0,0],\"name\":\"Row146001\"},\"id\":\"53106\",\"type\":\"Row\"},{\"attributes\":{\"data\":{\"x\":{\"__ndarray__\":\"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\",\"dtype\":\"float64\",\"order\":\"little\",\"shape\":[200]},\"y\":{\"__ndarray__\":\"AAAAAAAAAAAAAAAAAAAAAAAAAAAAAAAAAAAAAAAAAAAAAAAAAAAAAAAAAAAAAAAAAAAAAAAAAAAAAAAAAAAAAAAAAAAAAAAAAAAAAAAAAAAAAAAAAAAAAAAAAAAAAAAAAAAAAAAAAAAAAAAAAAAAAAAAAAAAAAAAAAAAAAAAAAAAAAAAAAAAAAAAAAAAAAAAAAAAAAAAAAAAAAAAAAAAAAAAAAAAAAAAAAAAAAAAAAAAAAAAAAAAAAAAAAAAAAAAAAAAAAAAAAAAAAAAAAAAAAAAAAAAAAAAAAAAAAAAAAAAAAAAAAAAAAAAAAAAAAAAAAAAAAAAAAAAAAAAAAAAAAAAAAAAAAAAAAAAAAAAAAAAAAAAAAAAAAAAAAAAAAAAAAAAAAAAAAAAAAAAAAAAAAAAAAAAAAAAAAAAAAAAAAAAAAAAAAAAAAAAAAAAAAAAAAAAAAAAAAAAAAAAAAAAAAAAAAAAAAAAAAAAAAAAAAAAAAAAAAAAAAAAAAAAAAAAAAAAAAAAAAAAAAAAAAAAAAAAAAAAAAAAAAAAAAAAAAAAAAAAAAAAAAAAAAAAAAAAAAAAAAAAAAAAAAAAAAAAAAAAAAAAAAAAAAAAAAAAAAAAAAAAAAAAAAAAAAAAAAAAAAAAAAAAAAAAAAAAAAAAAAAAAAAAAAAAAAAAAAAAAAAAAAAAAAAAAAAAAAAAAAAAAAAAAAAAAAAAAAAAAAAAAAAAAAAAAAAAAAAAAAAAAAAAAAAAAAAAAAAAAAAAAAAAAAAAAAAAAAAAAAAAAAAAAAAAAAAAAAAAAAAAAAAAAAAAAAAAAAAAAAAAAAAAAAAAAAAAAAAAAAAAAAAAAAAAAAAAAAAAAAAAAAAAAAAAAAAAAAAAAAAAAAAAAAAAAAAAAAAAAAAAAAAAAAAAAAAAAAAAAAAAAAAAAAAAAAAAAAAAAAAAAAAAAAAAAAAAAAAAAAAAAAAAAAAAAAAAAAAAAAAAAAAAAAAAAAAAAAAAAAAAAAAAAAAAAAAAAAAAAAAAAAAAAAAAAAAAAAAAAAAAAAAAAAAAAAAAAAAAAAAAAADUYcGkekfiPRT5lU+3hfg9TdaYslYeDT7SNAidp5oePucMMrJteCw+NoynoGFxNz5s6+Ue7hVBPgdDKjo0C0Y+3P/qJmgsST6J6otw73FJPqEGg67Vw0Y+K+LXDgcHQj4o4gkMj0U5Pgp40o12Wy8+pEw1jiM4IT6B0hwWJb0QPu5PFKgZzvw9Nqsz5fvv5T0C/pdqZZPNPV0Wez2DpbE9DHuDPYOjkj3De6m21mxxPY1YYfId10w9I8m0ojE4JT1b/wg1SNsBPe5O9cEqqRQ90IEZyrOZRD3dax7JFhBzPRQ/LhYuQp89gWHG0XGxxj0Cd+2SQi7tPYBUoGuXnhA+lwRxY4PGMD4++j8jagZOPka91nAA12c+GGQrUtrPgD6P83ONcxeVPqBvEAKRlqc+6/dRxCmXtz7Dtyx91jHFPtj8tVWhONE+f8KaIBGO2T4TVgnG9IzhPkxe2f3xteY+aGlIxpI77D7fqn4/liDxPtzD0O5QYfQ+77W5V6mR9z74gKeeHQD6PoXvIeKGzPo+J2almqZb+T4LpgANQr/1Pi5lHqIfwvA+Ztt+njQU5z77uzR/DE3cPs0PjAJ11c4+VtZc3hvOvT5q9+BlHYqpPo1PobGPY5M+9QM1m7MSej7gUfA+tQtfPnLYhK82XUA+NDn7kRCLHj7YiZWYbTv5PSEnLJ2Bc9I99MXKXtripz3+zNIU1157PTXQpba3wks9/6k42UPsGD3Uvw2da+fjPLfypDksO7g85WEhkNmF3Twv3fOJM2ESPUWADEficEQ9CCvRUYIfdD0IaJ6az4ihPSoKnO0RDMs9PUYcRsZ28j0sxNojLVAWPv0Gv3cB3jc+jWcSHsGYVj5yEccmp+9yPhM7b75dF4w+9j9FHVVxoj6KxmANNG+1Pq2iiQezDMY+Ooy9X6cT1D4NM00eMS7gPtvPsbmfFec+xiSHD6Um7T5vFqe1mkrwPvflKo8WHvA+cTu70Dg67D6uyvD65ODlPr2PiNPfBN4+x1vf+3o60j53ieLgNJjDPnAqSbK0pLI+6D6Zy7lmnz4p3xi8J2iHPg==\",\"dtype\":\"float64\",\"order\":\"little\",\"shape\":[200]}},\"selected\":{\"id\":\"52739\"},\"selection_policy\":{\"id\":\"52761\"}},\"id\":\"52738\",\"type\":\"ColumnDataSource\"},{\"attributes\":{},\"id\":\"52727\",\"type\":\"BasicTickFormatter\"},{\"attributes\":{\"toolbar\":{\"id\":\"52918\"},\"toolbar_location\":\"above\"},\"id\":\"52919\",\"type\":\"ToolbarBox\"},{\"attributes\":{},\"id\":\"52724\",\"type\":\"BasicTickFormatter\"},{\"attributes\":{},\"id\":\"52712\",\"type\":\"WheelZoomTool\"},{\"attributes\":{},\"id\":\"53059\",\"type\":\"NumberEditor\"},{\"attributes\":{},\"id\":\"52753\",\"type\":\"BasicTicker\"},{\"attributes\":{\"margin\":[5,5,5,5],\"name\":\"HSpacer146007\",\"sizing_mode\":\"stretch_width\"},\"id\":\"53111\",\"type\":\"Spacer\"},{\"attributes\":{\"source\":{\"id\":\"52854\"}},\"id\":\"52898\",\"type\":\"CDSView\"},{\"attributes\":{\"axis_label\":\"ocean_proximity\",\"coordinates\":null,\"formatter\":{\"id\":\"52724\"},\"group\":null,\"major_label_policy\":{\"id\":\"52725\"},\"ticker\":{\"id\":\"52703\"}},\"id\":\"52702\",\"type\":\"LinearAxis\"},{\"attributes\":{},\"id\":\"52725\",\"type\":\"AllLabels\"},{\"attributes\":{},\"id\":\"52710\",\"type\":\"SaveTool\"},{\"attributes\":{\"style\":{\"white-space\":\"nowrap\"},\"text\":\"<span style=\\\"color:black;font-family:Arial;font-style:bold;font-weight:bold;font-size:12pt\\\">col: ocean_proximity</span>\",\"width\":450},\"id\":\"52921\",\"type\":\"Div\"},{\"attributes\":{\"children\":[{\"id\":\"52921\"},{\"id\":\"52920\"}]},\"id\":\"52922\",\"type\":\"Column\"},{\"attributes\":{},\"id\":\"52759\",\"type\":\"UnionRenderers\"},{\"attributes\":{\"coordinates\":null,\"data_source\":{\"id\":\"52729\"},\"glyph\":{\"id\":\"52732\"},\"group\":null,\"hover_glyph\":null,\"muted_glyph\":{\"id\":\"52734\"},\"nonselection_glyph\":{\"id\":\"52733\"},\"selection_glyph\":{\"id\":\"52737\"},\"view\":{\"id\":\"52736\"}},\"id\":\"52735\",\"type\":\"GlyphRenderer\"},{\"attributes\":{\"source\":{\"id\":\"52738\"}},\"id\":\"52745\",\"type\":\"CDSView\"},{\"attributes\":{\"fill_alpha\":0.5,\"fill_color\":\"#30a2da\",\"hatch_color\":\"#30a2da\",\"x\":{\"field\":\"x\"},\"y\":{\"field\":\"y\"}},\"id\":\"52746\",\"type\":\"Patch\"},{\"attributes\":{\"tools\":[{\"id\":\"52692\"},{\"id\":\"52710\"},{\"id\":\"52711\"},{\"id\":\"52712\"},{\"id\":\"52713\"},{\"id\":\"52714\"}]},\"id\":\"52716\",\"type\":\"Toolbar\"},{\"attributes\":{\"bottom\":{\"value\":0},\"fill_color\":{\"value\":\"#00fff0\"},\"hatch_color\":{\"value\":\"#00fff0\"},\"left\":{\"field\":\"left\"},\"right\":{\"field\":\"right\"},\"top\":{\"field\":\"top\"}},\"id\":\"52732\",\"type\":\"Quad\"},{\"attributes\":{\"format\":\"0,0.0[00000]\"},\"id\":\"53068\",\"type\":\"NumberFormatter\"},{\"attributes\":{},\"id\":\"53074\",\"type\":\"NumberEditor\"}],\"root_ids\":[\"52685\",\"53163\"]},\"title\":\"Bokeh Application\",\"version\":\"2.4.3\"}};\n",
       "    var render_items = [{\"docid\":\"47aa5da6-aceb-4f75-a835-5e6ffafb6f0c\",\"root_ids\":[\"52685\"],\"roots\":{\"52685\":\"5957389a-1420-48fc-803e-b20fd82944e2\"}}];\n",
       "    root.Bokeh.embed.embed_items_notebook(docs_json, render_items);\n",
       "  }\n",
       "  if (root.Bokeh !== undefined && root.Bokeh.Panel !== undefined) {\n",
       "    embed_document(root);\n",
       "  } else {\n",
       "    var attempts = 0;\n",
       "    var timer = setInterval(function(root) {\n",
       "      if (root.Bokeh !== undefined && root.Bokeh.Panel !== undefined) {\n",
       "        clearInterval(timer);\n",
       "        embed_document(root);\n",
       "      } else if (document.readyState == \"complete\") {\n",
       "        attempts++;\n",
       "        if (attempts > 200) {\n",
       "          clearInterval(timer);\n",
       "          console.log(\"Bokeh: ERROR: Unable to run BokehJS code because BokehJS library is missing\");\n",
       "        }\n",
       "      }\n",
       "    }, 25, root)\n",
       "  }\n",
       "})(window);</script>"
      ],
      "text/plain": [
       ":DynamicMap   [col]\n",
       "   :Layout\n",
       "      .Overlay.I :Overlay\n",
       "         .Histogram.I    :Histogram   [x]   (Frequency)\n",
       "         .Distribution.I :Distribution   [ocean_proximity]   (Density)\n",
       "      .Table.I   :Table   [count,mean,std,min,25%,50%,75%,max]"
      ]
     },
     "execution_count": 90,
     "metadata": {
      "application/vnd.holoviews_exec.v0+json": {
       "id": "52685"
      }
     },
     "output_type": "execute_result"
    }
   ],
   "source": [
    "out = eda.get_density_plots(train_X, cols=['ocean_proximity', 'housing_median_age'])\n",
    "out"
   ]
  },
  {
   "cell_type": "code",
   "execution_count": 91,
   "metadata": {},
   "outputs": [],
   "source": [
    "# save the plots are html\n",
    "reports.create_report({'univariate': out}, name='reports_new/feature_analysis_univariate')"
   ]
  },
  {
   "cell_type": "code",
   "execution_count": 92,
   "metadata": {},
   "outputs": [
    {
     "name": "stderr",
     "output_type": "stream",
     "text": [
      "p-value may not be accurate for N > 5000.\n"
     ]
    }
   ],
   "source": [
    "reports.feature_analysis(train_X,'reports_new/feature_analysis_report.html')"
   ]
  },
  {
   "cell_type": "code",
   "execution_count": 93,
   "metadata": {},
   "outputs": [
    {
     "data": {
      "text/html": [
       "<div>\n",
       "<style scoped>\n",
       "    .dataframe tbody tr th:only-of-type {\n",
       "        vertical-align: middle;\n",
       "    }\n",
       "\n",
       "    .dataframe tbody tr th {\n",
       "        vertical-align: top;\n",
       "    }\n",
       "\n",
       "    .dataframe thead th {\n",
       "        text-align: right;\n",
       "    }\n",
       "</style>\n",
       "<table border=\"1\" class=\"dataframe\">\n",
       "  <thead>\n",
       "    <tr style=\"text-align: right;\">\n",
       "      <th></th>\n",
       "      <th>Variable 1</th>\n",
       "      <th>Variable 2</th>\n",
       "      <th>Corr Coef</th>\n",
       "      <th>Abs Corr Coef</th>\n",
       "    </tr>\n",
       "  </thead>\n",
       "  <tbody>\n",
       "    <tr>\n",
       "      <th>0</th>\n",
       "      <td>households</td>\n",
       "      <td>total_bedrooms</td>\n",
       "      <td>0.972044</td>\n",
       "      <td>0.972044</td>\n",
       "    </tr>\n",
       "    <tr>\n",
       "      <th>1</th>\n",
       "      <td>latitude</td>\n",
       "      <td>longitude</td>\n",
       "      <td>-0.925628</td>\n",
       "      <td>0.925628</td>\n",
       "    </tr>\n",
       "    <tr>\n",
       "      <th>2</th>\n",
       "      <td>total_bedrooms</td>\n",
       "      <td>total_rooms</td>\n",
       "      <td>0.920203</td>\n",
       "      <td>0.920203</td>\n",
       "    </tr>\n",
       "    <tr>\n",
       "      <th>3</th>\n",
       "      <td>households</td>\n",
       "      <td>total_rooms</td>\n",
       "      <td>0.912943</td>\n",
       "      <td>0.912943</td>\n",
       "    </tr>\n",
       "    <tr>\n",
       "      <th>4</th>\n",
       "      <td>households</td>\n",
       "      <td>population</td>\n",
       "      <td>0.908202</td>\n",
       "      <td>0.908202</td>\n",
       "    </tr>\n",
       "    <tr>\n",
       "      <th>5</th>\n",
       "      <td>population</td>\n",
       "      <td>total_bedrooms</td>\n",
       "      <td>0.872036</td>\n",
       "      <td>0.872036</td>\n",
       "    </tr>\n",
       "    <tr>\n",
       "      <th>6</th>\n",
       "      <td>population</td>\n",
       "      <td>total_rooms</td>\n",
       "      <td>0.841843</td>\n",
       "      <td>0.841843</td>\n",
       "    </tr>\n",
       "  </tbody>\n",
       "</table>\n",
       "</div>"
      ],
      "text/plain": [
       "       Variable 1      Variable 2  Corr Coef  Abs Corr Coef\n",
       "0      households  total_bedrooms   0.972044       0.972044\n",
       "1        latitude       longitude  -0.925628       0.925628\n",
       "2  total_bedrooms     total_rooms   0.920203       0.920203\n",
       "3      households     total_rooms   0.912943       0.912943\n",
       "4      households      population   0.908202       0.908202\n",
       "5      population  total_bedrooms   0.872036       0.872036\n",
       "6      population     total_rooms   0.841843       0.841843"
      ]
     },
     "execution_count": 93,
     "metadata": {},
     "output_type": "execute_result"
    }
   ],
   "source": [
    "out = eda.get_correlation_table(train_X)\n",
    "out[out[\"Abs Corr Coef\"] > 0.6]"
   ]
  },
  {
   "cell_type": "code",
   "execution_count": 94,
   "metadata": {},
   "outputs": [
    {
     "data": {},
     "metadata": {},
     "output_type": "display_data"
    },
    {
     "data": {
      "application/vnd.holoviews_exec.v0+json": "",
      "text/html": [
       "<div id='60547'>\n",
       "  <div class=\"bk-root\" id=\"7a2fbb3d-ef1f-4249-9d02-18a030eb3cd7\" data-root-id=\"60547\"></div>\n",
       "</div>\n",
       "<script type=\"application/javascript\">(function(root) {\n",
       "  function embed_document(root) {\n",
       "    var docs_json = {\"88763f9b-074c-4b32-a34a-7c8f37db4091\":{\"defs\":[{\"extends\":null,\"module\":null,\"name\":\"ReactiveHTML1\",\"overrides\":[],\"properties\":[]},{\"extends\":null,\"module\":null,\"name\":\"FlexBox1\",\"overrides\":[],\"properties\":[{\"default\":\"flex-start\",\"kind\":null,\"name\":\"align_content\"},{\"default\":\"flex-start\",\"kind\":null,\"name\":\"align_items\"},{\"default\":\"row\",\"kind\":null,\"name\":\"flex_direction\"},{\"default\":\"wrap\",\"kind\":null,\"name\":\"flex_wrap\"},{\"default\":\"flex-start\",\"kind\":null,\"name\":\"justify_content\"}]},{\"extends\":null,\"module\":null,\"name\":\"GridStack1\",\"overrides\":[],\"properties\":[{\"default\":\"warn\",\"kind\":null,\"name\":\"mode\"},{\"default\":null,\"kind\":null,\"name\":\"ncols\"},{\"default\":null,\"kind\":null,\"name\":\"nrows\"},{\"default\":true,\"kind\":null,\"name\":\"allow_resize\"},{\"default\":true,\"kind\":null,\"name\":\"allow_drag\"},{\"default\":[],\"kind\":null,\"name\":\"state\"}]},{\"extends\":null,\"module\":null,\"name\":\"click1\",\"overrides\":[],\"properties\":[{\"default\":\"\",\"kind\":null,\"name\":\"terminal_output\"},{\"default\":\"\",\"kind\":null,\"name\":\"debug_name\"},{\"default\":0,\"kind\":null,\"name\":\"clears\"}]},{\"extends\":null,\"module\":null,\"name\":\"NotificationAreaBase1\",\"overrides\":[],\"properties\":[{\"default\":\"bottom-right\",\"kind\":null,\"name\":\"position\"},{\"default\":0,\"kind\":null,\"name\":\"_clear\"}]},{\"extends\":null,\"module\":null,\"name\":\"NotificationArea1\",\"overrides\":[],\"properties\":[{\"default\":[],\"kind\":null,\"name\":\"notifications\"},{\"default\":\"bottom-right\",\"kind\":null,\"name\":\"position\"},{\"default\":0,\"kind\":null,\"name\":\"_clear\"},{\"default\":[{\"background\":\"#ffc107\",\"icon\":{\"className\":\"fas fa-exclamation-triangle\",\"color\":\"white\",\"tagName\":\"i\"},\"type\":\"warning\"},{\"background\":\"#007bff\",\"icon\":{\"className\":\"fas fa-info-circle\",\"color\":\"white\",\"tagName\":\"i\"},\"type\":\"info\"}],\"kind\":null,\"name\":\"types\"}]},{\"extends\":null,\"module\":null,\"name\":\"Notification\",\"overrides\":[],\"properties\":[{\"default\":null,\"kind\":null,\"name\":\"background\"},{\"default\":3000,\"kind\":null,\"name\":\"duration\"},{\"default\":null,\"kind\":null,\"name\":\"icon\"},{\"default\":\"\",\"kind\":null,\"name\":\"message\"},{\"default\":null,\"kind\":null,\"name\":\"notification_type\"},{\"default\":false,\"kind\":null,\"name\":\"_destroyed\"}]},{\"extends\":null,\"module\":null,\"name\":\"TemplateActions1\",\"overrides\":[],\"properties\":[{\"default\":0,\"kind\":null,\"name\":\"open_modal\"},{\"default\":0,\"kind\":null,\"name\":\"close_modal\"}]},{\"extends\":null,\"module\":null,\"name\":\"MaterialTemplateActions1\",\"overrides\":[],\"properties\":[{\"default\":0,\"kind\":null,\"name\":\"open_modal\"},{\"default\":0,\"kind\":null,\"name\":\"close_modal\"}]}],\"roots\":{\"references\":[{\"attributes\":{\"end\":1819.8718369928747,\"reset_end\":1819.8718369928747,\"reset_start\":-164.35198518117045,\"start\":-164.35198518117045,\"tags\":[[[\"households\",\"households\",null]]]},\"id\":\"60550\",\"type\":\"Range1d\"},{\"attributes\":{},\"id\":\"60570\",\"type\":\"PanTool\"},{\"attributes\":{\"children\":[{\"id\":\"60548\"},{\"id\":\"60552\"},{\"id\":\"60611\"}],\"margin\":[0,0,0,0],\"name\":\"Row162543\",\"tags\":[\"embedded\"]},\"id\":\"60547\",\"type\":\"Row\"},{\"attributes\":{},\"id\":\"60598\",\"type\":\"BasicTickFormatter\"},{\"attributes\":{\"high\":295,\"low\":1,\"palette\":[\"#b3fef5\",\"#b0fef5\",\"#adfdf5\",\"#a9fcf5\",\"#a6fbf6\",\"#a3faf6\",\"#a0faf6\",\"#9df9f6\",\"#9af8f6\",\"#97f7f6\",\"#93f7f6\",\"#90f6f6\",\"#8df5f6\",\"#8af4f7\",\"#87f3f7\",\"#83f2f7\",\"#80f2f7\",\"#7df1f7\",\"#79f0f7\",\"#76eff7\",\"#73eef7\",\"#6fedf8\",\"#6cecf8\",\"#68ecf8\",\"#65ebf8\",\"#61eaf8\",\"#5ee9f8\",\"#5ae8f8\",\"#57e7f8\",\"#53e6f8\",\"#50e5f9\",\"#4ce4f9\",\"#49e3f9\",\"#45e2f9\",\"#42e1f9\",\"#3ee0f9\",\"#3bdff9\",\"#38def9\",\"#35ddf9\",\"#32dcf9\",\"#30dbfa\",\"#2ed9fa\",\"#2dd8fa\",\"#2cd7fa\",\"#2bd6fa\",\"#2bd5fa\",\"#2ad3fa\",\"#2ad2fa\",\"#29d1fa\",\"#29d0fb\",\"#29cffb\",\"#28cdfb\",\"#28ccfb\",\"#28cbfb\",\"#28cafb\",\"#28c8fb\",\"#28c7fb\",\"#29c6fb\",\"#29c5fb\",\"#29c4fb\",\"#29c2fb\",\"#2ac1fb\",\"#2ac0fb\",\"#2bbffb\",\"#2bbdfc\",\"#2cbcfc\",\"#2dbbfc\",\"#2db9fc\",\"#2eb8fc\",\"#2fb7fc\",\"#2fb6fc\",\"#30b4fc\",\"#31b3fc\",\"#32b2fc\",\"#32b0fc\",\"#33affc\",\"#33aefc\",\"#34adfc\",\"#34abfc\",\"#34aafc\",\"#35a9fc\",\"#35a8fc\",\"#35a6fc\",\"#35a5fc\",\"#35a4fc\",\"#35a3fc\",\"#35a1fc\",\"#35a0fc\",\"#359ffc\",\"#359dfc\",\"#359cfc\",\"#359bfc\",\"#349afd\",\"#3498fd\",\"#3497fd\",\"#3396fd\",\"#3395fd\",\"#3293fd\",\"#3292fd\",\"#3191fd\",\"#3090fd\",\"#308ffd\",\"#2f8dfd\",\"#2f8cfd\",\"#2e8bfd\",\"#2e8afd\",\"#2d88fd\",\"#2d87fd\",\"#2c86fd\",\"#2c84fd\",\"#2c83fd\",\"#2c82fd\",\"#2b81fd\",\"#2b7ffd\",\"#2b7efd\",\"#2b7dfd\",\"#2b7bfd\",\"#2b7afd\",\"#2b79fd\",\"#2b77fd\",\"#2b76fd\",\"#2b75fd\",\"#2b73fd\",\"#2c72fd\",\"#2c71fd\",\"#2c6ffd\",\"#2c6efd\",\"#2d6cfd\",\"#2d6bfd\",\"#2d6afc\",\"#2e68fc\",\"#2e67fc\",\"#2e65fc\",\"#2e64fc\",\"#2f62fc\",\"#2f61fc\",\"#2f5ffc\",\"#2f5efc\",\"#2f5dfc\",\"#2f5bfc\",\"#2f5afc\",\"#2f58fb\",\"#2f57fb\",\"#2f55fb\",\"#2f53fb\",\"#2f52fb\",\"#2f50fb\",\"#2f4ffb\",\"#2f4dfb\",\"#2e4cfb\",\"#2e4afb\",\"#2e48fb\",\"#2e47fa\",\"#2d45fa\",\"#2d43fa\",\"#2d42fa\",\"#2d40fa\",\"#2c3efa\",\"#2c3dfa\",\"#2b3bf9\",\"#2b39f9\",\"#2a37f9\",\"#2a36f8\",\"#2934f8\",\"#2832f7\",\"#2831f7\",\"#272ff6\",\"#262ef5\",\"#252cf5\",\"#252af4\",\"#2429f3\",\"#2327f2\",\"#2226f1\",\"#2124f0\",\"#2023ef\",\"#1f22ee\",\"#1e20ed\",\"#1d1feb\",\"#1c1eea\",\"#1b1ce9\",\"#1a1be7\",\"#181ae6\",\"#1719e5\",\"#1618e3\",\"#1417e1\",\"#1316e0\",\"#1215de\",\"#1014dc\",\"#0f13db\",\"#0e12d9\",\"#0d11d7\",\"#0c10d5\",\"#0b0fd3\",\"#0a0ed1\",\"#090dd0\",\"#080dce\",\"#080ccc\",\"#070bca\",\"#070ac8\",\"#0709c6\",\"#0708c4\",\"#0707c2\",\"#0707bf\",\"#0806bd\",\"#0806bb\",\"#0905b9\",\"#0904b7\",\"#0a04b5\",\"#0a04b2\",\"#0b03b0\",\"#0c03ae\",\"#0d02ab\",\"#0e02a9\",\"#0e02a7\",\"#0f02a4\",\"#0f01a2\",\"#1001a0\",\"#10019d\",\"#10019b\",\"#100199\",\"#100197\",\"#100194\",\"#0f0192\",\"#0f0190\",\"#0f018e\",\"#0e018b\",\"#0e0189\",\"#0d0187\",\"#0d0185\",\"#0c0183\",\"#0b0181\",\"#0b017e\",\"#0a017c\",\"#09017a\",\"#090178\",\"#080276\",\"#070274\",\"#060272\",\"#060270\",\"#05026e\",\"#04026c\",\"#030269\",\"#030267\",\"#020265\",\"#010263\",\"#010261\",\"#00025f\",\"#00025d\",\"#00025b\",\"#000259\",\"#000257\",\"#000255\",\"#000154\",\"#000152\",\"#000150\",\"#00004e\"]},\"id\":\"60582\",\"type\":\"LinearColorMapper\"},{\"attributes\":{},\"id\":\"60596\",\"type\":\"AllLabels\"},{\"attributes\":{},\"id\":\"60608\",\"type\":\"UnionRenderers\"},{\"attributes\":{\"aspect_scale\":0.3397773725648215,\"fill_alpha\":{\"value\":0.2},\"fill_color\":{\"field\":\"Count\",\"transform\":{\"id\":\"60582\"}},\"hatch_alpha\":{\"value\":0.2},\"hatch_color\":{\"field\":\"Count\",\"transform\":{\"id\":\"60582\"}},\"line_alpha\":{\"value\":0.2},\"line_color\":{\"field\":\"Count\",\"transform\":{\"id\":\"60582\"}},\"q\":{\"field\":\"q\"},\"r\":{\"field\":\"r\"},\"size\":22.046931357489388},\"id\":\"60588\",\"type\":\"HexTile\"},{\"attributes\":{},\"id\":\"60595\",\"type\":\"BasicTickFormatter\"},{\"attributes\":{\"aspect_scale\":0.3397773725648215,\"fill_alpha\":{\"value\":1.0},\"fill_color\":{\"field\":\"Count\",\"transform\":{\"id\":\"60582\"}},\"hatch_alpha\":{\"value\":1.0},\"hatch_color\":{\"field\":\"Count\",\"transform\":{\"id\":\"60582\"}},\"hatch_scale\":{\"value\":12.0},\"hatch_weight\":{\"value\":1.0},\"line_alpha\":{\"value\":1.0},\"line_cap\":{\"value\":\"butt\"},\"line_color\":{\"field\":\"Count\",\"transform\":{\"id\":\"60582\"}},\"line_dash\":{\"value\":[]},\"line_dash_offset\":{\"value\":0},\"line_join\":{\"value\":\"bevel\"},\"line_width\":{\"value\":1},\"q\":{\"field\":\"q\"},\"r\":{\"field\":\"r\"},\"scale\":{\"value\":1.0},\"size\":22.046931357489388},\"id\":\"60593\",\"type\":\"HexTile\"},{\"attributes\":{\"bottom_units\":\"screen\",\"coordinates\":null,\"fill_alpha\":0.5,\"fill_color\":\"lightgrey\",\"group\":null,\"left_units\":\"screen\",\"level\":\"overlay\",\"line_alpha\":1.0,\"line_color\":\"black\",\"line_dash\":[4,4],\"line_width\":2,\"right_units\":\"screen\",\"syncable\":false,\"top_units\":\"screen\"},\"id\":\"60574\",\"type\":\"BoxAnnotation\"},{\"attributes\":{},\"id\":\"60591\",\"type\":\"BasicTicker\"},{\"attributes\":{\"overlay\":{\"id\":\"60574\"}},\"id\":\"60572\",\"type\":\"BoxZoomTool\"},{\"attributes\":{\"coordinates\":null,\"data_source\":{\"id\":\"60583\"},\"glyph\":{\"id\":\"60586\"},\"group\":null,\"hover_glyph\":null,\"muted_glyph\":{\"id\":\"60588\"},\"nonselection_glyph\":{\"id\":\"60587\"},\"selection_glyph\":{\"id\":\"60593\"},\"view\":{\"id\":\"60590\"}},\"id\":\"60589\",\"type\":\"GlyphRenderer\"},{\"attributes\":{},\"id\":\"60599\",\"type\":\"AllLabels\"},{\"attributes\":{},\"id\":\"60573\",\"type\":\"ResetTool\"},{\"attributes\":{\"axis\":{\"id\":\"60565\"},\"coordinates\":null,\"dimension\":1,\"grid_line_color\":null,\"group\":null,\"ticker\":null},\"id\":\"60568\",\"type\":\"Grid\"},{\"attributes\":{\"source\":{\"id\":\"60583\"}},\"id\":\"60590\",\"type\":\"CDSView\"},{\"attributes\":{\"coordinates\":null,\"group\":null,\"text\":\"Correlation: 0.908\",\"text_color\":\"black\",\"text_font_size\":\"12pt\"},\"id\":\"60553\",\"type\":\"Title\"},{\"attributes\":{\"margin\":[5,5,5,5],\"name\":\"HSpacer162548\",\"sizing_mode\":\"stretch_width\"},\"id\":\"60611\",\"type\":\"Spacer\"},{\"attributes\":{\"end\":4869.480187688931,\"reset_end\":4869.480187688931,\"reset_start\":3.0,\"start\":3.0,\"tags\":[[[\"population\",\"population\",null]]]},\"id\":\"60549\",\"type\":\"Range1d\"},{\"attributes\":{},\"id\":\"60569\",\"type\":\"SaveTool\"},{\"attributes\":{\"axis_label\":\"households\",\"coordinates\":null,\"formatter\":{\"id\":\"60598\"},\"group\":null,\"major_label_policy\":{\"id\":\"60599\"},\"ticker\":{\"id\":\"60566\"}},\"id\":\"60565\",\"type\":\"LinearAxis\"},{\"attributes\":{},\"id\":\"60557\",\"type\":\"LinearScale\"},{\"attributes\":{},\"id\":\"60562\",\"type\":\"BasicTicker\"},{\"attributes\":{\"below\":[{\"id\":\"60561\"}],\"center\":[{\"id\":\"60564\"},{\"id\":\"60568\"}],\"height\":300,\"left\":[{\"id\":\"60565\"}],\"margin\":[5,5,5,5],\"min_border_bottom\":10,\"min_border_left\":10,\"min_border_right\":10,\"min_border_top\":10,\"renderers\":[{\"id\":\"60589\"}],\"right\":[{\"id\":\"60592\"}],\"sizing_mode\":\"fixed\",\"title\":{\"id\":\"60553\"},\"toolbar\":{\"id\":\"60575\"},\"x_range\":{\"id\":\"60549\"},\"x_scale\":{\"id\":\"60557\"},\"y_range\":{\"id\":\"60550\"},\"y_scale\":{\"id\":\"60559\"}},\"id\":\"60552\",\"subtype\":\"Figure\",\"type\":\"Plot\"},{\"attributes\":{\"data\":{\"Count\":[99,175,32,181,279,48,5,97,217,295,42,36,261,142,143,72,118,82,204,238,33,88,13,95,13,161,177,9,170,71,179,53,244,51,35,89,3,3,1,3,165,165,10,90,23,40,2,113,197,13,11,118,71,62,251,155,9,72,1,60,204,10,1,11,30,14,48,110,35,252,15,45,33,14,5,39,57,46,15,10,56,57,123,185,77,43,46,3,10,48,81,5,26,6,29,88,60,12,7,1,3,15,36,14,2,29,137,43,21,93,49,22,1,30,5,124,45,51,43,4,8,8,119,40,78,2,4,147,19,16,145,240,41,112,111,62,45,13,64,13,46,4,40,27,24,148,5,19,13,39,165,24,48,75,2,20,50,3,9,30,144,112,9,17,8,58,11,3,3,44,4,44,13,79,93,2,20,27,29,27,120,63,62,11,5,25,30,12,7,12,15,112,10,14,9,4,43,33,11,1,58,25,32,17,7,33,17,63,1,16,2,15,7,10,7,65,26,71,17,7,25,8,2,4,2,11,3,3,1,4,20,75,1,21,10,24,36,18,29,61,39,19,4,5,47,12,4,21,18,31,20,82,7,80,17,29,3,23,12,4,1,3,24,16,29,11,7,7,8,20,9,6,20,5,6,10,1,8,3,5,2,16,19,21,33,31,5,6,8,9,2,3,15,16,2,17,5,3,2,27,7,4,11,5,8,24,18,27,8,24,17,13,7,15,1,3,1,2,2,6,6,21,1,6,6,9,4,8,4,8,3,32,18,23,51,15,6,44,3,5,2,4,3,7,3,9,6,1,27,4,15,13,16,4,2,2,9,1,6,31,7,17,38,5,16,1,6,1,1,9,7,7,2,5,15,5,3,7,1,36,25,8,4,1,28,4,3,5,9,5,3,5,2,5,1,3,1,4,26,1,4,7,26,2,5,3,1,4,8,15,1,14,6,2,3,13,3,3,1,1,7,2,2,4,39,14,8,5,1,3,3,3,4,2,11,25,3,3,2,2,11,11,1,1,7,8,22,10,1,1,6,2,4,23,1,5,4,8,6,1,1,4,3,2,9,5,2,7,1,4,9,5,4,20,2,2,10,9,10,1,5,1,2,5,1,3,4,8,6,2,2,2,4,4,10,14,1,1,4,3,1,2,3,8,5,4,11,1,3,2,1,4,1,2,5,4,4,2,6,4,3,5,7,3,1,3,3,3,3,8,4,9,1,2,5,3,6,1,3,5,2,7,2,2,1,3,7,1,1,3,9,1,2,1,7,4,3,3,1,3,2,3,2,3,2,2,7,2,1,6,2,2,4,1,2,3,1,3,5,3,2,2,3,1,2,6,3,3,3,2,9,7,1,3,5,2,8,3,2,5,2,2,1,2,1,5,3,2,3,4,7,13,5,6,2,3,2,4,2,5,2,5,5,2,1,2,2,1,6,3,2,5,1,3,4,2,3,2,1,1,2,1,1,5,6,4,3,1,5,1,1,3,3,3,2,2,6,8,1,3,3,2,8,1,1,5,4,3,4,6,2,7,3,7,1,1,1,3,1,6,1,1,2,4,3,6,5,6,8,3,3,2,3,5,1,3,1,1,7,7,7,8,1,2,3,4,1,3,2,1,7,1,1,2,2,1,7,1,3,1,1,6,6,4,1,5,1,1,1,3,2,1,3,1,2,1,4,1,1,1,4,2,1,6,1,1,1,1,2,1,1,1,1,2,4,1,2,1,1,3,2,2,1,6,3,3,2,4,1,3,4,1,2,2,2,1,1,2,2,2,2,7,2,3,1,2,3,1,1,3,1,2,2,1,2,1,1,1,4,2,2,2,1,1,3,1,4,1,2,1,1,4,1,1,1,1,1,1,2,2,1,2,1,1,2,1,4,2,2,1,1,2,2,1,1,5,2,1,1,1,1,3,1,2,1,1,1,1,1,2,2,2,1,1,4,3,4,2,2,2,3,2,2,1,1,1,1,5,2,1,2,4,2,3,1,1,1,1,2,4,5,3,1,1,2,1,1,1,1,1,1,1,1,1,1,1,1,1,1,1,1,1,1,1,2,1,2,1,1,1,1,1,1,3,1,1,1,2,1,2,1,2,2,1,1,1,1,1,1,1,1,2,2,1,1,1,1,1,1,1,1,1,1,1,1,1,1,1,1,1,1,1,1,1,1,1,1,1,1,1,1,1,1],\"q\":[19,6,26,15,10,17,35,6,11,12,19,21,11,7,18,12,15,18,14,8,29,15,27,10,35,12,16,66,5,21,17,5,13,21,27,17,34,53,52,48,13,7,65,19,29,26,16,8,12,25,36,17,11,22,14,13,31,14,50,15,68,35,63,37,20,37,15,11,7,10,30,25,3,30,9,13,19,25,33,36,23,0,1,15,2,23,25,47,32,19,20,37,29,21,26,20,24,12,35,46,28,28,25,35,25,29,9,24,25,21,27,17,42,30,18,19,26,21,9,42,20,34,14,28,16,59,20,16,19,21,4,9,14,18,18,23,22,27,12,29,20,45,16,10,32,16,29,29,34,27,17,26,17,16,39,20,24,50,38,11,9,20,19,33,38,22,42,30,36,16,5,26,31,23,21,42,25,6,26,5,3,8,19,67,28,23,25,32,31,35,15,14,46,29,36,58,18,17,12,39,2,25,24,26,23,23,40,23,44,24,55,17,44,36,36,13,7,20,16,31,14,30,16,30,56,38,36,53,52,38,31,22,41,11,40,21,24,31,8,24,20,4,42,36,18,35,51,28,8,26,26,13,43,22,27,22,41,30,37,21,49,27,30,32,28,32,41,40,20,34,39,40,27,60,34,41,34,28,22,47,37,32,25,6,4,18,51,43,21,40,52,28,18,24,38,21,30,47,42,9,19,45,34,34,28,21,33,30,41,32,23,23,27,34,45,37,53,54,47,43,26,22,35,37,37,38,33,66,41,34,65,23,19,29,10,31,23,18,45,52,25,39,42,19,42,30,10,12,15,46,30,18,31,48,50,49,37,6,47,22,31,22,27,33,28,43,1,41,55,9,34,39,50,63,30,11,48,34,6,28,13,47,36,44,28,54,40,25,24,11,46,32,56,38,56,49,53,40,20,31,47,33,16,46,31,46,57,64,24,34,38,33,44,45,37,28,45,51,52,40,15,42,48,40,27,34,37,46,49,23,48,53,68,45,22,24,67,37,50,35,14,10,42,43,42,32,31,26,44,33,31,60,30,12,41,44,26,25,27,4,59,51,36,48,40,44,48,33,45,39,23,37,57,32,41,59,37,29,29,50,37,26,51,29,47,51,42,32,34,57,43,58,48,52,67,33,26,58,56,32,47,49,40,57,36,35,13,49,51,35,10,43,62,54,24,49,46,5,22,48,32,39,27,41,13,50,38,33,38,36,14,39,48,23,41,50,51,43,54,30,48,42,54,19,40,40,61,41,65,47,32,59,64,55,64,49,55,57,35,60,42,45,48,60,47,53,15,54,46,35,51,41,18,60,29,57,64,40,35,54,21,41,38,52,51,33,56,46,60,39,32,33,44,25,38,17,40,41,49,43,43,55,44,35,58,26,17,60,39,54,46,28,41,39,45,22,45,61,39,41,44,49,28,52,42,42,12,56,44,40,50,62,60,47,46,49,41,43,67,9,43,59,15,35,45,39,14,45,20,31,45,33,30,7,41,46,49,37,66,18,50,48,27,46,45,24,26,51,61,14,53,44,28,31,35,49,52,8,35,36,20,29,38,43,48,40,34,43,30,5,58,43,62,31,35,63,18,61,16,45,33,29,28,15,29,49,59,39,64,12,37,46,60,42,51,34,39,66,37,50,37,66,41,7,36,33,62,62,36,36,63,48,40,11,47,37,39,9,44,40,38,42,51,38,35,58,58,50,55,26,56,39,53,62,42,47,50,56,16,53,50,49,40,38,25,24,55,22,53,56,38,22,3,53,61,56,52,36,44,47,56,30,47,35,46,35,23,48,13,17,44,36,44,36,37,49,22,50,59,43,36,13,37,32,6,49,27,47,3,64,51,55,33,54,47,42,44,47,42,63,44,27,55,38,19,58,43,36,10,47,22,44,52,32,52,39,63,31,44,30,31,62,33,53,58,39,47,65,45,17,43,40,15,46,31,24,41,49,63,33,45,64,15,41,35,29,48,38,24,56,52,32,54,60,54,56,13,56,49,50,65,34,55,47,56,62,53,56,57,55,45,59,55,62,48,48,53,25,58,58,20,14,58,50,42,33,61,57,47,41,52,56,52,54,58,8,35,49,59,34,61,52,64,56,63,50,45,31,61,27,57,65,54,44,37,8,21,3,48,35,11,54,48,55,51,11,29,58,60,31,46,58,43,59,40,56,46,41,63,54,59,18,37],\"r\":[-15,-5,-21,-11,-8,-15,-27,-4,-9,-9,-11,-13,-8,-6,-13,-11,-10,-12,-10,-6,-21,-13,-24,-9,-25,-8,-12,-46,-4,-14,-13,-3,-10,-18,-22,-11,-17,-41,-30,-41,-9,-5,-50,-13,-19,-19,-7,-7,-10,-23,-27,-14,-10,-15,-11,-11,-19,-13,-31,-9,-50,-23,-46,-29,-19,-25,-14,-7,-4,-7,-19,-17,-3,-24,-4,-7,-12,-19,-23,-29,-18,0,-1,-12,-2,-15,-18,-46,-28,-17,-16,-31,-20,-21,-22,-14,-18,-6,-30,-40,-28,-18,-20,-29,-25,-22,-8,-16,-15,-16,-20,-9,-24,-22,-19,-14,-20,-17,-5,-36,-20,-29,-9,-20,-10,-50,-9,-11,-10,-11,-3,-7,-8,-14,-15,-19,-14,-16,-7,-25,-17,-39,-15,-10,-23,-13,-16,-18,-22,-21,-12,-24,-10,-14,-36,-11,-17,-38,-28,-6,-6,-15,-19,-24,-29,-18,-31,-16,-30,-9,-2,-18,-20,-17,-15,-46,-22,-6,-17,-5,-2,-5,-16,-50,-25,-13,-21,-20,-30,-26,-15,-12,-29,-24,-24,-50,-10,-16,-13,-21,-1,-16,-20,-23,-23,-14,-30,-16,-28,-14,-42,-17,-32,-23,-25,-12,-7,-13,-8,-29,-14,-27,-18,-15,-44,-25,-34,-37,-32,-24,-24,-17,-18,-11,-27,-19,-15,-23,-8,-19,-12,-2,-29,-31,-11,-24,-34,-23,-4,-16,-15,-8,-32,-16,-23,-13,-25,-21,-28,-22,-39,-13,-20,-22,-19,-26,-32,-31,-10,-24,-32,-24,-17,-50,-31,-31,-36,-16,-23,-31,-37,-21,-14,-3,-4,-17,-38,-36,-10,-33,-41,-29,-9,-22,-35,-20,-31,-36,-39,-9,-20,-33,-23,-19,-15,-12,-25,-23,-34,-24,-21,-22,-14,-26,-3,-35,-44,-48,-42,-30,-14,-20,-11,-32,-27,-26,-30,-50,-28,-28,-44,-20,-18,-23,-6,-25,-12,-16,-32,-37,-27,-22,-27,-9,-28,-17,-11,-4,-8,-35,-25,-18,-21,-29,-42,-28,-21,-2,-38,-19,-28,-12,-19,-21,-24,-39,0,-22,-29,-10,-30,-30,-32,-50,-26,-12,-50,-18,-1,-22,-13,-34,-28,-48,-21,-37,-21,-13,-13,-5,-27,-30,-48,-30,-28,-46,-19,-25,-18,-33,-32,-27,-16,-30,-17,-43,-43,-48,-23,-27,-36,-26,-35,-44,-38,-26,-28,-44,-35,-39,-16,-23,-38,-36,-18,-25,-24,-36,-27,-11,-34,-50,-49,-45,-21,-21,-47,-22,-36,-35,-7,-5,-42,-41,-30,-19,-22,-25,-27,-16,-18,-47,-29,-12,-45,-30,-26,-24,-26,-5,-36,-32,-32,-28,-32,-34,-30,-19,-22,-23,-24,-20,-37,-25,-27,-43,-23,-17,-28,-44,-33,-12,-49,-27,-30,-40,-38,-29,-20,-27,-27,-42,-33,-36,-48,-22,-29,-44,-45,-16,-47,-38,-22,-50,-22,-28,-14,-30,-33,-38,-4,-23,-40,-44,-24,-35,-34,-1,-11,-39,-31,-31,-15,-37,-15,-50,-18,-33,-33,-21,-15,-27,-32,-9,-29,-35,-37,-24,-50,-28,-31,-32,-35,-21,-34,-37,-50,-21,-45,-33,-18,-49,-49,-45,-50,-37,-40,-41,-17,-40,-35,-42,-35,-45,-45,-38,-7,-36,-24,-31,-36,-35,-20,-48,-15,-45,-46,-23,-34,-39,-9,-26,-37,-40,-39,-29,-32,-32,-42,-19,-27,-18,-26,-26,-22,-18,-29,-24,-36,-29,-26,-47,-41,-32,-32,-13,-19,-34,-35,-40,-38,-17,-33,-33,-35,-22,-29,-36,-26,-38,-25,-40,-30,-38,-26,-33,-5,-29,-29,-28,-47,-50,-33,-27,-37,-47,-23,-38,-49,-2,-34,-46,-4,-21,-37,-25,-6,-27,-21,-34,-23,-34,-14,-3,-43,-42,-34,-26,-49,-8,-28,-37,-25,-26,-26,-12,-27,-41,-48,-16,-35,-31,-27,-27,-16,-42,-48,-9,-9,-26,-8,-31,-19,-28,-36,-26,-21,-33,-18,-6,-45,0,-44,-26,-20,-39,-5,-44,-17,-34,-20,-26,-7,-17,-14,-45,-48,-24,-41,-1,-30,-28,-36,-41,-50,-37,-28,-48,-34,-29,-18,-45,-30,-8,-8,-28,-47,-37,-16,-20,-45,-47,-35,-1,-25,0,-34,-3,-1,-38,-20,-37,-28,-27,-37,-34,-46,-25,-43,-4,-31,-18,-31,-38,-34,-41,-40,-26,-19,-42,-39,-31,-40,-23,-12,-25,-44,-10,-43,-42,-32,-24,-4,-33,-45,-37,-45,-33,-38,-28,-46,-30,-40,-22,-39,-36,-25,-44,-5,-8,-39,-18,-33,-38,-19,-41,-25,-30,-39,-40,-37,-6,-42,-32,-7,-32,-27,-39,-1,-44,-27,-50,-31,-28,-35,-19,-40,-29,-25,-44,-43,-28,-36,-34,-8,-29,-37,-36,-3,-10,-8,-36,-39,-14,-49,-29,-48,-15,-23,-13,-35,-45,-36,-34,-39,-38,-8,-46,-25,-7,-31,-20,-6,-31,-31,-11,-19,-44,-49,-35,-36,-42,-5,-39,-39,-30,-40,-31,-10,-43,-42,-17,-34,-44,-46,-49,-4,-38,-33,-34,-43,-32,-30,-15,-50,-46,-39,-41,-46,-41,-30,-31,-37,-42,-45,-48,-47,-30,-43,-30,-22,-1,-36,-37,-22,-15,-40,-32,-37,-44,-31,-33,-47,-38,-33,-2,-19,-29,-35,-33,-47,-34,-45,-39,-41,-41,-31,-9,-41,-6,-40,-48,-45,-20,-36,-3,-23,0,-49,-18,-13,-33,-26,-39,-30,-3,-29,-48,-38,-16,-33,-31,-19,-41,-14,-35,-25,-40,-42,-42,-32,-7,-17]},\"selected\":{\"id\":\"60584\"},\"selection_policy\":{\"id\":\"60608\"}},\"id\":\"60583\",\"type\":\"ColumnDataSource\"},{\"attributes\":{\"tools\":[{\"id\":\"60551\"},{\"id\":\"60569\"},{\"id\":\"60570\"},{\"id\":\"60571\"},{\"id\":\"60572\"},{\"id\":\"60573\"}]},\"id\":\"60575\",\"type\":\"Toolbar\"},{\"attributes\":{},\"id\":\"60566\",\"type\":\"BasicTicker\"},{\"attributes\":{},\"id\":\"60571\",\"type\":\"WheelZoomTool\"},{\"attributes\":{},\"id\":\"60559\",\"type\":\"LinearScale\"},{\"attributes\":{\"aspect_scale\":0.3397773725648215,\"fill_alpha\":{\"value\":0.1},\"fill_color\":{\"field\":\"Count\",\"transform\":{\"id\":\"60582\"}},\"hatch_alpha\":{\"value\":0.1},\"hatch_color\":{\"field\":\"Count\",\"transform\":{\"id\":\"60582\"}},\"line_alpha\":{\"value\":0.1},\"line_color\":{\"field\":\"Count\",\"transform\":{\"id\":\"60582\"}},\"q\":{\"field\":\"q\"},\"r\":{\"field\":\"r\"},\"size\":22.046931357489388},\"id\":\"60587\",\"type\":\"HexTile\"},{\"attributes\":{\"axis_label\":\"population\",\"coordinates\":null,\"formatter\":{\"id\":\"60595\"},\"group\":null,\"major_label_policy\":{\"id\":\"60596\"},\"ticker\":{\"id\":\"60562\"}},\"id\":\"60561\",\"type\":\"LinearAxis\"},{\"attributes\":{},\"id\":\"60584\",\"type\":\"Selection\"},{\"attributes\":{\"margin\":[5,5,5,5],\"name\":\"HSpacer162547\",\"sizing_mode\":\"stretch_width\"},\"id\":\"60548\",\"type\":\"Spacer\"},{\"attributes\":{\"axis\":{\"id\":\"60561\"},\"coordinates\":null,\"grid_line_color\":null,\"group\":null,\"ticker\":null},\"id\":\"60564\",\"type\":\"Grid\"},{\"attributes\":{\"bar_line_color\":\"black\",\"color_mapper\":{\"id\":\"60582\"},\"coordinates\":null,\"group\":null,\"label_standoff\":8,\"location\":[0,0],\"major_label_policy\":{\"id\":\"60604\"},\"major_tick_line_color\":\"black\",\"ticker\":{\"id\":\"60591\"}},\"id\":\"60592\",\"type\":\"ColorBar\"},{\"attributes\":{\"callback\":null,\"renderers\":[{\"id\":\"60589\"}],\"tags\":[\"hv_created\"],\"tooltips\":[[\"Count\",\"@{Count}\"]]},\"id\":\"60551\",\"type\":\"HoverTool\"},{\"attributes\":{},\"id\":\"60604\",\"type\":\"NoOverlap\"},{\"attributes\":{\"aspect_scale\":0.3397773725648215,\"fill_color\":{\"field\":\"Count\",\"transform\":{\"id\":\"60582\"}},\"hatch_color\":{\"field\":\"Count\",\"transform\":{\"id\":\"60582\"}},\"line_color\":{\"field\":\"Count\",\"transform\":{\"id\":\"60582\"}},\"q\":{\"field\":\"q\"},\"r\":{\"field\":\"r\"},\"size\":22.046931357489388},\"id\":\"60586\",\"type\":\"HexTile\"}],\"root_ids\":[\"60547\"]},\"title\":\"Bokeh Application\",\"version\":\"2.4.3\"}};\n",
       "    var render_items = [{\"docid\":\"88763f9b-074c-4b32-a34a-7c8f37db4091\",\"root_ids\":[\"60547\"],\"roots\":{\"60547\":\"7a2fbb3d-ef1f-4249-9d02-18a030eb3cd7\"}}];\n",
       "    root.Bokeh.embed.embed_items_notebook(docs_json, render_items);\n",
       "  }\n",
       "  if (root.Bokeh !== undefined && root.Bokeh.Panel !== undefined) {\n",
       "    embed_document(root);\n",
       "  } else {\n",
       "    var attempts = 0;\n",
       "    var timer = setInterval(function(root) {\n",
       "      if (root.Bokeh !== undefined && root.Bokeh.Panel !== undefined) {\n",
       "        clearInterval(timer);\n",
       "        embed_document(root);\n",
       "      } else if (document.readyState == \"complete\") {\n",
       "        attempts++;\n",
       "        if (attempts > 200) {\n",
       "          clearInterval(timer);\n",
       "          console.log(\"Bokeh: ERROR: Unable to run BokehJS code because BokehJS library is missing\");\n",
       "        }\n",
       "      }\n",
       "    }, 25, root)\n",
       "  }\n",
       "})(window);</script>"
      ],
      "text/plain": [
       ":HexTiles   [population,households]"
      ]
     },
     "execution_count": 94,
     "metadata": {
      "application/vnd.holoviews_exec.v0+json": {
       "id": "60547"
      }
     },
     "output_type": "execute_result"
    }
   ],
   "source": [
    "out = eda.get_bivariate_plots(train_X, x_cols=['population'], y_cols=['households'])\n",
    "out"
   ]
  },
  {
   "cell_type": "code",
   "execution_count": 95,
   "metadata": {},
   "outputs": [
    {
     "name": "stdout",
     "output_type": "stream",
     "text": [
      "CPU times: user 2.98 s, sys: 29.2 ms, total: 3.01 s\n",
      "Wall time: 3.01 s\n"
     ]
    }
   ],
   "source": [
    "%%time\n",
    "# create reports as needed\n",
    "cols = train_X.columns.to_list()\n",
    "all_plots = {}\n",
    "for ii, col1 in enumerate(cols): \n",
    "    for jj in range(ii+1, len(cols)):\n",
    "        col2 = cols[jj]\n",
    "        out = eda.get_bivariate_plots(train_X, x_cols=[col1], y_cols=[col2])\n",
    "        all_plots.update({f'{col2} vs {col1}': out})\n",
    "\n",
    "reports.create_report(all_plots, name='reports_new/feature_analysis_bivariate')"
   ]
  },
  {
   "cell_type": "code",
   "execution_count": 96,
   "metadata": {},
   "outputs": [],
   "source": [
    "reports.feature_interactions(train_X,'reports_new/feature_interaction_report.html')"
   ]
  },
  {
   "cell_type": "code",
   "execution_count": 97,
   "metadata": {},
   "outputs": [
    {
     "data": {},
     "metadata": {},
     "output_type": "display_data"
    },
    {
     "data": {},
     "metadata": {},
     "output_type": "display_data"
    },
    {
     "data": {
      "application/vnd.holoviews_exec.v0+json": "",
      "text/html": [
       "<div id='67990'>\n",
       "  <div class=\"bk-root\" id=\"61a343f9-cbad-44cd-9401-938a64b2d85d\" data-root-id=\"67990\"></div>\n",
       "</div>\n",
       "<script type=\"application/javascript\">(function(root) {\n",
       "  function embed_document(root) {\n",
       "    var docs_json = {\"a99be38b-1696-413b-86e2-797dcdb2eb6f\":{\"defs\":[{\"extends\":null,\"module\":null,\"name\":\"ReactiveHTML1\",\"overrides\":[],\"properties\":[]},{\"extends\":null,\"module\":null,\"name\":\"FlexBox1\",\"overrides\":[],\"properties\":[{\"default\":\"flex-start\",\"kind\":null,\"name\":\"align_content\"},{\"default\":\"flex-start\",\"kind\":null,\"name\":\"align_items\"},{\"default\":\"row\",\"kind\":null,\"name\":\"flex_direction\"},{\"default\":\"wrap\",\"kind\":null,\"name\":\"flex_wrap\"},{\"default\":\"flex-start\",\"kind\":null,\"name\":\"justify_content\"}]},{\"extends\":null,\"module\":null,\"name\":\"GridStack1\",\"overrides\":[],\"properties\":[{\"default\":\"warn\",\"kind\":null,\"name\":\"mode\"},{\"default\":null,\"kind\":null,\"name\":\"ncols\"},{\"default\":null,\"kind\":null,\"name\":\"nrows\"},{\"default\":true,\"kind\":null,\"name\":\"allow_resize\"},{\"default\":true,\"kind\":null,\"name\":\"allow_drag\"},{\"default\":[],\"kind\":null,\"name\":\"state\"}]},{\"extends\":null,\"module\":null,\"name\":\"click1\",\"overrides\":[],\"properties\":[{\"default\":\"\",\"kind\":null,\"name\":\"terminal_output\"},{\"default\":\"\",\"kind\":null,\"name\":\"debug_name\"},{\"default\":0,\"kind\":null,\"name\":\"clears\"}]},{\"extends\":null,\"module\":null,\"name\":\"NotificationAreaBase1\",\"overrides\":[],\"properties\":[{\"default\":\"bottom-right\",\"kind\":null,\"name\":\"position\"},{\"default\":0,\"kind\":null,\"name\":\"_clear\"}]},{\"extends\":null,\"module\":null,\"name\":\"NotificationArea1\",\"overrides\":[],\"properties\":[{\"default\":[],\"kind\":null,\"name\":\"notifications\"},{\"default\":\"bottom-right\",\"kind\":null,\"name\":\"position\"},{\"default\":0,\"kind\":null,\"name\":\"_clear\"},{\"default\":[{\"background\":\"#ffc107\",\"icon\":{\"className\":\"fas fa-exclamation-triangle\",\"color\":\"white\",\"tagName\":\"i\"},\"type\":\"warning\"},{\"background\":\"#007bff\",\"icon\":{\"className\":\"fas fa-info-circle\",\"color\":\"white\",\"tagName\":\"i\"},\"type\":\"info\"}],\"kind\":null,\"name\":\"types\"}]},{\"extends\":null,\"module\":null,\"name\":\"Notification\",\"overrides\":[],\"properties\":[{\"default\":null,\"kind\":null,\"name\":\"background\"},{\"default\":3000,\"kind\":null,\"name\":\"duration\"},{\"default\":null,\"kind\":null,\"name\":\"icon\"},{\"default\":\"\",\"kind\":null,\"name\":\"message\"},{\"default\":null,\"kind\":null,\"name\":\"notification_type\"},{\"default\":false,\"kind\":null,\"name\":\"_destroyed\"}]},{\"extends\":null,\"module\":null,\"name\":\"TemplateActions1\",\"overrides\":[],\"properties\":[{\"default\":0,\"kind\":null,\"name\":\"open_modal\"},{\"default\":0,\"kind\":null,\"name\":\"close_modal\"}]},{\"extends\":null,\"module\":null,\"name\":\"MaterialTemplateActions1\",\"overrides\":[],\"properties\":[{\"default\":0,\"kind\":null,\"name\":\"open_modal\"},{\"default\":0,\"kind\":null,\"name\":\"close_modal\"}]}],\"roots\":{\"references\":[{\"attributes\":{},\"id\":\"67999\",\"type\":\"LinearScale\"},{\"attributes\":{},\"id\":\"68008\",\"type\":\"CategoricalTicker\"},{\"attributes\":{},\"id\":\"68036\",\"type\":\"CategoricalTickFormatter\"},{\"attributes\":{\"data\":{\"Pearson_correlation_with_Target\":{\"__ndarray__\":\"IHydQGlAwr9211fUqh6ovyoB0eqy4KC/fLbx0qRxqj8j23PKmI6xP9QP9tFEN7o/etCi5/Z6wz+sIRwsLTrfP7QamMmwW+Y/\",\"dtype\":\"float64\",\"order\":\"little\",\"shape\":[9]},\"index\":[\"latitude\",\"longitude\",\"population\",\"total_bedrooms\",\"households\",\"housing_median_age\",\"total_rooms\",\"ocean_proximity\",\"median_income\"]},\"selected\":{\"id\":\"68024\"},\"selection_policy\":{\"id\":\"68045\"}},\"id\":\"68023\",\"type\":\"ColumnDataSource\"},{\"attributes\":{\"axis\":{\"id\":\"68007\"},\"coordinates\":null,\"dimension\":1,\"grid_line_color\":null,\"group\":null,\"ticker\":null},\"id\":\"68009\",\"type\":\"Grid\"},{\"attributes\":{},\"id\":\"68004\",\"type\":\"BasicTicker\"},{\"attributes\":{},\"id\":\"68001\",\"type\":\"CategoricalScale\"},{\"attributes\":{},\"id\":\"68011\",\"type\":\"PanTool\"},{\"attributes\":{\"source\":{\"id\":\"68023\"}},\"id\":\"68030\",\"type\":\"CDSView\"},{\"attributes\":{},\"id\":\"68012\",\"type\":\"WheelZoomTool\"},{\"attributes\":{\"axis_label\":\"\",\"coordinates\":null,\"formatter\":{\"id\":\"68036\"},\"group\":null,\"major_label_policy\":{\"id\":\"68037\"},\"ticker\":{\"id\":\"68008\"}},\"id\":\"68007\",\"type\":\"CategoricalAxis\"},{\"attributes\":{\"fill_alpha\":{\"value\":1.0},\"fill_color\":{\"value\":\"#30a2da\"},\"hatch_alpha\":{\"value\":1.0},\"hatch_color\":{\"value\":\"#30a2da\"},\"hatch_scale\":{\"value\":12.0},\"hatch_weight\":{\"value\":1.0},\"height\":{\"value\":0.8},\"left\":{\"value\":0},\"line_alpha\":{\"value\":1.0},\"line_cap\":{\"value\":\"butt\"},\"line_color\":{\"value\":\"black\"},\"line_dash\":{\"value\":[]},\"line_dash_offset\":{\"value\":0},\"line_join\":{\"value\":\"bevel\"},\"line_width\":{\"value\":1},\"right\":{\"field\":\"Pearson_correlation_with_Target\"},\"y\":{\"field\":\"index\"}},\"id\":\"68031\",\"type\":\"HBar\"},{\"attributes\":{\"coordinates\":null,\"data_source\":{\"id\":\"68023\"},\"glyph\":{\"id\":\"68026\"},\"group\":null,\"hover_glyph\":null,\"muted_glyph\":{\"id\":\"68028\"},\"nonselection_glyph\":{\"id\":\"68027\"},\"selection_glyph\":{\"id\":\"68031\"},\"view\":{\"id\":\"68030\"}},\"id\":\"68029\",\"type\":\"GlyphRenderer\"},{\"attributes\":{\"fill_alpha\":{\"value\":0.1},\"fill_color\":{\"value\":\"#30a2da\"},\"hatch_alpha\":{\"value\":0.1},\"hatch_color\":{\"value\":\"#30a2da\"},\"height\":{\"value\":0.8},\"line_alpha\":{\"value\":0.1},\"right\":{\"field\":\"Pearson_correlation_with_Target\"},\"y\":{\"field\":\"index\"}},\"id\":\"68027\",\"type\":\"HBar\"},{\"attributes\":{},\"id\":\"68010\",\"type\":\"SaveTool\"},{\"attributes\":{\"overlay\":{\"id\":\"68015\"}},\"id\":\"68013\",\"type\":\"BoxZoomTool\"},{\"attributes\":{},\"id\":\"68034\",\"type\":\"AllLabels\"},{\"attributes\":{\"client_comm_id\":\"5d1bd5c886b7434aa211d927cba5f605\",\"comm_id\":\"3c7d612ab0c140fa95cdd8a76fa925d0\",\"plot_id\":\"67990\"},\"id\":\"68079\",\"type\":\"panel.models.comm_manager.CommManager\"},{\"attributes\":{\"tools\":[{\"id\":\"67993\"},{\"id\":\"68010\"},{\"id\":\"68011\"},{\"id\":\"68012\"},{\"id\":\"68013\"},{\"id\":\"68014\"}]},\"id\":\"68016\",\"type\":\"Toolbar\"},{\"attributes\":{},\"id\":\"68045\",\"type\":\"UnionRenderers\"},{\"attributes\":{\"fill_alpha\":{\"value\":0.2},\"fill_color\":{\"value\":\"#30a2da\"},\"hatch_alpha\":{\"value\":0.2},\"hatch_color\":{\"value\":\"#30a2da\"},\"height\":{\"value\":0.8},\"line_alpha\":{\"value\":0.2},\"right\":{\"field\":\"Pearson_correlation_with_Target\"},\"y\":{\"field\":\"index\"}},\"id\":\"68028\",\"type\":\"HBar\"},{\"attributes\":{\"factors\":[\"latitude\",\"longitude\",\"population\",\"total_bedrooms\",\"households\",\"housing_median_age\",\"total_rooms\",\"ocean_proximity\",\"median_income\"],\"tags\":[[[\"index\",\"index\",null]]]},\"id\":\"67992\",\"type\":\"FactorRange\"},{\"attributes\":{\"child\":{\"id\":\"67994\"},\"name\":\"feature_correlation\",\"title\":\"feature_correlation\"},\"id\":\"68048\",\"type\":\"Panel\"},{\"attributes\":{},\"id\":\"68033\",\"type\":\"BasicTickFormatter\"},{\"attributes\":{},\"id\":\"68014\",\"type\":\"ResetTool\"},{\"attributes\":{\"end\":0.7828210342097144,\"reset_end\":0.7828210342097144,\"reset_start\":-0.2267190089981797,\"start\":-0.2267190089981797,\"tags\":[[[\"Pearson_correlation_with_Target\",\"Pearson_correlation_with_Target\",null]]]},\"id\":\"67991\",\"type\":\"Range1d\"},{\"attributes\":{\"margin\":[0,0,0,0],\"tabs\":[{\"id\":\"68048\"}]},\"id\":\"67990\",\"type\":\"panel.models.tabs.Tabs\"},{\"attributes\":{\"fill_color\":{\"value\":\"#30a2da\"},\"hatch_color\":{\"value\":\"#30a2da\"},\"height\":{\"value\":0.8},\"right\":{\"field\":\"Pearson_correlation_with_Target\"},\"y\":{\"field\":\"index\"}},\"id\":\"68026\",\"type\":\"HBar\"},{\"attributes\":{\"below\":[{\"id\":\"68003\"}],\"center\":[{\"id\":\"68006\"},{\"id\":\"68009\"}],\"height\":300,\"left\":[{\"id\":\"68007\"}],\"margin\":[5,5,5,5],\"min_border_bottom\":10,\"min_border_left\":10,\"min_border_right\":10,\"min_border_top\":10,\"renderers\":[{\"id\":\"68029\"}],\"sizing_mode\":\"fixed\",\"title\":{\"id\":\"67995\"},\"toolbar\":{\"id\":\"68016\"},\"width\":700,\"x_range\":{\"id\":\"67991\"},\"x_scale\":{\"id\":\"67999\"},\"y_range\":{\"id\":\"67992\"},\"y_scale\":{\"id\":\"68001\"}},\"id\":\"67994\",\"subtype\":\"Figure\",\"type\":\"Plot\"},{\"attributes\":{\"coordinates\":null,\"group\":null,\"text\":\"Feature Correlation with Target Function\",\"text_color\":\"black\",\"text_font_size\":\"12pt\"},\"id\":\"67995\",\"type\":\"Title\"},{\"attributes\":{},\"id\":\"68024\",\"type\":\"Selection\"},{\"attributes\":{},\"id\":\"68037\",\"type\":\"AllLabels\"},{\"attributes\":{\"axis\":{\"id\":\"68003\"},\"coordinates\":null,\"grid_line_color\":null,\"group\":null,\"ticker\":null},\"id\":\"68006\",\"type\":\"Grid\"},{\"attributes\":{\"bottom_units\":\"screen\",\"coordinates\":null,\"fill_alpha\":0.5,\"fill_color\":\"lightgrey\",\"group\":null,\"left_units\":\"screen\",\"level\":\"overlay\",\"line_alpha\":1.0,\"line_color\":\"black\",\"line_dash\":[4,4],\"line_width\":2,\"right_units\":\"screen\",\"syncable\":false,\"top_units\":\"screen\"},\"id\":\"68015\",\"type\":\"BoxAnnotation\"},{\"attributes\":{\"axis_label\":\"Pearson_correlation_with_Target\",\"coordinates\":null,\"formatter\":{\"id\":\"68033\"},\"group\":null,\"major_label_policy\":{\"id\":\"68034\"},\"ticker\":{\"id\":\"68004\"}},\"id\":\"68003\",\"type\":\"LinearAxis\"},{\"attributes\":{\"callback\":null,\"renderers\":[{\"id\":\"68029\"}],\"tags\":[\"hv_created\"],\"tooltips\":[[\"index\",\"@{index}\"],[\"Pearson_correlation_with_Target\",\"@{Pearson_correlation_with_Target}\"]]},\"id\":\"67993\",\"type\":\"HoverTool\"}],\"root_ids\":[\"67990\",\"68079\"]},\"title\":\"Bokeh Application\",\"version\":\"2.4.3\"}};\n",
       "    var render_items = [{\"docid\":\"a99be38b-1696-413b-86e2-797dcdb2eb6f\",\"root_ids\":[\"67990\"],\"roots\":{\"67990\":\"61a343f9-cbad-44cd-9401-938a64b2d85d\"}}];\n",
       "    root.Bokeh.embed.embed_items_notebook(docs_json, render_items);\n",
       "  }\n",
       "  if (root.Bokeh !== undefined && root.Bokeh.Panel !== undefined) {\n",
       "    embed_document(root);\n",
       "  } else {\n",
       "    var attempts = 0;\n",
       "    var timer = setInterval(function(root) {\n",
       "      if (root.Bokeh !== undefined && root.Bokeh.Panel !== undefined) {\n",
       "        clearInterval(timer);\n",
       "        embed_document(root);\n",
       "      } else if (document.readyState == \"complete\") {\n",
       "        attempts++;\n",
       "        if (attempts > 200) {\n",
       "          clearInterval(timer);\n",
       "          console.log(\"Bokeh: ERROR: Unable to run BokehJS code because BokehJS library is missing\");\n",
       "        }\n",
       "      }\n",
       "    }, 25, root)\n",
       "  }\n",
       "})(window);</script>"
      ],
      "text/plain": [
       "Tabs\n",
       "    [0] HoloViews(Bars, name='feature_correlation')"
      ]
     },
     "execution_count": 97,
     "metadata": {
      "application/vnd.holoviews_exec.v0+json": {
       "id": "67990"
      }
     },
     "output_type": "execute_result"
    }
   ],
   "source": [
    "out = eda.get_target_correlation(train_X, train_y, y_continuous=True)\n",
    "display_as_tabs([(k, v) for k,v in out.items()])"
   ]
  },
  {
   "cell_type": "code",
   "execution_count": 98,
   "metadata": {},
   "outputs": [
    {
     "data": {
      "text/plain": [
       "0        197100.0\n",
       "1        366700.0\n",
       "2        189800.0\n",
       "3        229400.0\n",
       "4        133600.0\n",
       "           ...   \n",
       "16507    175000.0\n",
       "16508     83000.0\n",
       "16509    247000.0\n",
       "16510    316700.0\n",
       "16511    253800.0\n",
       "Name: median_house_value, Length: 16512, dtype: float64"
      ]
     },
     "execution_count": 98,
     "metadata": {},
     "output_type": "execute_result"
    }
   ],
   "source": [
    "train_y[\"median_house_value\"]"
   ]
  },
  {
   "cell_type": "code",
   "execution_count": 99,
   "metadata": {},
   "outputs": [
    {
     "data": {},
     "metadata": {},
     "output_type": "display_data"
    },
    {
     "data": {},
     "metadata": {},
     "output_type": "display_data"
    },
    {
     "data": {
      "application/vnd.holoviews_exec.v0+json": "",
      "text/html": [
       "<div id='68130'>\n",
       "  <div class=\"bk-root\" id=\"8d1715c0-c9aa-492d-9eb1-93a90ec5437c\" data-root-id=\"68130\"></div>\n",
       "</div>\n",
       "<script type=\"application/javascript\">(function(root) {\n",
       "  function embed_document(root) {\n",
       "    var docs_json = {\"7b497c7a-f4f7-46b1-ba46-bd03ccabbeb2\":{\"defs\":[{\"extends\":null,\"module\":null,\"name\":\"ReactiveHTML1\",\"overrides\":[],\"properties\":[]},{\"extends\":null,\"module\":null,\"name\":\"FlexBox1\",\"overrides\":[],\"properties\":[{\"default\":\"flex-start\",\"kind\":null,\"name\":\"align_content\"},{\"default\":\"flex-start\",\"kind\":null,\"name\":\"align_items\"},{\"default\":\"row\",\"kind\":null,\"name\":\"flex_direction\"},{\"default\":\"wrap\",\"kind\":null,\"name\":\"flex_wrap\"},{\"default\":\"flex-start\",\"kind\":null,\"name\":\"justify_content\"}]},{\"extends\":null,\"module\":null,\"name\":\"GridStack1\",\"overrides\":[],\"properties\":[{\"default\":\"warn\",\"kind\":null,\"name\":\"mode\"},{\"default\":null,\"kind\":null,\"name\":\"ncols\"},{\"default\":null,\"kind\":null,\"name\":\"nrows\"},{\"default\":true,\"kind\":null,\"name\":\"allow_resize\"},{\"default\":true,\"kind\":null,\"name\":\"allow_drag\"},{\"default\":[],\"kind\":null,\"name\":\"state\"}]},{\"extends\":null,\"module\":null,\"name\":\"click1\",\"overrides\":[],\"properties\":[{\"default\":\"\",\"kind\":null,\"name\":\"terminal_output\"},{\"default\":\"\",\"kind\":null,\"name\":\"debug_name\"},{\"default\":0,\"kind\":null,\"name\":\"clears\"}]},{\"extends\":null,\"module\":null,\"name\":\"NotificationAreaBase1\",\"overrides\":[],\"properties\":[{\"default\":\"bottom-right\",\"kind\":null,\"name\":\"position\"},{\"default\":0,\"kind\":null,\"name\":\"_clear\"}]},{\"extends\":null,\"module\":null,\"name\":\"NotificationArea1\",\"overrides\":[],\"properties\":[{\"default\":[],\"kind\":null,\"name\":\"notifications\"},{\"default\":\"bottom-right\",\"kind\":null,\"name\":\"position\"},{\"default\":0,\"kind\":null,\"name\":\"_clear\"},{\"default\":[{\"background\":\"#ffc107\",\"icon\":{\"className\":\"fas fa-exclamation-triangle\",\"color\":\"white\",\"tagName\":\"i\"},\"type\":\"warning\"},{\"background\":\"#007bff\",\"icon\":{\"className\":\"fas fa-info-circle\",\"color\":\"white\",\"tagName\":\"i\"},\"type\":\"info\"}],\"kind\":null,\"name\":\"types\"}]},{\"extends\":null,\"module\":null,\"name\":\"Notification\",\"overrides\":[],\"properties\":[{\"default\":null,\"kind\":null,\"name\":\"background\"},{\"default\":3000,\"kind\":null,\"name\":\"duration\"},{\"default\":null,\"kind\":null,\"name\":\"icon\"},{\"default\":\"\",\"kind\":null,\"name\":\"message\"},{\"default\":null,\"kind\":null,\"name\":\"notification_type\"},{\"default\":false,\"kind\":null,\"name\":\"_destroyed\"}]},{\"extends\":null,\"module\":null,\"name\":\"TemplateActions1\",\"overrides\":[],\"properties\":[{\"default\":0,\"kind\":null,\"name\":\"open_modal\"},{\"default\":0,\"kind\":null,\"name\":\"close_modal\"}]},{\"extends\":null,\"module\":null,\"name\":\"MaterialTemplateActions1\",\"overrides\":[],\"properties\":[{\"default\":0,\"kind\":null,\"name\":\"open_modal\"},{\"default\":0,\"kind\":null,\"name\":\"close_modal\"}]}],\"roots\":{\"references\":[{\"attributes\":{},\"id\":\"68151\",\"type\":\"PanTool\"},{\"attributes\":{\"overlay\":{\"id\":\"68155\"}},\"id\":\"68153\",\"type\":\"BoxZoomTool\"},{\"attributes\":{\"fill_alpha\":{\"value\":0.1},\"fill_color\":{\"value\":\"#30a2da\"},\"hatch_alpha\":{\"value\":0.1},\"hatch_color\":{\"value\":\"#30a2da\"},\"height\":{\"value\":0.8},\"line_alpha\":{\"value\":0.1},\"right\":{\"field\":\"importance\"},\"y\":{\"field\":\"index\"}},\"id\":\"68167\",\"type\":\"HBar\"},{\"attributes\":{},\"id\":\"68144\",\"type\":\"BasicTicker\"},{\"attributes\":{\"data\":{\"importance\":{\"__ndarray__\":\"r4W38ejyAMEAAAAAAAAAgAAAAAAAAAAAAAAAAAAAAIAAAAAAAAAAgAAAAAAAAAAAAAAAAAAAAIDb0Zzv9A4DQdXT5kMxGBZB\",\"dtype\":\"float64\",\"order\":\"little\",\"shape\":[9]},\"index\":[\"population\",\"households\",\"housing_median_age\",\"latitude\",\"longitude\",\"median_income\",\"total_bedrooms\",\"total_rooms\",\"ocean_proximity\"]},\"selected\":{\"id\":\"68164\"},\"selection_policy\":{\"id\":\"68185\"}},\"id\":\"68163\",\"type\":\"ColumnDataSource\"},{\"attributes\":{},\"id\":\"68173\",\"type\":\"BasicTickFormatter\"},{\"attributes\":{\"axis_label\":\"Features\",\"coordinates\":null,\"formatter\":{\"id\":\"68176\"},\"group\":null,\"major_label_policy\":{\"id\":\"68177\"},\"ticker\":{\"id\":\"68148\"}},\"id\":\"68147\",\"type\":\"CategoricalAxis\"},{\"attributes\":{\"coordinates\":null,\"data_source\":{\"id\":\"68163\"},\"glyph\":{\"id\":\"68166\"},\"group\":null,\"hover_glyph\":null,\"muted_glyph\":{\"id\":\"68168\"},\"nonselection_glyph\":{\"id\":\"68167\"},\"selection_glyph\":{\"id\":\"68171\"},\"view\":{\"id\":\"68170\"}},\"id\":\"68169\",\"type\":\"GlyphRenderer\"},{\"attributes\":{},\"id\":\"68148\",\"type\":\"CategoricalTicker\"},{\"attributes\":{\"child\":{\"id\":\"68134\"},\"name\":\"from_model\",\"title\":\"from_model\"},\"id\":\"68188\",\"type\":\"Panel\"},{\"attributes\":{\"axis\":{\"id\":\"68143\"},\"coordinates\":null,\"grid_line_color\":null,\"group\":null,\"ticker\":null},\"id\":\"68146\",\"type\":\"Grid\"},{\"attributes\":{\"child\":{\"id\":\"68189\"},\"name\":\"shap_values\",\"title\":\"shap_values\"},\"id\":\"68190\",\"type\":\"Panel\"},{\"attributes\":{\"axis\":{\"id\":\"68147\"},\"coordinates\":null,\"dimension\":1,\"grid_line_color\":null,\"group\":null,\"ticker\":null},\"id\":\"68149\",\"type\":\"Grid\"},{\"attributes\":{\"fill_alpha\":{\"value\":0.2},\"fill_color\":{\"value\":\"#30a2da\"},\"hatch_alpha\":{\"value\":0.2},\"hatch_color\":{\"value\":\"#30a2da\"},\"height\":{\"value\":0.8},\"line_alpha\":{\"value\":0.2},\"right\":{\"field\":\"importance\"},\"y\":{\"field\":\"index\"}},\"id\":\"68168\",\"type\":\"HBar\"},{\"attributes\":{},\"id\":\"68150\",\"type\":\"SaveTool\"},{\"attributes\":{},\"id\":\"68141\",\"type\":\"CategoricalScale\"},{\"attributes\":{\"axis_label\":\"Feature Importance [determined by coeff * mean(x)]\",\"coordinates\":null,\"formatter\":{\"id\":\"68173\"},\"group\":null,\"major_label_policy\":{\"id\":\"68174\"},\"ticker\":{\"id\":\"68144\"}},\"id\":\"68143\",\"type\":\"LinearAxis\"},{\"attributes\":{\"height\":509,\"margin\":[5,5,5,5],\"name\":\"shap_values\",\"text\":\"&lt;img src=&quot;data:image/png;base64,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&quot; width=&quot;800px&quot; height=&quot;509px&quot; alt=&quot;&quot;&gt;&lt;/img&gt;\",\"width\":800},\"id\":\"68189\",\"type\":\"panel.models.markup.HTML\"},{\"attributes\":{},\"id\":\"68176\",\"type\":\"CategoricalTickFormatter\"},{\"attributes\":{},\"id\":\"68174\",\"type\":\"AllLabels\"},{\"attributes\":{},\"id\":\"68164\",\"type\":\"Selection\"},{\"attributes\":{},\"id\":\"68152\",\"type\":\"WheelZoomTool\"},{\"attributes\":{},\"id\":\"68185\",\"type\":\"UnionRenderers\"},{\"attributes\":{\"bottom_units\":\"screen\",\"coordinates\":null,\"fill_alpha\":0.5,\"fill_color\":\"lightgrey\",\"group\":null,\"left_units\":\"screen\",\"level\":\"overlay\",\"line_alpha\":1.0,\"line_color\":\"black\",\"line_dash\":[4,4],\"line_width\":2,\"right_units\":\"screen\",\"syncable\":false,\"top_units\":\"screen\"},\"id\":\"68155\",\"type\":\"BoxAnnotation\"},{\"attributes\":{\"client_comm_id\":\"212bfadc06a246a397c250af0fd50802\",\"comm_id\":\"ebbdbd34a770423981ec860af25259cd\",\"plot_id\":\"68130\"},\"id\":\"68221\",\"type\":\"panel.models.comm_manager.CommManager\"},{\"attributes\":{\"tools\":[{\"id\":\"68133\"},{\"id\":\"68150\"},{\"id\":\"68151\"},{\"id\":\"68152\"},{\"id\":\"68153\"},{\"id\":\"68154\"}]},\"id\":\"68156\",\"type\":\"Toolbar\"},{\"attributes\":{\"callback\":null,\"renderers\":[{\"id\":\"68169\"}],\"tags\":[\"hv_created\"],\"tooltips\":[[\"index\",\"@{index}\"],[\"importance\",\"@{importance}\"]]},\"id\":\"68133\",\"type\":\"HoverTool\"},{\"attributes\":{\"below\":[{\"id\":\"68143\"}],\"center\":[{\"id\":\"68146\"},{\"id\":\"68149\"}],\"height\":300,\"left\":[{\"id\":\"68147\"}],\"margin\":[5,5,5,5],\"min_border_bottom\":10,\"min_border_left\":10,\"min_border_right\":10,\"min_border_top\":10,\"renderers\":[{\"id\":\"68169\"}],\"sizing_mode\":\"fixed\",\"title\":{\"id\":\"68135\"},\"toolbar\":{\"id\":\"68156\"},\"width\":700,\"x_range\":{\"id\":\"68131\"},\"x_scale\":{\"id\":\"68139\"},\"y_range\":{\"id\":\"68132\"},\"y_scale\":{\"id\":\"68141\"}},\"id\":\"68134\",\"subtype\":\"Figure\",\"type\":\"Plot\"},{\"attributes\":{\"margin\":[0,0,0,0],\"tabs\":[{\"id\":\"68188\"},{\"id\":\"68190\"}]},\"id\":\"68130\",\"type\":\"panel.models.tabs.Tabs\"},{\"attributes\":{\"coordinates\":null,\"group\":null,\"text\":\"Feature Importances from LassoCV\",\"text_color\":\"black\",\"text_font_size\":\"12pt\"},\"id\":\"68135\",\"type\":\"Title\"},{\"attributes\":{\"end\":412080.4597438291,\"reset_end\":412080.4597438291,\"reset_start\":-188929.26145942672,\"start\":-188929.26145942672,\"tags\":[[[\"importance\",\"importance\",null]]]},\"id\":\"68131\",\"type\":\"Range1d\"},{\"attributes\":{},\"id\":\"68177\",\"type\":\"AllLabels\"},{\"attributes\":{\"source\":{\"id\":\"68163\"}},\"id\":\"68170\",\"type\":\"CDSView\"},{\"attributes\":{},\"id\":\"68154\",\"type\":\"ResetTool\"},{\"attributes\":{\"fill_alpha\":{\"value\":1.0},\"fill_color\":{\"value\":\"#30a2da\"},\"hatch_alpha\":{\"value\":1.0},\"hatch_color\":{\"value\":\"#30a2da\"},\"hatch_scale\":{\"value\":12.0},\"hatch_weight\":{\"value\":1.0},\"height\":{\"value\":0.8},\"left\":{\"value\":0},\"line_alpha\":{\"value\":1.0},\"line_cap\":{\"value\":\"butt\"},\"line_color\":{\"value\":\"black\"},\"line_dash\":{\"value\":[]},\"line_dash_offset\":{\"value\":0},\"line_join\":{\"value\":\"bevel\"},\"line_width\":{\"value\":1},\"right\":{\"field\":\"importance\"},\"y\":{\"field\":\"index\"}},\"id\":\"68171\",\"type\":\"HBar\"},{\"attributes\":{},\"id\":\"68139\",\"type\":\"LinearScale\"},{\"attributes\":{\"factors\":[\"population\",\"households\",\"housing_median_age\",\"latitude\",\"longitude\",\"median_income\",\"total_bedrooms\",\"total_rooms\",\"ocean_proximity\"],\"tags\":[[[\"index\",\"index\",null]]]},\"id\":\"68132\",\"type\":\"FactorRange\"},{\"attributes\":{\"fill_color\":{\"value\":\"#30a2da\"},\"hatch_color\":{\"value\":\"#30a2da\"},\"height\":{\"value\":0.8},\"right\":{\"field\":\"importance\"},\"y\":{\"field\":\"index\"}},\"id\":\"68166\",\"type\":\"HBar\"}],\"root_ids\":[\"68130\",\"68221\"]},\"title\":\"Bokeh Application\",\"version\":\"2.4.3\"}};\n",
       "    var render_items = [{\"docid\":\"7b497c7a-f4f7-46b1-ba46-bd03ccabbeb2\",\"root_ids\":[\"68130\"],\"roots\":{\"68130\":\"8d1715c0-c9aa-492d-9eb1-93a90ec5437c\"}}];\n",
       "    root.Bokeh.embed.embed_items_notebook(docs_json, render_items);\n",
       "  }\n",
       "  if (root.Bokeh !== undefined && root.Bokeh.Panel !== undefined) {\n",
       "    embed_document(root);\n",
       "  } else {\n",
       "    var attempts = 0;\n",
       "    var timer = setInterval(function(root) {\n",
       "      if (root.Bokeh !== undefined && root.Bokeh.Panel !== undefined) {\n",
       "        clearInterval(timer);\n",
       "        embed_document(root);\n",
       "      } else if (document.readyState == \"complete\") {\n",
       "        attempts++;\n",
       "        if (attempts > 200) {\n",
       "          clearInterval(timer);\n",
       "          console.log(\"Bokeh: ERROR: Unable to run BokehJS code because BokehJS library is missing\");\n",
       "        }\n",
       "      }\n",
       "    }, 25, root)\n",
       "  }\n",
       "})(window);</script>"
      ],
      "text/plain": [
       "Tabs\n",
       "    [0] HoloViews(Bars, name='from_model')\n",
       "    [1] Matplotlib(Figure, name='shap_values')"
      ]
     },
     "execution_count": 99,
     "metadata": {
      "application/vnd.holoviews_exec.v0+json": {
       "id": "68130"
      }
     },
     "output_type": "execute_result"
    }
   ],
   "source": [
    "out = eda.get_feature_importances(train_X, train_y, y_continuous=True)\n",
    "display_as_tabs([(k, v) for k,v in out.items()])"
   ]
  },
  {
   "cell_type": "code",
   "execution_count": 100,
   "metadata": {},
   "outputs": [],
   "source": [
    "reports.key_drivers(train_X,train_y, 'reports_new/key_drivers_report.html', y_continuous=True)"
   ]
  },
  {
   "cell_type": "code",
   "execution_count": 101,
   "metadata": {},
   "outputs": [
    {
     "name": "stderr",
     "output_type": "stream",
     "text": [
      "p-value may not be accurate for N > 5000.\n"
     ]
    }
   ],
   "source": [
    "reports.data_exploration(train_X,train_y,'reports_new/data_exploration_report.html', y_continuous=True)"
   ]
  },
  {
   "cell_type": "code",
   "execution_count": 102,
   "metadata": {},
   "outputs": [],
   "source": [
    "curated_columns = train_X.columns.to_list()\n",
    "\n",
    "# saving the list of relevant columns\n",
    "save_pipeline(curated_columns, op.abspath(op.join(artifacts_folder, 'curated_columns.joblib')))\n",
    "\n",
    "# save the feature pipeline\n",
    "save_pipeline(features_transformer, op.abspath(op.join(artifacts_folder, 'features.joblib')))"
   ]
  },
  {
   "cell_type": "code",
   "execution_count": 103,
   "metadata": {},
   "outputs": [],
   "source": [
    "cols = list(train_X.columns)\n",
    "vif = eda.calc_vif(train_X)\n",
    "while max(vif.VIF) > 15:\n",
    "    #removing the largest variable from VIF\n",
    "    cols.remove(vif[(vif.VIF==vif.VIF.max())].variables.tolist()[0])\n",
    "    vif = eda.calc_vif(train_X[cols])"
   ]
  },
  {
   "cell_type": "code",
   "execution_count": 104,
   "metadata": {},
   "outputs": [],
   "source": [
    "reg_vars = vif.query('VIF < 15').variables\n",
    "reg_vars = list(reg_vars)"
   ]
  },
  {
   "cell_type": "code",
   "execution_count": 105,
   "metadata": {},
   "outputs": [],
   "source": [
    "# Custom Transformations like these can be utilised\n",
    "def _custom_data_transform(df, cols2keep=None):\n",
    "    \"\"\"Transformation to drop some columns in the data\n",
    "    \n",
    "    Parameters\n",
    "    ----------\n",
    "        df - pd.DataFrame\n",
    "        cols2keep - columns to keep in the dataframe\n",
    "    \"\"\"\n",
    "    cols2keep = cols2keep or []\n",
    "    if len(cols2keep):\n",
    "        return (df\n",
    "                .select_columns(cols2keep))\n",
    "    else:\n",
    "        return df"
   ]
  },
  {
   "cell_type": "code",
   "execution_count": 106,
   "metadata": {},
   "outputs": [
    {
     "data": {
      "text/html": [
       "<style>#sk-container-id-5 {color: black;background-color: white;}#sk-container-id-5 pre{padding: 0;}#sk-container-id-5 div.sk-toggleable {background-color: white;}#sk-container-id-5 label.sk-toggleable__label {cursor: pointer;display: block;width: 100%;margin-bottom: 0;padding: 0.3em;box-sizing: border-box;text-align: center;}#sk-container-id-5 label.sk-toggleable__label-arrow:before {content: \"▸\";float: left;margin-right: 0.25em;color: #696969;}#sk-container-id-5 label.sk-toggleable__label-arrow:hover:before {color: black;}#sk-container-id-5 div.sk-estimator:hover label.sk-toggleable__label-arrow:before {color: black;}#sk-container-id-5 div.sk-toggleable__content {max-height: 0;max-width: 0;overflow: hidden;text-align: left;background-color: #f0f8ff;}#sk-container-id-5 div.sk-toggleable__content pre {margin: 0.2em;color: black;border-radius: 0.25em;background-color: #f0f8ff;}#sk-container-id-5 input.sk-toggleable__control:checked~div.sk-toggleable__content {max-height: 200px;max-width: 100%;overflow: auto;}#sk-container-id-5 input.sk-toggleable__control:checked~label.sk-toggleable__label-arrow:before {content: \"▾\";}#sk-container-id-5 div.sk-estimator input.sk-toggleable__control:checked~label.sk-toggleable__label {background-color: #d4ebff;}#sk-container-id-5 div.sk-label input.sk-toggleable__control:checked~label.sk-toggleable__label {background-color: #d4ebff;}#sk-container-id-5 input.sk-hidden--visually {border: 0;clip: rect(1px 1px 1px 1px);clip: rect(1px, 1px, 1px, 1px);height: 1px;margin: -1px;overflow: hidden;padding: 0;position: absolute;width: 1px;}#sk-container-id-5 div.sk-estimator {font-family: monospace;background-color: #f0f8ff;border: 1px dotted black;border-radius: 0.25em;box-sizing: border-box;margin-bottom: 0.5em;}#sk-container-id-5 div.sk-estimator:hover {background-color: #d4ebff;}#sk-container-id-5 div.sk-parallel-item::after {content: \"\";width: 100%;border-bottom: 1px solid gray;flex-grow: 1;}#sk-container-id-5 div.sk-label:hover label.sk-toggleable__label {background-color: #d4ebff;}#sk-container-id-5 div.sk-serial::before {content: \"\";position: absolute;border-left: 1px solid gray;box-sizing: border-box;top: 0;bottom: 0;left: 50%;z-index: 0;}#sk-container-id-5 div.sk-serial {display: flex;flex-direction: column;align-items: center;background-color: white;padding-right: 0.2em;padding-left: 0.2em;position: relative;}#sk-container-id-5 div.sk-item {position: relative;z-index: 1;}#sk-container-id-5 div.sk-parallel {display: flex;align-items: stretch;justify-content: center;background-color: white;position: relative;}#sk-container-id-5 div.sk-item::before, #sk-container-id-5 div.sk-parallel-item::before {content: \"\";position: absolute;border-left: 1px solid gray;box-sizing: border-box;top: 0;bottom: 0;left: 50%;z-index: -1;}#sk-container-id-5 div.sk-parallel-item {display: flex;flex-direction: column;z-index: 1;position: relative;background-color: white;}#sk-container-id-5 div.sk-parallel-item:first-child::after {align-self: flex-end;width: 50%;}#sk-container-id-5 div.sk-parallel-item:last-child::after {align-self: flex-start;width: 50%;}#sk-container-id-5 div.sk-parallel-item:only-child::after {width: 0;}#sk-container-id-5 div.sk-dashed-wrapped {border: 1px dashed gray;margin: 0 0.4em 0.5em 0.4em;box-sizing: border-box;padding-bottom: 0.4em;background-color: white;}#sk-container-id-5 div.sk-label label {font-family: monospace;font-weight: bold;display: inline-block;line-height: 1.2em;}#sk-container-id-5 div.sk-label-container {text-align: center;}#sk-container-id-5 div.sk-container {/* jupyter's `normalize.less` sets `[hidden] { display: none; }` but bootstrap.min.css set `[hidden] { display: none !important; }` so we also need the `!important` here to be able to override the default hidden behavior on the sphinx rendered scikit-learn.org. See: https://github.com/scikit-learn/scikit-learn/issues/21755 */display: inline-block !important;position: relative;}#sk-container-id-5 div.sk-text-repr-fallback {display: none;}</style><div id=\"sk-container-id-5\" class=\"sk-top-container\"><div class=\"sk-text-repr-fallback\"><pre>Pipeline(steps=[(&#x27;&#x27;,\n",
       "                 FunctionTransformer(func=&lt;function _custom_data_transform at 0x7f4211a42160&gt;,\n",
       "                                     kw_args={&#x27;cols2keep&#x27;: [&#x27;ocean_proximity&#x27;,\n",
       "                                                            &#x27;housing_median_age&#x27;,\n",
       "                                                            &#x27;total_bedrooms&#x27;,\n",
       "                                                            &#x27;population&#x27;,\n",
       "                                                            &#x27;median_income&#x27;]})),\n",
       "                (&#x27;estimator&#x27;, SKLStatsmodelOLS())])</pre><b>In a Jupyter environment, please rerun this cell to show the HTML representation or trust the notebook. <br />On GitHub, the HTML representation is unable to render, please try loading this page with nbviewer.org.</b></div><div class=\"sk-container\" hidden><div class=\"sk-item sk-dashed-wrapped\"><div class=\"sk-label-container\"><div class=\"sk-label sk-toggleable\"><input class=\"sk-toggleable__control sk-hidden--visually\" id=\"sk-estimator-id-11\" type=\"checkbox\" ><label for=\"sk-estimator-id-11\" class=\"sk-toggleable__label sk-toggleable__label-arrow\">Pipeline</label><div class=\"sk-toggleable__content\"><pre>Pipeline(steps=[(&#x27;&#x27;,\n",
       "                 FunctionTransformer(func=&lt;function _custom_data_transform at 0x7f4211a42160&gt;,\n",
       "                                     kw_args={&#x27;cols2keep&#x27;: [&#x27;ocean_proximity&#x27;,\n",
       "                                                            &#x27;housing_median_age&#x27;,\n",
       "                                                            &#x27;total_bedrooms&#x27;,\n",
       "                                                            &#x27;population&#x27;,\n",
       "                                                            &#x27;median_income&#x27;]})),\n",
       "                (&#x27;estimator&#x27;, SKLStatsmodelOLS())])</pre></div></div></div><div class=\"sk-serial\"><div class=\"sk-item\"><div class=\"sk-estimator sk-toggleable\"><input class=\"sk-toggleable__control sk-hidden--visually\" id=\"sk-estimator-id-12\" type=\"checkbox\" ><label for=\"sk-estimator-id-12\" class=\"sk-toggleable__label sk-toggleable__label-arrow\">FunctionTransformer</label><div class=\"sk-toggleable__content\"><pre>FunctionTransformer(func=&lt;function _custom_data_transform at 0x7f4211a42160&gt;,\n",
       "                    kw_args={&#x27;cols2keep&#x27;: [&#x27;ocean_proximity&#x27;,\n",
       "                                           &#x27;housing_median_age&#x27;,\n",
       "                                           &#x27;total_bedrooms&#x27;, &#x27;population&#x27;,\n",
       "                                           &#x27;median_income&#x27;]})</pre></div></div></div><div class=\"sk-item\"><div class=\"sk-estimator sk-toggleable\"><input class=\"sk-toggleable__control sk-hidden--visually\" id=\"sk-estimator-id-13\" type=\"checkbox\" ><label for=\"sk-estimator-id-13\" class=\"sk-toggleable__label sk-toggleable__label-arrow\">SKLStatsmodelOLS</label><div class=\"sk-toggleable__content\"><pre>SKLStatsmodelOLS()</pre></div></div></div></div></div></div></div>"
      ],
      "text/plain": [
       "Pipeline(steps=[('',\n",
       "                 FunctionTransformer(func=<function _custom_data_transform at 0x7f4211a42160>,\n",
       "                                     kw_args={'cols2keep': ['ocean_proximity',\n",
       "                                                            'housing_median_age',\n",
       "                                                            'total_bedrooms',\n",
       "                                                            'population',\n",
       "                                                            'median_income']})),\n",
       "                ('estimator', SKLStatsmodelOLS())])"
      ]
     },
     "execution_count": 106,
     "metadata": {},
     "output_type": "execute_result"
    }
   ],
   "source": [
    "reg_ppln_ols = Pipeline([\n",
    "    ('',FunctionTransformer(_custom_data_transform, kw_args={'cols2keep':reg_vars})),\n",
    "    ('estimator', SKLStatsmodelOLS())\n",
    "])\n",
    "reg_ppln_ols.fit(train_X, train_y.values.ravel())\n"
   ]
  },
  {
   "cell_type": "code",
   "execution_count": 107,
   "metadata": {},
   "outputs": [
    {
     "data": {
      "text/html": [
       "<table class=\"simpletable\">\n",
       "<caption>OLS Regression Results</caption>\n",
       "<tr>\n",
       "  <th>Dep. Variable:</th>            <td>y</td>        <th>  R-squared:         </th>  <td>   0.648</td>  \n",
       "</tr>\n",
       "<tr>\n",
       "  <th>Model:</th>                   <td>OLS</td>       <th>  Adj. R-squared:    </th>  <td>   0.647</td>  \n",
       "</tr>\n",
       "<tr>\n",
       "  <th>Method:</th>             <td>Least Squares</td>  <th>  F-statistic:       </th>  <td>   6064.</td>  \n",
       "</tr>\n",
       "<tr>\n",
       "  <th>Date:</th>             <td>Fri, 06 Dec 2024</td> <th>  Prob (F-statistic):</th>   <td>  0.00</td>   \n",
       "</tr>\n",
       "<tr>\n",
       "  <th>Time:</th>                 <td>14:15:44</td>     <th>  Log-Likelihood:    </th> <td>-2.0729e+05</td>\n",
       "</tr>\n",
       "<tr>\n",
       "  <th>No. Observations:</th>      <td> 16512</td>      <th>  AIC:               </th>  <td>4.146e+05</td> \n",
       "</tr>\n",
       "<tr>\n",
       "  <th>Df Residuals:</th>          <td> 16506</td>      <th>  BIC:               </th>  <td>4.146e+05</td> \n",
       "</tr>\n",
       "<tr>\n",
       "  <th>Df Model:</th>              <td>     5</td>      <th>                     </th>      <td> </td>     \n",
       "</tr>\n",
       "<tr>\n",
       "  <th>Covariance Type:</th>      <td>nonrobust</td>    <th>                     </th>      <td> </td>     \n",
       "</tr>\n",
       "</table>\n",
       "<table class=\"simpletable\">\n",
       "<tr>\n",
       "           <td></td>             <th>coef</th>     <th>std err</th>      <th>t</th>      <th>P>|t|</th>  <th>[0.025</th>    <th>0.975]</th>  \n",
       "</tr>\n",
       "<tr>\n",
       "  <th>intercept</th>          <td>-1.293e+05</td> <td> 2631.789</td> <td>  -49.117</td> <td> 0.000</td> <td>-1.34e+05</td> <td>-1.24e+05</td>\n",
       "</tr>\n",
       "<tr>\n",
       "  <th>ocean_proximity</th>    <td>    0.6111</td> <td>    0.010</td> <td>   59.159</td> <td> 0.000</td> <td>    0.591</td> <td>    0.631</td>\n",
       "</tr>\n",
       "<tr>\n",
       "  <th>housing_median_age</th> <td> 1275.1134</td> <td>   48.101</td> <td>   26.509</td> <td> 0.000</td> <td> 1180.831</td> <td> 1369.396</td>\n",
       "</tr>\n",
       "<tr>\n",
       "  <th>total_bedrooms</th>     <td>  139.2142</td> <td>    3.165</td> <td>   43.991</td> <td> 0.000</td> <td>  133.011</td> <td>  145.417</td>\n",
       "</tr>\n",
       "<tr>\n",
       "  <th>population</th>         <td>  -45.3587</td> <td>    1.185</td> <td>  -38.291</td> <td> 0.000</td> <td>  -47.681</td> <td>  -43.037</td>\n",
       "</tr>\n",
       "<tr>\n",
       "  <th>median_income</th>      <td> 4.256e+04</td> <td>  320.351</td> <td>  132.858</td> <td> 0.000</td> <td> 4.19e+04</td> <td> 4.32e+04</td>\n",
       "</tr>\n",
       "</table>\n",
       "<table class=\"simpletable\">\n",
       "<tr>\n",
       "  <th>Omnibus:</th>       <td>3551.812</td> <th>  Durbin-Watson:     </th> <td>   2.010</td> \n",
       "</tr>\n",
       "<tr>\n",
       "  <th>Prob(Omnibus):</th>  <td> 0.000</td>  <th>  Jarque-Bera (JB):  </th> <td>10060.747</td>\n",
       "</tr>\n",
       "<tr>\n",
       "  <th>Skew:</th>           <td> 1.135</td>  <th>  Prob(JB):          </th> <td>    0.00</td> \n",
       "</tr>\n",
       "<tr>\n",
       "  <th>Kurtosis:</th>       <td> 6.077</td>  <th>  Cond. No.          </th> <td>1.06e+06</td> \n",
       "</tr>\n",
       "</table><br/><br/>Notes:<br/>[1] Standard Errors assume that the covariance matrix of the errors is correctly specified.<br/>[2] The condition number is large, 1.06e+06. This might indicate that there are<br/>strong multicollinearity or other numerical problems."
      ],
      "text/plain": [
       "<class 'statsmodels.iolib.summary.Summary'>\n",
       "\"\"\"\n",
       "                            OLS Regression Results                            \n",
       "==============================================================================\n",
       "Dep. Variable:                      y   R-squared:                       0.648\n",
       "Model:                            OLS   Adj. R-squared:                  0.647\n",
       "Method:                 Least Squares   F-statistic:                     6064.\n",
       "Date:                Fri, 06 Dec 2024   Prob (F-statistic):               0.00\n",
       "Time:                        14:15:44   Log-Likelihood:            -2.0729e+05\n",
       "No. Observations:               16512   AIC:                         4.146e+05\n",
       "Df Residuals:                   16506   BIC:                         4.146e+05\n",
       "Df Model:                           5                                         \n",
       "Covariance Type:            nonrobust                                         \n",
       "======================================================================================\n",
       "                         coef    std err          t      P>|t|      [0.025      0.975]\n",
       "--------------------------------------------------------------------------------------\n",
       "intercept          -1.293e+05   2631.789    -49.117      0.000   -1.34e+05   -1.24e+05\n",
       "ocean_proximity        0.6111      0.010     59.159      0.000       0.591       0.631\n",
       "housing_median_age  1275.1134     48.101     26.509      0.000    1180.831    1369.396\n",
       "total_bedrooms       139.2142      3.165     43.991      0.000     133.011     145.417\n",
       "population           -45.3587      1.185    -38.291      0.000     -47.681     -43.037\n",
       "median_income       4.256e+04    320.351    132.858      0.000    4.19e+04    4.32e+04\n",
       "==============================================================================\n",
       "Omnibus:                     3551.812   Durbin-Watson:                   2.010\n",
       "Prob(Omnibus):                  0.000   Jarque-Bera (JB):            10060.747\n",
       "Skew:                           1.135   Prob(JB):                         0.00\n",
       "Kurtosis:                       6.077   Cond. No.                     1.06e+06\n",
       "==============================================================================\n",
       "\n",
       "Notes:\n",
       "[1] Standard Errors assume that the covariance matrix of the errors is correctly specified.\n",
       "[2] The condition number is large, 1.06e+06. This might indicate that there are\n",
       "strong multicollinearity or other numerical problems.\n",
       "\"\"\""
      ]
     },
     "execution_count": 107,
     "metadata": {},
     "output_type": "execute_result"
    }
   ],
   "source": [
    "reg_ppln_ols['estimator'].summary()"
   ]
  },
  {
   "cell_type": "code",
   "execution_count": 108,
   "metadata": {},
   "outputs": [],
   "source": [
    "reg_ppln = Pipeline([\n",
    "    ('', FunctionTransformer(_custom_data_transform, kw_args={'cols2keep':reg_vars})),\n",
    "    ('Linear Regression', SKLStatsmodelOLS())\n",
    "])\n",
    "test_X = get_dataframe(\n",
    "    features_transformer.transform(test_X), \n",
    "    get_feature_names_from_column_transformer(features_transformer)\n",
    ")"
   ]
  },
  {
   "cell_type": "code",
   "execution_count": 109,
   "metadata": {},
   "outputs": [],
   "source": [
    "reg_linear_report = RegressionReport(model=reg_ppln, x_train=train_X, y_train=train_y, x_test= test_X, y_test= test_y, refit=True)\n",
    "reg_linear_report.get_report(include_shap=False, file_path='reports_new/regression_linear_model_report')"
   ]
  },
  {
   "cell_type": "code",
   "execution_count": 110,
   "metadata": {},
   "outputs": [],
   "source": [
    "threshold=0.3\n",
    "residual_analysis = test_X.copy()\n",
    "residual_analysis['prediction'] = reg_ppln_ols.predict(test_X)\n",
    "residual_analysis['actuals'] = test_y.reset_index(drop = True).iloc[:,0].values\n",
    "residual_analysis['forecast_flag'] = 'good'\n",
    "residual_analysis.loc[((residual_analysis['prediction'] > (1+threshold) * residual_analysis['actuals'])\\\n",
    "                       & (residual_analysis['actuals']>100)),'forecast_flag'] = 'over predict'\n",
    "residual_analysis.loc[((residual_analysis['prediction'] < (1-threshold) * residual_analysis['actuals'])\\\n",
    "                       & (residual_analysis['actuals']>100)),'forecast_flag'] = 'under predict'"
   ]
  },
  {
   "cell_type": "code",
   "execution_count": 111,
   "metadata": {},
   "outputs": [
    {
     "data": {},
     "metadata": {},
     "output_type": "display_data"
    },
    {
     "data": {
      "application/vnd.holoviews_exec.v0+json": "",
      "text/html": [
       "<div id='89076'>\n",
       "  <div class=\"bk-root\" id=\"5e55d11d-e8a0-4809-8104-b76b7a191094\" data-root-id=\"89076\"></div>\n",
       "</div>\n",
       "<script type=\"application/javascript\">(function(root) {\n",
       "  function embed_document(root) {\n",
       "    var docs_json = {\"4b421334-98b9-45d9-9df7-f8819d6ccfd6\":{\"defs\":[{\"extends\":null,\"module\":null,\"name\":\"ReactiveHTML1\",\"overrides\":[],\"properties\":[]},{\"extends\":null,\"module\":null,\"name\":\"FlexBox1\",\"overrides\":[],\"properties\":[{\"default\":\"flex-start\",\"kind\":null,\"name\":\"align_content\"},{\"default\":\"flex-start\",\"kind\":null,\"name\":\"align_items\"},{\"default\":\"row\",\"kind\":null,\"name\":\"flex_direction\"},{\"default\":\"wrap\",\"kind\":null,\"name\":\"flex_wrap\"},{\"default\":\"flex-start\",\"kind\":null,\"name\":\"justify_content\"}]},{\"extends\":null,\"module\":null,\"name\":\"GridStack1\",\"overrides\":[],\"properties\":[{\"default\":\"warn\",\"kind\":null,\"name\":\"mode\"},{\"default\":null,\"kind\":null,\"name\":\"ncols\"},{\"default\":null,\"kind\":null,\"name\":\"nrows\"},{\"default\":true,\"kind\":null,\"name\":\"allow_resize\"},{\"default\":true,\"kind\":null,\"name\":\"allow_drag\"},{\"default\":[],\"kind\":null,\"name\":\"state\"}]},{\"extends\":null,\"module\":null,\"name\":\"click1\",\"overrides\":[],\"properties\":[{\"default\":\"\",\"kind\":null,\"name\":\"terminal_output\"},{\"default\":\"\",\"kind\":null,\"name\":\"debug_name\"},{\"default\":0,\"kind\":null,\"name\":\"clears\"}]},{\"extends\":null,\"module\":null,\"name\":\"NotificationAreaBase1\",\"overrides\":[],\"properties\":[{\"default\":\"bottom-right\",\"kind\":null,\"name\":\"position\"},{\"default\":0,\"kind\":null,\"name\":\"_clear\"}]},{\"extends\":null,\"module\":null,\"name\":\"NotificationArea1\",\"overrides\":[],\"properties\":[{\"default\":[],\"kind\":null,\"name\":\"notifications\"},{\"default\":\"bottom-right\",\"kind\":null,\"name\":\"position\"},{\"default\":0,\"kind\":null,\"name\":\"_clear\"},{\"default\":[{\"background\":\"#ffc107\",\"icon\":{\"className\":\"fas fa-exclamation-triangle\",\"color\":\"white\",\"tagName\":\"i\"},\"type\":\"warning\"},{\"background\":\"#007bff\",\"icon\":{\"className\":\"fas fa-info-circle\",\"color\":\"white\",\"tagName\":\"i\"},\"type\":\"info\"}],\"kind\":null,\"name\":\"types\"}]},{\"extends\":null,\"module\":null,\"name\":\"Notification\",\"overrides\":[],\"properties\":[{\"default\":null,\"kind\":null,\"name\":\"background\"},{\"default\":3000,\"kind\":null,\"name\":\"duration\"},{\"default\":null,\"kind\":null,\"name\":\"icon\"},{\"default\":\"\",\"kind\":null,\"name\":\"message\"},{\"default\":null,\"kind\":null,\"name\":\"notification_type\"},{\"default\":false,\"kind\":null,\"name\":\"_destroyed\"}]},{\"extends\":null,\"module\":null,\"name\":\"TemplateActions1\",\"overrides\":[],\"properties\":[{\"default\":0,\"kind\":null,\"name\":\"open_modal\"},{\"default\":0,\"kind\":null,\"name\":\"close_modal\"}]},{\"extends\":null,\"module\":null,\"name\":\"MaterialTemplateActions1\",\"overrides\":[],\"properties\":[{\"default\":0,\"kind\":null,\"name\":\"open_modal\"},{\"default\":0,\"kind\":null,\"name\":\"close_modal\"}]}],\"roots\":{\"references\":[{\"attributes\":{},\"id\":\"89117\",\"type\":\"BasicTickFormatter\"},{\"attributes\":{\"source\":{\"id\":\"89162\"}},\"id\":\"89169\",\"type\":\"CDSView\"},{\"attributes\":{\"fill_alpha\":0.5,\"fill_color\":\"#fc4f30\",\"hatch_alpha\":0.1,\"hatch_color\":\"#fc4f30\",\"line_alpha\":0.7,\"x\":{\"field\":\"x\"},\"y\":{\"field\":\"y\"}},\"id\":\"89144\",\"type\":\"Patch\"},{\"attributes\":{\"end\":817530.017683526,\"reset_end\":817530.017683526,\"reset_start\":-232561.91899173998,\"start\":-232561.91899173998,\"tags\":[[[\"prediction\",\"prediction\",null]]]},\"id\":\"89078\",\"type\":\"Range1d\"},{\"attributes\":{\"margin\":[5,5,5,5],\"name\":\"HSpacer232328\",\"sizing_mode\":\"stretch_width\"},\"id\":\"89077\",\"type\":\"Spacer\"},{\"attributes\":{},\"id\":\"89163\",\"type\":\"Selection\"},{\"attributes\":{\"coordinates\":null,\"data_source\":{\"id\":\"89162\"},\"glyph\":{\"id\":\"89165\"},\"group\":null,\"hover_glyph\":null,\"muted_glyph\":{\"id\":\"89167\"},\"nonselection_glyph\":{\"id\":\"89166\"},\"selection_glyph\":{\"id\":\"89185\"},\"view\":{\"id\":\"89169\"}},\"id\":\"89168\",\"type\":\"GlyphRenderer\"},{\"attributes\":{\"fill_alpha\":0.5,\"fill_color\":\"#30a2da\",\"hatch_alpha\":0.1,\"hatch_color\":\"#30a2da\",\"line_alpha\":0.7,\"x\":{\"field\":\"x\"},\"y\":{\"field\":\"y\"}},\"id\":\"89123\",\"type\":\"Patch\"},{\"attributes\":{},\"id\":\"89115\",\"type\":\"AllLabels\"},{\"attributes\":{\"label\":{\"value\":\"under predict\"},\"renderers\":[{\"id\":\"89168\"}]},\"id\":\"89184\",\"type\":\"LegendItem\"},{\"attributes\":{},\"id\":\"89088\",\"type\":\"LinearScale\"},{\"attributes\":{\"fill_alpha\":0.5,\"fill_color\":\"#30a2da\",\"hatch_alpha\":0.7,\"hatch_color\":\"#30a2da\",\"line_alpha\":0.7,\"x\":{\"field\":\"x\"},\"y\":{\"field\":\"y\"}},\"id\":\"89122\",\"type\":\"Patch\"},{\"attributes\":{},\"id\":\"89118\",\"type\":\"AllLabels\"},{\"attributes\":{\"data\":{\"x\":{\"__ndarray__\":\"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\",\"dtype\":\"float64\",\"order\":\"little\",\"shape\":[200]},\"y\":{\"__ndarray__\":\"AAAAAAAAAAAAAAAAAAAAAAAAAAAAAAAAAAAAAAAAAAAAAAAAAAAAAAAAAAAAAAAAAAAAAAAAAAAAAAAAAAAAAAAAAAAAAAAAAAAAAAAAAAAAAAAAAAAAAAAAAAAAAAAAAAAAAAAAAAAAAAAAAAAAAAAAAAAAAAAAAAAAAAAAAAAAAAAAAAAAAAAAAAAAAAAAAAAAAAAAAAAAAAAAAAAAAAAAAAAAAAAAAAAAAAAAAAAAAAAAAAAAAAAAAAAAAAAAAAAAAAAAAAAAAAAAAAAAAAAAAAAAAAAAAAAAAAAAAAAAAAAAAAAAAAAAAAAAAAAAAAAAAAAAAAAAAAAAAAAAAAAAAAAAAAAAAAAAAAAAAAAAAAAAAAAAAAAAAAAAAAAAAAAAAAAAAAAAAAAAAAAAAAAAAAAAAAAAAAAAAAAAAAAAAAAAAAAAAAAAAAAAAAAAAAAAAAAAAAAAAAAAAAAAAAAAAAAAAAAAAAAAAAAAAAAAAAAAAAAAAAAAAAAAAAAAAAAAAAAAAAAAAAAAAAAAAAAAAAAAAAAAAAAAAAAAAAAAAAAAAAAAAAAAAAAAAAAAAAAAAAAAAAAAAAAAAAAAAAAAAAAAAAAAAAAAAAAAAAAAAAAAAAAAAAAAAAAAAAAAAAAAAAAAAAAAAAAAAAAAAAAAAAAAAAAAAAAAAAAAAAAAAAAAAAAAAAAAAAAAAAAAAAAAAAAAAAAAAAAAAAAAAAAAAAAAAAAAAAAAAAAAAAAAAAAAAAAAAAAAAAAAAAAAAAAAAAAAAAAAAAAAAAAAAAAAAAAAAAAAAAAAAAAAAAAAAAAAAAAAAAAAAAAAAAAAAAAAAAAAAAAAAAAAAAAAAAAAAAAAAAAAAAAAAAAAAAAAAAAAAAAAAAAAAAAAAAAAAAAAAAAAAAAAAAAAAAAAAAAAAAAAAAAAAAAAAAAAAAAAAAAAAAAAAAAAAAAAAAAAAAAAAAAAAAAAAAAAAAAAAAAAAAAAAAAAAAAAAAAAAAAAAAAAAAAAAAAAAAAAAAAAAAAAAAAAAAAAAAAAAAAAAAAAAAAAAAAAAAAAAAAAAAC+JOhaDVzhPXNl7IASsfg97l+kzL4kDz6KlhyR+XIhPgJbOUv6aTE+U3shaxgOPz7xKzKzyNdIPtPoZ/1Q7FE+E0OIqEJ7Vz6KO3Pg6y9cPkEcFgRzal8+tEWEvZ6ZYD5rmAfhUDNhPr28kPbQSmI+u4tiIIDLZD5EpzXDT2xpProyZtUmKXA+HsgracJtdD5NrcfuP+F4PjEhOs1B0nw+JfrhLM3Yfz6bgTvU6weBPrD2EeFgBII+zIPi7og+gz4Y72wmt/eEPvLvRzTbO4c+zmy+hO/qiT52JAJpUtmMPs7BBy356Y8+oPgAip+GkT7OOGjEiBWTPm0Scvcei5Q+LbLpEe/PlT5rdjbMv+CWPqZL/RWp3Zc+BzvYZI8FmT4y321H7Z+aPnl6v3j94pw+m7ENoxjknz7gTRRNmcuhPrCKKbcf7aM+AIEcCpVDpj7hFP8YF8SoPvX17whhdKs+CLQV1o5srj6g3C8bVuewPjVMmRwf3LI+oZW3aY0ctT53WUnNXau3PjgFY8uFiro+F7xP6Qi7vT7h2CGjMpvAPvNoRxpndMI+5LbuWCtaxD7z+Phduj3GPsVKES0UFMg+A/2r2A3UyT4kd/41PnHLPgZKFCEA2sw+NqrX8+v7zT7kI1gM4MvOPlpNt3aiS88+kN6M8NaJzz4Q6cQHk53PPmk/6ddHoM8+xcF6ZQqnzz7SYJ4QuLvPPqxo8avV2M8+m8w8KnHszz6rE9eKjuLPPjtmnvYGsc8+orFRpkxczz7PGeHvr/HOPu0Xkj0LfM4+G+kzUZL7zT62lP7h9mXNPt1rOUkTrcw+CWp+lSbGyz5Dw1h1NK3KPlsgBgSTZMk+GT+ZITDzxz7P2qte2mLGPq2m7Sq1vcQ+qi7GG18Kwz7CB/8eykjBPnk3DcS85b4+KHd9pJADuz5zVUfBheq2PspAYk5bsbI+su5z+AUNrT4U4WaaWU2lPoSgflApNJ0+25lIjDOLkj6gC1sk36GFPnb7qx8sAnc+JBvLvx8sZj7/1W9QWkJTPgIubA3oCD4+GYtAVxr1JD6g3OxK4hsKPg==\",\"dtype\":\"float64\",\"order\":\"little\",\"shape\":[200]}},\"selected\":{\"id\":\"89120\"},\"selection_policy\":{\"id\":\"89134\"}},\"id\":\"89119\",\"type\":\"ColumnDataSource\"},{\"attributes\":{},\"id\":\"89090\",\"type\":\"LinearScale\"},{\"attributes\":{\"end\":5.792418379177904e-06,\"reset_end\":5.792418379177904e-06,\"reset_start\":0.0,\"tags\":[[[\"prediction_density\",\"Density\",null]]]},\"id\":\"89079\",\"type\":\"Range1d\"},{\"attributes\":{\"data\":{\"x\":{\"__ndarray__\":\"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\",\"dtype\":\"float64\",\"order\":\"little\",\"shape\":[200]},\"y\":{\"__ndarray__\":\"AAAAAAAAAAAAAAAAAAAAAAAAAAAAAAAAAAAAAAAAAAAAAAAAAAAAAAAAAAAAAAAAAAAAAAAAAAAAAAAAAAAAAAAAAAAAAAAAAAAAAAAAAAAAAAAAAAAAAAAAAAAAAAAAAAAAAAAAAAAAAAAAAAAAAAAAAAAAAAAAAAAAAAAAAAAAAAAAAAAAAAAAAAAAAAAAAAAAAAAAAAAAAAAAAAAAAAAAAAAAAAAAAAAAAAAAAAAAAAAAAAAAAAAAAAAAAAAAAAAAAAAAAAAAAAAAAAAAAAAAAAAAAAAAAAAAAAAAAAAAAAAAAAAAAAAAAAAAAAAAAAAAAAAAAAAAAAAAAAAAAAAAAAAAAAAAAAAAAAAAAAAAAAAAAAAAAAAAAAAAAAAAAAAAAAAAAAAAAAAAAAAAAAAAAAAAAAAAAAAAAAAAAAAAAAAAAAAAAAAAAAAAAAAAAAAAAAAAAAAAAAAAAAAAAAAAAAAAAAAAAAAAAAAAAAAAAAAAAAAAAAAAAAAAAAAAAAAAAAAAAAAAAAAAAAAAAAAAAAAAAAAAAAAAAAAAAAAAAAAAAAAAAAAAAAAAAAAAAAAAAAAAAAAAAAAAAAAAAAAAAAAAAAAAAAAAAAAAAAAAAAAAAAAAAAAAAAAAAAAAAAAAAAAAAAAAAAAAAAAAAAAAAAAAAAAAAAAAAAAAAAAAAAAAAAAAAAAAAAAAAAAAAAAAAAAAAAAAAAAAAAAAAAAAAAAAAAAAAAAAAAAAAAAAAAAAAAAAAAAAAAAAAAAAAAAAAAAAAAAAAAAAAAAAAAAAAAAAAAAAAAAAAAAAAAAAAAAAAAAAAAAAAAAAAAAAAAAAAAAAAAAAAAAAAAAAAAAAAAAAAAAAAAAAAAAAAAAAAAAAAAAAAAAAAAAAAAAAAAAAAAAAAAAAAAAAAAAAAAAAAAAAAAAAAAAAAAAAAAAAAAAAAAAAAAAAAAAAAAAAAAAAAAAAAAAAAAAAAAAAAAAAAAAAAAAAAAAAAAAAAAAAAAAAAAAAAAAAAAAAAAAAAAAAAAAAAAAAAAAAAAAAAAAAAAAAAAAAAAAAAAAAAADcThrVu5rsPVv9MrxOFgY+wYCwqeFvHT7uzDjyrQ4xPv9Kz/60ZUE+O9Cev6nJTz6FE+8pVZhaPtXIqBIZ0WQ+Axk7adTcbj7zh0qn16B1PpFzaNsIUnw+gldgDIMZgT40hXCsQOiCPtUxoOoAKoM+9Hzkem74gT7mL+eQX6l/PuN3eJ6NrHo+cStazjvPdT7J0ONKAGhxPgXP4jY79Go+dR6mxQvsYz4xaBoW445bPmrAFiGNnVE+onB19a9YRT6S6PgU4G08PoaTzyvNazs+JREOkba+Qj47gHe/mhlLPtIcyWFfxlE+m6Yn5LN2VD4a2JPTgfFUPsO+yr/Q71M+JMpa7X4CUz70mJrcJkVTPodhaGGMalQ+Fs2qNpn+VD5xivyb8p9TPqutXgrtFVA+FHOYnTbCRj4Z+16FoKM7PmC7M/nwAi0++sFqhTeUHD7yVvBPeTAVPlyKIYtdmyM+0edEGvGNOD6dk8KXtY1MPjsfpWTURF0+xYvdXvWBaj612RP52Wt1PqqHXMOxQn8+cUpd443bhD5tLdH7782JPmCATvcLHo4+cZepX78CkT5nB6T0TkWTPoZYYBdorpY+4UFeuKInnD4lILIwVjSiPgIrMAOF9Kc+GpMOvC+Arz76mO3Na320Ptqein7tNro+2U9EdF9swD5LJwZgJRrEPvV2B5WpAcg+TDawzdvzyz4rJIslyLfPPr0uw/vgitE+Tx6zjefz0j4G1ZvE6hDUPgr67T7K5dQ+HH5DPaR61T6N60KRvNjVPjWdpgaxCdY+mO9G1CgW1j710rw7lwTWPux9IR1h2tU++DdqghKd1T6Wb6B8CE7VPutbBxdI4dQ+T0ugyLY51D6biFQsjDPTPvGhAOF5uNE+C8dzZdOczz6sF/FC8SvLPkSjs8ckeMY+8Xasyj/WwT7VmwvrvBG7PtsVwMU+grM+7qjFdXCDqj6CsiPo79+gPo+txg3mBZQ+1zS4FI0Xhj7lrWnRqqV2PjfZtFBnjmU+Qc1J1wAAUz4mgdTBr9I+PrekAkljyCY+FSWk951TDj7Z0LFqEPXxPQ==\",\"dtype\":\"float64\",\"order\":\"little\",\"shape\":[200]}},\"selected\":{\"id\":\"89141\"},\"selection_policy\":{\"id\":\"89157\"}},\"id\":\"89140\",\"type\":\"ColumnDataSource\"},{\"attributes\":{\"fill_alpha\":0.5,\"fill_color\":\"#e5ae38\",\"hatch_alpha\":0.7,\"hatch_color\":\"#e5ae38\",\"line_alpha\":0.7,\"x\":{\"field\":\"x\"},\"y\":{\"field\":\"y\"}},\"id\":\"89185\",\"type\":\"Patch\"},{\"attributes\":{\"source\":{\"id\":\"89140\"}},\"id\":\"89147\",\"type\":\"CDSView\"},{\"attributes\":{},\"id\":\"89114\",\"type\":\"BasicTickFormatter\"},{\"attributes\":{\"overlay\":{\"id\":\"89105\"}},\"id\":\"89103\",\"type\":\"BoxZoomTool\"},{\"attributes\":{\"label\":{\"value\":\"over predict\"},\"renderers\":[{\"id\":\"89146\"}]},\"id\":\"89160\",\"type\":\"LegendItem\"},{\"attributes\":{\"axis_label\":\"density\",\"coordinates\":null,\"formatter\":{\"id\":\"89117\"},\"group\":null,\"major_label_policy\":{\"id\":\"89118\"},\"ticker\":{\"id\":\"89097\"}},\"id\":\"89096\",\"type\":\"LinearAxis\"},{\"attributes\":{\"children\":[{\"id\":\"89077\"},{\"id\":\"89083\"},{\"id\":\"89298\"}],\"margin\":[0,0,0,0],\"name\":\"Row232324\",\"tags\":[\"embedded\"]},\"id\":\"89076\",\"type\":\"Row\"},{\"attributes\":{\"bottom_units\":\"screen\",\"coordinates\":null,\"fill_alpha\":0.5,\"fill_color\":\"lightgrey\",\"group\":null,\"left_units\":\"screen\",\"level\":\"overlay\",\"line_alpha\":1.0,\"line_color\":\"black\",\"line_dash\":[4,4],\"line_width\":2,\"right_units\":\"screen\",\"syncable\":false,\"top_units\":\"screen\"},\"id\":\"89105\",\"type\":\"BoxAnnotation\"},{\"attributes\":{\"fill_alpha\":0.5,\"fill_color\":\"#fc4f30\",\"hatch_alpha\":0.7,\"hatch_color\":\"#fc4f30\",\"line_alpha\":0.7,\"x\":{\"field\":\"x\"},\"y\":{\"field\":\"y\"}},\"id\":\"89161\",\"type\":\"Patch\"},{\"attributes\":{\"axis_label\":\"medianouse_value\",\"coordinates\":null,\"formatter\":{\"id\":\"89114\"},\"group\":null,\"major_label_policy\":{\"id\":\"89115\"},\"ticker\":{\"id\":\"89093\"}},\"id\":\"89092\",\"type\":\"LinearAxis\"},{\"attributes\":{},\"id\":\"89097\",\"type\":\"BasicTicker\"},{\"attributes\":{},\"id\":\"89093\",\"type\":\"BasicTicker\"},{\"attributes\":{\"fill_alpha\":0.2,\"fill_color\":\"#30a2da\",\"hatch_alpha\":0.2,\"hatch_color\":\"#30a2da\",\"line_alpha\":0.2,\"x\":{\"field\":\"x\"},\"y\":{\"field\":\"y\"}},\"id\":\"89124\",\"type\":\"Patch\"},{\"attributes\":{\"click_policy\":\"mute\",\"coordinates\":null,\"group\":null,\"items\":[{\"id\":\"89138\"},{\"id\":\"89160\"},{\"id\":\"89184\"}],\"title\":\"forecast_flag\"},\"id\":\"89137\",\"type\":\"Legend\"},{\"attributes\":{},\"id\":\"89120\",\"type\":\"Selection\"},{\"attributes\":{\"label\":{\"value\":\"good\"},\"renderers\":[{\"id\":\"89125\"}]},\"id\":\"89138\",\"type\":\"LegendItem\"},{\"attributes\":{},\"id\":\"89102\",\"type\":\"WheelZoomTool\"},{\"attributes\":{\"axis\":{\"id\":\"89096\"},\"coordinates\":null,\"dimension\":1,\"grid_line_color\":null,\"group\":null,\"ticker\":null},\"id\":\"89099\",\"type\":\"Grid\"},{\"attributes\":{},\"id\":\"89104\",\"type\":\"ResetTool\"},{\"attributes\":{\"coordinates\":null,\"data_source\":{\"id\":\"89119\"},\"glyph\":{\"id\":\"89122\"},\"group\":null,\"hover_glyph\":null,\"muted_glyph\":{\"id\":\"89124\"},\"nonselection_glyph\":{\"id\":\"89123\"},\"selection_glyph\":{\"id\":\"89139\"},\"view\":{\"id\":\"89126\"}},\"id\":\"89125\",\"type\":\"GlyphRenderer\"},{\"attributes\":{\"below\":[{\"id\":\"89092\"}],\"center\":[{\"id\":\"89095\"},{\"id\":\"89099\"},{\"id\":\"89137\"}],\"height\":400,\"left\":[{\"id\":\"89096\"}],\"margin\":[5,5,5,5],\"min_border_bottom\":10,\"min_border_left\":10,\"min_border_right\":10,\"min_border_top\":10,\"renderers\":[{\"id\":\"89125\"},{\"id\":\"89146\"},{\"id\":\"89168\"}],\"sizing_mode\":\"fixed\",\"title\":{\"id\":\"89084\"},\"toolbar\":{\"id\":\"89106\"},\"width\":800,\"x_range\":{\"id\":\"89078\"},\"x_scale\":{\"id\":\"89088\"},\"y_range\":{\"id\":\"89079\"},\"y_scale\":{\"id\":\"89090\"}},\"id\":\"89083\",\"subtype\":\"Figure\",\"type\":\"Plot\"},{\"attributes\":{\"coordinates\":null,\"data_source\":{\"id\":\"89140\"},\"glyph\":{\"id\":\"89143\"},\"group\":null,\"hover_glyph\":null,\"muted_glyph\":{\"id\":\"89145\"},\"nonselection_glyph\":{\"id\":\"89144\"},\"selection_glyph\":{\"id\":\"89161\"},\"view\":{\"id\":\"89147\"}},\"id\":\"89146\",\"type\":\"GlyphRenderer\"},{\"attributes\":{\"fill_alpha\":0.5,\"fill_color\":\"#e5ae38\",\"hatch_alpha\":0.7,\"hatch_color\":\"#e5ae38\",\"line_alpha\":0.7,\"x\":{\"field\":\"x\"},\"y\":{\"field\":\"y\"}},\"id\":\"89165\",\"type\":\"Patch\"},{\"attributes\":{},\"id\":\"89181\",\"type\":\"UnionRenderers\"},{\"attributes\":{\"fill_alpha\":0.2,\"fill_color\":\"#fc4f30\",\"hatch_alpha\":0.2,\"hatch_color\":\"#fc4f30\",\"line_alpha\":0.2,\"x\":{\"field\":\"x\"},\"y\":{\"field\":\"y\"}},\"id\":\"89145\",\"type\":\"Patch\"},{\"attributes\":{\"fill_alpha\":0.2,\"fill_color\":\"#e5ae38\",\"hatch_alpha\":0.2,\"hatch_color\":\"#e5ae38\",\"line_alpha\":0.2,\"x\":{\"field\":\"x\"},\"y\":{\"field\":\"y\"}},\"id\":\"89167\",\"type\":\"Patch\"},{\"attributes\":{},\"id\":\"89101\",\"type\":\"PanTool\"},{\"attributes\":{},\"id\":\"89100\",\"type\":\"SaveTool\"},{\"attributes\":{},\"id\":\"89141\",\"type\":\"Selection\"},{\"attributes\":{\"fill_alpha\":0.5,\"fill_color\":\"#fc4f30\",\"hatch_alpha\":0.7,\"hatch_color\":\"#fc4f30\",\"line_alpha\":0.7,\"x\":{\"field\":\"x\"},\"y\":{\"field\":\"y\"}},\"id\":\"89143\",\"type\":\"Patch\"},{\"attributes\":{\"fill_alpha\":0.5,\"fill_color\":\"#e5ae38\",\"hatch_alpha\":0.1,\"hatch_color\":\"#e5ae38\",\"line_alpha\":0.7,\"x\":{\"field\":\"x\"},\"y\":{\"field\":\"y\"}},\"id\":\"89166\",\"type\":\"Patch\"},{\"attributes\":{\"callback\":null,\"renderers\":[{\"id\":\"89125\"},{\"id\":\"89146\"},{\"id\":\"89168\"}],\"tags\":[\"hv_created\"],\"tooltips\":[[\"forecast_flag\",\"@{forecast_flag}\"],[\"prediction\",\"@{prediction}\"],[\"Density\",\"@{prediction_density}\"]]},\"id\":\"89080\",\"type\":\"HoverTool\"},{\"attributes\":{\"tools\":[{\"id\":\"89080\"},{\"id\":\"89100\"},{\"id\":\"89101\"},{\"id\":\"89102\"},{\"id\":\"89103\"},{\"id\":\"89104\"}]},\"id\":\"89106\",\"type\":\"Toolbar\"},{\"attributes\":{\"axis\":{\"id\":\"89092\"},\"coordinates\":null,\"grid_line_color\":null,\"group\":null,\"ticker\":null},\"id\":\"89095\",\"type\":\"Grid\"},{\"attributes\":{\"coordinates\":null,\"group\":null,\"text\":\"median_house_value(density)\",\"text_color\":\"black\",\"text_font_size\":\"12pt\"},\"id\":\"89084\",\"type\":\"Title\"},{\"attributes\":{\"source\":{\"id\":\"89119\"}},\"id\":\"89126\",\"type\":\"CDSView\"},{\"attributes\":{\"data\":{\"x\":{\"__ndarray__\":\"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\",\"dtype\":\"float64\",\"order\":\"little\",\"shape\":[200]},\"y\":{\"__ndarray__\":\"AAAAAAAAAAAAAAAAAAAAAAAAAAAAAAAAAAAAAAAAAAAAAAAAAAAAAAAAAAAAAAAAAAAAAAAAAAAAAAAAAAAAAAAAAAAAAAAAAAAAAAAAAAAAAAAAAAAAAAAAAAAAAAAAAAAAAAAAAAAAAAAAAAAAAAAAAAAAAAAAAAAAAAAAAAAAAAAAAAAAAAAAAAAAAAAAAAAAAAAAAAAAAAAAAAAAAAAAAAAAAAAAAAAAAAAAAAAAAAAAAAAAAAAAAAAAAAAAAAAAAAAAAAAAAAAAAAAAAAAAAAAAAAAAAAAAAAAAAAAAAAAAAAAAAAAAAAAAAAAAAAAAAAAAAAAAAAAAAAAAAAAAAAAAAAAAAAAAAAAAAAAAAAAAAAAAAAAAAAAAAAAAAAAAAAAAAAAAAAAAAAAAAAAAAAAAAAAAAAAAAAAAAAAAAAAAAAAAAAAAAAAAAAAAAAAAAAAAAAAAAAAAAAAAAAAAAAAAAAAAAAAAAAAAAAAAAAAAAAAAAAAAAAAAAAAAAAAAAAAAAAAAAAAAAAAAAAAAAAAAAAAAAAAAAAAAAAAAAAAAAAAAAAAAAAAAAAAAAAAAAAAAAAAAAAAAAAAAAAAAAAAAAAAAAAAAAAAAAAAAAAAAAAAAAAAAAAAAAAAAAAAAAAAAAAAAAAAAAAAAAAAAAAAAAAAAAAAAAAAAAAAAAAAAAAAAAAAAAAAAAAAAAAAAAAAAAAAAAAAAAAAAAAAAAAAAAAAAAAAAAAAAAAAAAAAAAAAAAAAAAAAAAAAAAAAAAAAAAAAAAAAAAAAAAAAAAAAAAAAAAAAAAAAAAAAAAAAAAAAAAAAAAAAAAAAAAAAAAAAAAAAAAAAAAAAAAAAAAAAAAAAAAAAAAAAAAAAAAAAAAAAAAAAAAAAAAAAAAAAAAAAAAAAAAAAAAAAAAAAAAAAAAAAAAAAAAAAAAAAAAAAAAAAAAAAAAAAAAAAAAAAAAAAAAAAAAAAAAAAAAAAAAAAAAAAAAAAAAAAAAAAAAAAAAAAAAAAAAAAAAAAAAAAAAAAAAAAAAAAAAAAAAAAAAAAAAAAAAAAAAAAAAAB6AP4Ok1kkPpaWI16vsjU++bvlNvnwRT58iQ246w1VPoSWvgNhL2M+sy5jcmidcD4rbpPgPGF7Pj/JSYfhfYU+DKA38eAYkD7m6mSHBw6XPtnBbjWRpZ8+EkxpQKrgpD7inPZVA5GqPn8/D7vOXLA+BZjKDqaWsz5EQ8ZNBuG2PlOVg6W1Kbo+GimRk5BgvT7c0+9qDDvAPiHATSVxrcE+nlLzgG8Awz5R6EELEi/EPhu3wDa3N8U+7toYPS8cxj7NVusLN+DGPiOIdozDhsc+vUdqM2APyD5b1tLjDnXIPnxK2NF5r8g+8PzZ4jO2yD7mxp2mzYTIPlkEAB0qHsg+zPajb9+Nxz5Edl0bR+fGPnK5jJy3QsY+tZjVY9i5xT6+QP00/2PFPjmHCzA2U8U+Oq4g5C2SxT6ihYlEJCPGPsS9P5y2/8Y+b7Pk5pUZyD5/Qm5RFFzJPmnrGbR1rso+ZgGnUNP2yz48y06bQB3NPlW4aZa6Ds4+fzPEGVS/zj6rEqlBGyvPPpTG2AdsVc8++sJ/A8JGzz5GTU1nggnPPuoTQ1SDps4+oodQZS0izj5FGr6v8nrNPuljmBaGqcw+su0CiNGiyz5rYsC3OFvKPv37N4lbysg+xh1EOmPuxj6Jv6KCAM7EPmTYG2SaeMI+yLkwB6kEwD7LP+/9Whm7PhDuCxQIV7Y+6SrlfsPxsT7OA9/nrhqsPoT9e9A2fqU+5jRxpn8boD5116mS/syXPrMgtziDgJE+p2Nl+uj4iT759TGsBsSDPmsVu1UeTn8+CL49hfHxeT49mfIfvVt2PmrQ63u4unM+J5I3Lc+IcT4uhmBNiAlvPnR5khBrRms+L/UjHC7yZz5gyciBoEhlPpntSm77b2M+13lIOa1hYj51+y4Xb+dhPl64dClzqmE+iZB8TjxNYT5jEkfjK4ZgPq7TzRyLY14+1sNDJiqvWj5IwpUrzkNWPh2PqMERmlE+jSA852xTSj7KQoG84ppCPqTo2Xe/1jg+AMhP1zRQLz5vnNGAdKIiPsBzqZf87xQ+L73Rp/Y0Bj7+X8pqqDv2PQ==\",\"dtype\":\"float64\",\"order\":\"little\",\"shape\":[200]}},\"selected\":{\"id\":\"89163\"},\"selection_policy\":{\"id\":\"89181\"}},\"id\":\"89162\",\"type\":\"ColumnDataSource\"},{\"attributes\":{},\"id\":\"89134\",\"type\":\"UnionRenderers\"},{\"attributes\":{\"fill_alpha\":0.5,\"fill_color\":\"#30a2da\",\"hatch_alpha\":0.7,\"hatch_color\":\"#30a2da\",\"line_alpha\":0.7,\"x\":{\"field\":\"x\"},\"y\":{\"field\":\"y\"}},\"id\":\"89139\",\"type\":\"Patch\"},{\"attributes\":{\"margin\":[5,5,5,5],\"name\":\"HSpacer232329\",\"sizing_mode\":\"stretch_width\"},\"id\":\"89298\",\"type\":\"Spacer\"},{\"attributes\":{},\"id\":\"89157\",\"type\":\"UnionRenderers\"}],\"root_ids\":[\"89076\"]},\"title\":\"Bokeh Application\",\"version\":\"2.4.3\"}};\n",
       "    var render_items = [{\"docid\":\"4b421334-98b9-45d9-9df7-f8819d6ccfd6\",\"root_ids\":[\"89076\"],\"roots\":{\"89076\":\"5e55d11d-e8a0-4809-8104-b76b7a191094\"}}];\n",
       "    root.Bokeh.embed.embed_items_notebook(docs_json, render_items);\n",
       "  }\n",
       "  if (root.Bokeh !== undefined && root.Bokeh.Panel !== undefined) {\n",
       "    embed_document(root);\n",
       "  } else {\n",
       "    var attempts = 0;\n",
       "    var timer = setInterval(function(root) {\n",
       "      if (root.Bokeh !== undefined && root.Bokeh.Panel !== undefined) {\n",
       "        clearInterval(timer);\n",
       "        embed_document(root);\n",
       "      } else if (document.readyState == \"complete\") {\n",
       "        attempts++;\n",
       "        if (attempts > 200) {\n",
       "          clearInterval(timer);\n",
       "          console.log(\"Bokeh: ERROR: Unable to run BokehJS code because BokehJS library is missing\");\n",
       "        }\n",
       "      }\n",
       "    }, 25, root)\n",
       "  }\n",
       "})(window);</script>"
      ],
      "text/plain": [
       ":NdOverlay   [forecast_flag]\n",
       "   :Distribution   [prediction]   (Density)"
      ]
     },
     "execution_count": 111,
     "metadata": {
      "application/vnd.holoviews_exec.v0+json": {
       "id": "89076"
      }
     },
     "output_type": "execute_result"
    }
   ],
   "source": [
    "residual_analysis.hvplot.kde(y=\"prediction\",by=\"forecast_flag\", ## Grouping by Predictions\n",
    "                                width=800, height=400,\n",
    "                                alpha=0.7,\n",
    "                                ylabel=\"density\",\n",
    "                                xlabel=\"medianouse_value\",\n",
    "                                title=f'median_house_value(density)',legend='top_right')\n",
    "\n",
    "# residual_analysis"
   ]
  },
  {
   "cell_type": "code",
   "execution_count": 112,
   "metadata": {},
   "outputs": [
    {
     "data": {
      "text/html": [
       "<style>#sk-container-id-6 {color: black;background-color: white;}#sk-container-id-6 pre{padding: 0;}#sk-container-id-6 div.sk-toggleable {background-color: white;}#sk-container-id-6 label.sk-toggleable__label {cursor: pointer;display: block;width: 100%;margin-bottom: 0;padding: 0.3em;box-sizing: border-box;text-align: center;}#sk-container-id-6 label.sk-toggleable__label-arrow:before {content: \"▸\";float: left;margin-right: 0.25em;color: #696969;}#sk-container-id-6 label.sk-toggleable__label-arrow:hover:before {color: black;}#sk-container-id-6 div.sk-estimator:hover label.sk-toggleable__label-arrow:before {color: black;}#sk-container-id-6 div.sk-toggleable__content {max-height: 0;max-width: 0;overflow: hidden;text-align: left;background-color: #f0f8ff;}#sk-container-id-6 div.sk-toggleable__content pre {margin: 0.2em;color: black;border-radius: 0.25em;background-color: #f0f8ff;}#sk-container-id-6 input.sk-toggleable__control:checked~div.sk-toggleable__content {max-height: 200px;max-width: 100%;overflow: auto;}#sk-container-id-6 input.sk-toggleable__control:checked~label.sk-toggleable__label-arrow:before {content: \"▾\";}#sk-container-id-6 div.sk-estimator input.sk-toggleable__control:checked~label.sk-toggleable__label {background-color: #d4ebff;}#sk-container-id-6 div.sk-label input.sk-toggleable__control:checked~label.sk-toggleable__label {background-color: #d4ebff;}#sk-container-id-6 input.sk-hidden--visually {border: 0;clip: rect(1px 1px 1px 1px);clip: rect(1px, 1px, 1px, 1px);height: 1px;margin: -1px;overflow: hidden;padding: 0;position: absolute;width: 1px;}#sk-container-id-6 div.sk-estimator {font-family: monospace;background-color: #f0f8ff;border: 1px dotted black;border-radius: 0.25em;box-sizing: border-box;margin-bottom: 0.5em;}#sk-container-id-6 div.sk-estimator:hover {background-color: #d4ebff;}#sk-container-id-6 div.sk-parallel-item::after {content: \"\";width: 100%;border-bottom: 1px solid gray;flex-grow: 1;}#sk-container-id-6 div.sk-label:hover label.sk-toggleable__label {background-color: #d4ebff;}#sk-container-id-6 div.sk-serial::before {content: \"\";position: absolute;border-left: 1px solid gray;box-sizing: border-box;top: 0;bottom: 0;left: 50%;z-index: 0;}#sk-container-id-6 div.sk-serial {display: flex;flex-direction: column;align-items: center;background-color: white;padding-right: 0.2em;padding-left: 0.2em;position: relative;}#sk-container-id-6 div.sk-item {position: relative;z-index: 1;}#sk-container-id-6 div.sk-parallel {display: flex;align-items: stretch;justify-content: center;background-color: white;position: relative;}#sk-container-id-6 div.sk-item::before, #sk-container-id-6 div.sk-parallel-item::before {content: \"\";position: absolute;border-left: 1px solid gray;box-sizing: border-box;top: 0;bottom: 0;left: 50%;z-index: -1;}#sk-container-id-6 div.sk-parallel-item {display: flex;flex-direction: column;z-index: 1;position: relative;background-color: white;}#sk-container-id-6 div.sk-parallel-item:first-child::after {align-self: flex-end;width: 50%;}#sk-container-id-6 div.sk-parallel-item:last-child::after {align-self: flex-start;width: 50%;}#sk-container-id-6 div.sk-parallel-item:only-child::after {width: 0;}#sk-container-id-6 div.sk-dashed-wrapped {border: 1px dashed gray;margin: 0 0.4em 0.5em 0.4em;box-sizing: border-box;padding-bottom: 0.4em;background-color: white;}#sk-container-id-6 div.sk-label label {font-family: monospace;font-weight: bold;display: inline-block;line-height: 1.2em;}#sk-container-id-6 div.sk-label-container {text-align: center;}#sk-container-id-6 div.sk-container {/* jupyter's `normalize.less` sets `[hidden] { display: none; }` but bootstrap.min.css set `[hidden] { display: none !important; }` so we also need the `!important` here to be able to override the default hidden behavior on the sphinx rendered scikit-learn.org. See: https://github.com/scikit-learn/scikit-learn/issues/21755 */display: inline-block !important;position: relative;}#sk-container-id-6 div.sk-text-repr-fallback {display: none;}</style><div id=\"sk-container-id-6\" class=\"sk-top-container\"><div class=\"sk-text-repr-fallback\"><pre>Pipeline(steps=[(&#x27;XGBoost&#x27;,\n",
       "                 XGBRegressor(base_score=0.5, booster=&#x27;gbtree&#x27;,\n",
       "                              colsample_bylevel=1, colsample_bynode=1,\n",
       "                              colsample_bytree=1, enable_categorical=False,\n",
       "                              gamma=0, gpu_id=-1, importance_type=None,\n",
       "                              interaction_constraints=&#x27;&#x27;,\n",
       "                              learning_rate=0.300000012, max_delta_step=0,\n",
       "                              max_depth=6, min_child_weight=1, missing=nan,\n",
       "                              monotone_constraints=&#x27;()&#x27;, n_estimators=100,\n",
       "                              n_jobs=14, num_parallel_tree=1, predictor=&#x27;auto&#x27;,\n",
       "                              random_state=0, reg_alpha=0, reg_lambda=1,\n",
       "                              scale_pos_weight=1, subsample=1,\n",
       "                              tree_method=&#x27;exact&#x27;, validate_parameters=1,\n",
       "                              verbosity=None))])</pre><b>In a Jupyter environment, please rerun this cell to show the HTML representation or trust the notebook. <br />On GitHub, the HTML representation is unable to render, please try loading this page with nbviewer.org.</b></div><div class=\"sk-container\" hidden><div class=\"sk-item sk-dashed-wrapped\"><div class=\"sk-label-container\"><div class=\"sk-label sk-toggleable\"><input class=\"sk-toggleable__control sk-hidden--visually\" id=\"sk-estimator-id-14\" type=\"checkbox\" ><label for=\"sk-estimator-id-14\" class=\"sk-toggleable__label sk-toggleable__label-arrow\">Pipeline</label><div class=\"sk-toggleable__content\"><pre>Pipeline(steps=[(&#x27;XGBoost&#x27;,\n",
       "                 XGBRegressor(base_score=0.5, booster=&#x27;gbtree&#x27;,\n",
       "                              colsample_bylevel=1, colsample_bynode=1,\n",
       "                              colsample_bytree=1, enable_categorical=False,\n",
       "                              gamma=0, gpu_id=-1, importance_type=None,\n",
       "                              interaction_constraints=&#x27;&#x27;,\n",
       "                              learning_rate=0.300000012, max_delta_step=0,\n",
       "                              max_depth=6, min_child_weight=1, missing=nan,\n",
       "                              monotone_constraints=&#x27;()&#x27;, n_estimators=100,\n",
       "                              n_jobs=14, num_parallel_tree=1, predictor=&#x27;auto&#x27;,\n",
       "                              random_state=0, reg_alpha=0, reg_lambda=1,\n",
       "                              scale_pos_weight=1, subsample=1,\n",
       "                              tree_method=&#x27;exact&#x27;, validate_parameters=1,\n",
       "                              verbosity=None))])</pre></div></div></div><div class=\"sk-serial\"><div class=\"sk-item\"><div class=\"sk-estimator sk-toggleable\"><input class=\"sk-toggleable__control sk-hidden--visually\" id=\"sk-estimator-id-15\" type=\"checkbox\" ><label for=\"sk-estimator-id-15\" class=\"sk-toggleable__label sk-toggleable__label-arrow\">XGBRegressor</label><div class=\"sk-toggleable__content\"><pre>XGBRegressor(base_score=0.5, booster=&#x27;gbtree&#x27;, colsample_bylevel=1,\n",
       "             colsample_bynode=1, colsample_bytree=1, enable_categorical=False,\n",
       "             gamma=0, gpu_id=-1, importance_type=None,\n",
       "             interaction_constraints=&#x27;&#x27;, learning_rate=0.300000012,\n",
       "             max_delta_step=0, max_depth=6, min_child_weight=1, missing=nan,\n",
       "             monotone_constraints=&#x27;()&#x27;, n_estimators=100, n_jobs=14,\n",
       "             num_parallel_tree=1, predictor=&#x27;auto&#x27;, random_state=0, reg_alpha=0,\n",
       "             reg_lambda=1, scale_pos_weight=1, subsample=1, tree_method=&#x27;exact&#x27;,\n",
       "             validate_parameters=1, verbosity=None)</pre></div></div></div></div></div></div></div>"
      ],
      "text/plain": [
       "Pipeline(steps=[('XGBoost',\n",
       "                 XGBRegressor(base_score=0.5, booster='gbtree',\n",
       "                              colsample_bylevel=1, colsample_bynode=1,\n",
       "                              colsample_bytree=1, enable_categorical=False,\n",
       "                              gamma=0, gpu_id=-1, importance_type=None,\n",
       "                              interaction_constraints='',\n",
       "                              learning_rate=0.300000012, max_delta_step=0,\n",
       "                              max_depth=6, min_child_weight=1, missing=nan,\n",
       "                              monotone_constraints='()', n_estimators=100,\n",
       "                              n_jobs=14, num_parallel_tree=1, predictor='auto',\n",
       "                              random_state=0, reg_alpha=0, reg_lambda=1,\n",
       "                              scale_pos_weight=1, subsample=1,\n",
       "                              tree_method='exact', validate_parameters=1,\n",
       "                              verbosity=None))])"
      ]
     },
     "execution_count": 112,
     "metadata": {},
     "output_type": "execute_result"
    }
   ],
   "source": [
    "# let's find features for some decent defaults\n",
    "estimator = XGBRegressor()\n",
    "xgb_training_pipe_init = Pipeline([\n",
    "    ('XGBoost', XGBRegressor())\n",
    "])\n",
    "xgb_training_pipe_init.fit(train_X, train_y)"
   ]
  },
  {
   "cell_type": "code",
   "execution_count": 113,
   "metadata": {},
   "outputs": [
    {
     "data": {
      "text/plain": [
       "<AxesSubplot:>"
      ]
     },
     "execution_count": 113,
     "metadata": {},
     "output_type": "execute_result"
    },
    {
     "data": {
      "image/png": "[encoded data removed]",
      "text/plain": [
       "<Figure size 640x480 with 1 Axes>"
      ]
     },
     "metadata": {},
     "output_type": "display_data"
    }
   ],
   "source": [
    "# Understanding the Feature Importance\n",
    "%matplotlib inline\n",
    "imp = pd.DataFrame({'importance': xgb_training_pipe_init['XGBoost'].feature_importances_})\n",
    "imp.index = train_X.columns\n",
    "imp.sort_values('importance',inplace=True)\n",
    "imp.plot(kind='barh')"
   ]
  },
  {
   "cell_type": "code",
   "execution_count": 114,
   "metadata": {},
   "outputs": [],
   "source": [
    "# let's find features for some decent defaults\n",
    "imp_features = ['model_family','sku','unit_cost','condition','brand','business_unit']\n",
    "\n",
    "estimator = XGBRegressor()\n",
    "xgb_training_pipe2 = Pipeline([\n",
    "    ('', FunctionTransformer(_custom_data_transform)),\n",
    "    ('XGBoost', XGBRegressor())\n",
    "])"
   ]
  },
  {
   "cell_type": "code",
   "execution_count": 115,
   "metadata": {},
   "outputs": [
    {
     "name": "stdout",
     "output_type": "stream",
     "text": [
      "Fitting 2 folds for each of 1 candidates, totalling 2 fits\n"
     ]
    },
    {
     "name": "stderr",
     "output_type": "stream",
     "text": [
      "/home/paduruvignatejreddy/conda/envs/reg-dev/lib/python3.8/site-packages/xgboost/compat.py:36: FutureWarning: pandas.Int64Index is deprecated and will be removed from pandas in a future version. Use pandas.Index with the appropriate dtype instead.\n",
      "  from pandas import MultiIndex, Int64Index\n",
      "/home/paduruvignatejreddy/conda/envs/reg-dev/lib/python3.8/site-packages/xgboost/compat.py:36: FutureWarning: pandas.Int64Index is deprecated and will be removed from pandas in a future version. Use pandas.Index with the appropriate dtype instead.\n",
      "  from pandas import MultiIndex, Int64Index\n",
      "/home/paduruvignatejreddy/conda/envs/reg-dev/lib/python3.8/site-packages/xgboost/data.py:262: FutureWarning: pandas.Int64Index is deprecated and will be removed from pandas in a future version. Use pandas.Index with the appropriate dtype instead.\n",
      "  elif isinstance(data.columns, (pd.Int64Index, pd.RangeIndex)):\n",
      "/home/paduruvignatejreddy/conda/envs/reg-dev/lib/python3.8/site-packages/xgboost/data.py:262: FutureWarning: pandas.Int64Index is deprecated and will be removed from pandas in a future version. Use pandas.Index with the appropriate dtype instead.\n",
      "  elif isinstance(data.columns, (pd.Int64Index, pd.RangeIndex)):\n"
     ]
    },
    {
     "name": "stdout",
     "output_type": "stream",
     "text": [
      "0.8159142949475958\n",
      "{'gamma': 0.03, 'learning_rate': 0.1, 'max_depth': 3, 'min_child_weight': 6, 'n_estimators': 500}\n",
      "CPU times: user 8min 37s, sys: 881 ms, total: 8min 38s\n",
      "Wall time: 5min 28s\n"
     ]
    }
   ],
   "source": [
    "%%time\n",
    "parameters = {\n",
    "   'gamma':[0.03],\n",
    "   'min_child_weight':[6],\n",
    "   'learning_rate':[0.1],\n",
    "   'max_depth':[3],\n",
    "   'n_estimators':[500], \n",
    "}\n",
    "est = XGBRegressor()\n",
    "xgb_grid = GridSearchCV(est,\n",
    "                        parameters,\n",
    "                        cv = 2,\n",
    "                        n_jobs = 4,\n",
    "                        verbose=True)\n",
    "\n",
    "xgb_grid.fit(train_X, train_y)\n",
    "\n",
    "print(xgb_grid.best_score_)\n",
    "print(xgb_grid.best_params_)"
   ]
  },
  {
   "cell_type": "code",
   "execution_count": 116,
   "metadata": {},
   "outputs": [
    {
     "data": {
      "text/html": [
       "<style>#sk-container-id-7 {color: black;background-color: white;}#sk-container-id-7 pre{padding: 0;}#sk-container-id-7 div.sk-toggleable {background-color: white;}#sk-container-id-7 label.sk-toggleable__label {cursor: pointer;display: block;width: 100%;margin-bottom: 0;padding: 0.3em;box-sizing: border-box;text-align: center;}#sk-container-id-7 label.sk-toggleable__label-arrow:before {content: \"▸\";float: left;margin-right: 0.25em;color: #696969;}#sk-container-id-7 label.sk-toggleable__label-arrow:hover:before {color: black;}#sk-container-id-7 div.sk-estimator:hover label.sk-toggleable__label-arrow:before {color: black;}#sk-container-id-7 div.sk-toggleable__content {max-height: 0;max-width: 0;overflow: hidden;text-align: left;background-color: #f0f8ff;}#sk-container-id-7 div.sk-toggleable__content pre {margin: 0.2em;color: black;border-radius: 0.25em;background-color: #f0f8ff;}#sk-container-id-7 input.sk-toggleable__control:checked~div.sk-toggleable__content {max-height: 200px;max-width: 100%;overflow: auto;}#sk-container-id-7 input.sk-toggleable__control:checked~label.sk-toggleable__label-arrow:before {content: \"▾\";}#sk-container-id-7 div.sk-estimator input.sk-toggleable__control:checked~label.sk-toggleable__label {background-color: #d4ebff;}#sk-container-id-7 div.sk-label input.sk-toggleable__control:checked~label.sk-toggleable__label {background-color: #d4ebff;}#sk-container-id-7 input.sk-hidden--visually {border: 0;clip: rect(1px 1px 1px 1px);clip: rect(1px, 1px, 1px, 1px);height: 1px;margin: -1px;overflow: hidden;padding: 0;position: absolute;width: 1px;}#sk-container-id-7 div.sk-estimator {font-family: monospace;background-color: #f0f8ff;border: 1px dotted black;border-radius: 0.25em;box-sizing: border-box;margin-bottom: 0.5em;}#sk-container-id-7 div.sk-estimator:hover {background-color: #d4ebff;}#sk-container-id-7 div.sk-parallel-item::after {content: \"\";width: 100%;border-bottom: 1px solid gray;flex-grow: 1;}#sk-container-id-7 div.sk-label:hover label.sk-toggleable__label {background-color: #d4ebff;}#sk-container-id-7 div.sk-serial::before {content: \"\";position: absolute;border-left: 1px solid gray;box-sizing: border-box;top: 0;bottom: 0;left: 50%;z-index: 0;}#sk-container-id-7 div.sk-serial {display: flex;flex-direction: column;align-items: center;background-color: white;padding-right: 0.2em;padding-left: 0.2em;position: relative;}#sk-container-id-7 div.sk-item {position: relative;z-index: 1;}#sk-container-id-7 div.sk-parallel {display: flex;align-items: stretch;justify-content: center;background-color: white;position: relative;}#sk-container-id-7 div.sk-item::before, #sk-container-id-7 div.sk-parallel-item::before {content: \"\";position: absolute;border-left: 1px solid gray;box-sizing: border-box;top: 0;bottom: 0;left: 50%;z-index: -1;}#sk-container-id-7 div.sk-parallel-item {display: flex;flex-direction: column;z-index: 1;position: relative;background-color: white;}#sk-container-id-7 div.sk-parallel-item:first-child::after {align-self: flex-end;width: 50%;}#sk-container-id-7 div.sk-parallel-item:last-child::after {align-self: flex-start;width: 50%;}#sk-container-id-7 div.sk-parallel-item:only-child::after {width: 0;}#sk-container-id-7 div.sk-dashed-wrapped {border: 1px dashed gray;margin: 0 0.4em 0.5em 0.4em;box-sizing: border-box;padding-bottom: 0.4em;background-color: white;}#sk-container-id-7 div.sk-label label {font-family: monospace;font-weight: bold;display: inline-block;line-height: 1.2em;}#sk-container-id-7 div.sk-label-container {text-align: center;}#sk-container-id-7 div.sk-container {/* jupyter's `normalize.less` sets `[hidden] { display: none; }` but bootstrap.min.css set `[hidden] { display: none !important; }` so we also need the `!important` here to be able to override the default hidden behavior on the sphinx rendered scikit-learn.org. See: https://github.com/scikit-learn/scikit-learn/issues/21755 */display: inline-block !important;position: relative;}#sk-container-id-7 div.sk-text-repr-fallback {display: none;}</style><div id=\"sk-container-id-7\" class=\"sk-top-container\"><div class=\"sk-text-repr-fallback\"><pre>Pipeline(steps=[(&#x27;&#x27;,\n",
       "                 FunctionTransformer(func=&lt;function _custom_data_transform at 0x7f4211a42160&gt;)),\n",
       "                (&#x27;XGBoost&#x27;,\n",
       "                 XGBRegressor(base_score=0.5, booster=&#x27;gbtree&#x27;,\n",
       "                              colsample_bylevel=1, colsample_bynode=1,\n",
       "                              colsample_bytree=1, enable_categorical=False,\n",
       "                              gamma=0.03, gpu_id=-1, importance_type=None,\n",
       "                              interaction_constraints=&#x27;&#x27;, learning_rate=0.1,\n",
       "                              max_delta_step=0, max_depth=3, min_child_weight=6,\n",
       "                              missing=nan, monotone_constraints=&#x27;()&#x27;,\n",
       "                              n_estimators=500, n_jobs=14, num_parallel_tree=1,\n",
       "                              predictor=&#x27;auto&#x27;, random_state=0, reg_alpha=0,\n",
       "                              reg_lambda=1, scale_pos_weight=1, subsample=1,\n",
       "                              tree_method=&#x27;exact&#x27;, validate_parameters=1,\n",
       "                              verbosity=None))])</pre><b>In a Jupyter environment, please rerun this cell to show the HTML representation or trust the notebook. <br />On GitHub, the HTML representation is unable to render, please try loading this page with nbviewer.org.</b></div><div class=\"sk-container\" hidden><div class=\"sk-item sk-dashed-wrapped\"><div class=\"sk-label-container\"><div class=\"sk-label sk-toggleable\"><input class=\"sk-toggleable__control sk-hidden--visually\" id=\"sk-estimator-id-16\" type=\"checkbox\" ><label for=\"sk-estimator-id-16\" class=\"sk-toggleable__label sk-toggleable__label-arrow\">Pipeline</label><div class=\"sk-toggleable__content\"><pre>Pipeline(steps=[(&#x27;&#x27;,\n",
       "                 FunctionTransformer(func=&lt;function _custom_data_transform at 0x7f4211a42160&gt;)),\n",
       "                (&#x27;XGBoost&#x27;,\n",
       "                 XGBRegressor(base_score=0.5, booster=&#x27;gbtree&#x27;,\n",
       "                              colsample_bylevel=1, colsample_bynode=1,\n",
       "                              colsample_bytree=1, enable_categorical=False,\n",
       "                              gamma=0.03, gpu_id=-1, importance_type=None,\n",
       "                              interaction_constraints=&#x27;&#x27;, learning_rate=0.1,\n",
       "                              max_delta_step=0, max_depth=3, min_child_weight=6,\n",
       "                              missing=nan, monotone_constraints=&#x27;()&#x27;,\n",
       "                              n_estimators=500, n_jobs=14, num_parallel_tree=1,\n",
       "                              predictor=&#x27;auto&#x27;, random_state=0, reg_alpha=0,\n",
       "                              reg_lambda=1, scale_pos_weight=1, subsample=1,\n",
       "                              tree_method=&#x27;exact&#x27;, validate_parameters=1,\n",
       "                              verbosity=None))])</pre></div></div></div><div class=\"sk-serial\"><div class=\"sk-item\"><div class=\"sk-estimator sk-toggleable\"><input class=\"sk-toggleable__control sk-hidden--visually\" id=\"sk-estimator-id-17\" type=\"checkbox\" ><label for=\"sk-estimator-id-17\" class=\"sk-toggleable__label sk-toggleable__label-arrow\">FunctionTransformer</label><div class=\"sk-toggleable__content\"><pre>FunctionTransformer(func=&lt;function _custom_data_transform at 0x7f4211a42160&gt;)</pre></div></div></div><div class=\"sk-item\"><div class=\"sk-estimator sk-toggleable\"><input class=\"sk-toggleable__control sk-hidden--visually\" id=\"sk-estimator-id-18\" type=\"checkbox\" ><label for=\"sk-estimator-id-18\" class=\"sk-toggleable__label sk-toggleable__label-arrow\">XGBRegressor</label><div class=\"sk-toggleable__content\"><pre>XGBRegressor(base_score=0.5, booster=&#x27;gbtree&#x27;, colsample_bylevel=1,\n",
       "             colsample_bynode=1, colsample_bytree=1, enable_categorical=False,\n",
       "             gamma=0.03, gpu_id=-1, importance_type=None,\n",
       "             interaction_constraints=&#x27;&#x27;, learning_rate=0.1, max_delta_step=0,\n",
       "             max_depth=3, min_child_weight=6, missing=nan,\n",
       "             monotone_constraints=&#x27;()&#x27;, n_estimators=500, n_jobs=14,\n",
       "             num_parallel_tree=1, predictor=&#x27;auto&#x27;, random_state=0, reg_alpha=0,\n",
       "             reg_lambda=1, scale_pos_weight=1, subsample=1, tree_method=&#x27;exact&#x27;,\n",
       "             validate_parameters=1, verbosity=None)</pre></div></div></div></div></div></div></div>"
      ],
      "text/plain": [
       "Pipeline(steps=[('',\n",
       "                 FunctionTransformer(func=<function _custom_data_transform at 0x7f4211a42160>)),\n",
       "                ('XGBoost',\n",
       "                 XGBRegressor(base_score=0.5, booster='gbtree',\n",
       "                              colsample_bylevel=1, colsample_bynode=1,\n",
       "                              colsample_bytree=1, enable_categorical=False,\n",
       "                              gamma=0.03, gpu_id=-1, importance_type=None,\n",
       "                              interaction_constraints='', learning_rate=0.1,\n",
       "                              max_delta_step=0, max_depth=3, min_child_weight=6,\n",
       "                              missing=nan, monotone_constraints='()',\n",
       "                              n_estimators=500, n_jobs=14, num_parallel_tree=1,\n",
       "                              predictor='auto', random_state=0, reg_alpha=0,\n",
       "                              reg_lambda=1, scale_pos_weight=1, subsample=1,\n",
       "                              tree_method='exact', validate_parameters=1,\n",
       "                              verbosity=None))])"
      ]
     },
     "execution_count": 116,
     "metadata": {},
     "output_type": "execute_result"
    }
   ],
   "source": [
    "xgb_pipeline_final = Pipeline([\n",
    "    ('', FunctionTransformer(_custom_data_transform)),\n",
    "    ('XGBoost', xgb_grid.best_estimator_)\n",
    "])\n",
    "xgb_pipeline_final.fit(train_X, train_y)"
   ]
  },
  {
   "cell_type": "code",
   "execution_count": 117,
   "metadata": {},
   "outputs": [],
   "source": [
    "reg_tree_report = RegressionReport(model=xgb_pipeline_final, x_train=train_X, y_train=train_y, x_test= test_X, y_test= test_y)\n",
    "reg_tree_report.get_report(include_shap=False, file_path='reports_new/regression_tree_model_report')"
   ]
  },
  {
   "cell_type": "code",
   "execution_count": 118,
   "metadata": {},
   "outputs": [
    {
     "data": {
      "text/plain": [
       "((16512, 9), (16512, 1))"
      ]
     },
     "execution_count": 118,
     "metadata": {},
     "output_type": "execute_result"
    }
   ],
   "source": [
    "train_X.shape, train_y.shape"
   ]
  }
 ],
 "metadata": {
  "kernelspec": {
   "display_name": "reg-dev",
   "language": "python",
   "name": "python3"
  },
  "language_info": {
   "codemirror_mode": {
    "name": "ipython",
    "version": 3
   },
   "file_extension": ".py",
   "mimetype": "text/x-python",
   "name": "python",
   "nbconvert_exporter": "python",
   "pygments_lexer": "ipython3",
   "version": "3.8.20"
  }
 },
 "nbformat": 4,
 "nbformat_minor": 2
}
